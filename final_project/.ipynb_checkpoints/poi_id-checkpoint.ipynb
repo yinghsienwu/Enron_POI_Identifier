{
 "cells": [
  {
   "cell_type": "markdown",
   "metadata": {},
   "source": [
    "Identify Person of Interests in Enron Scandal\n",
    "========================\n",
    "\n",
    "In 2000, Enron was one of the largest companies in the United States. By 2002, it had collapsed into bankruptcy due to widespread corporate fraud. In the resulting Federal investigation, there was a significant amount of typically confidential information entered into public record, including tens of thousands of emails and detailed financial data for top executives. In this project, I'm going to play detective, and build a person of interest identifier based on financial and email data made public as a result of the Enron scandal.\n",
    "\n",
    "Understanding the Dataset\n",
    "------------------------\n",
    "\n",
    "All available features are classified as POI labels, financial features, and email features:  \n",
    "(1) ['poi']\n",
    "\n",
    "(2) financial features: ['salary', 'deferral_payments', 'total_payments', 'loan_advances',  'bonus','restricted_stock_deferred','deferred_income','total_stock_value', 'expenses', 'exercised_stock_options', 'other','long_term_incentive', 'restricted_stock', 'director_fees']\n",
    "\n",
    "(3) email features: ['to_messages', 'email_address', 'from_poi_to_this_person', 'from_messages', 'from_this_person_to_poi', 'shared_receipt_with_poi']"
   ]
  },
  {
   "cell_type": "code",
   "execution_count": 13,
   "metadata": {
    "collapsed": true
   },
   "outputs": [],
   "source": [
    "#!/usr/bin/python                                                                                                                                \n",
    "\n",
    "import sys\n",
    "import pickle\n",
    "import numpy as np\n",
    "import sklearn\n",
    "import pandas as pd\n",
    "import matplotlib.pyplot as plt\n",
    "%matplotlib inline\n",
    "\n",
    "sys.path.append(\"../tools/\")\n",
    "\n",
    "from feature_format import featureFormat, targetFeatureSplit\n",
    "from tester import dump_classifier_and_data"
   ]
  },
  {
   "cell_type": "code",
   "execution_count": 14,
   "metadata": {
    "collapsed": true
   },
   "outputs": [],
   "source": [
    "### Task 1: Select what features you'll use.                                                                                                     \n",
    "### features_list is a list of strings, each of which is a feature name.                                                                         \n",
    "### The first feature must be \"poi\".                                          \n",
    "\n",
    "features_list = ['poi','salary', 'deferral_payments', 'total_payments', 'loan_advances', 'bonus', 'restricted_stock_deferred',\\\n",
    "                 'deferred_income','total_stock_value', 'expenses', 'exercised_stock_options', 'other',\\\n",
    "                 'long_term_incentive', 'restricted_stock', 'director_fees',\\\n",
    "                 'to_messages', 'email_address', 'from_poi_to_this_person', 'from_messages', 'from_this_person_to_poi',\\\n",
    "                 'shared_receipt_with_poi']  # You will need to use more features                                                                            \n",
    "\n",
    "### Load the dictionary containing the dataset                                                                                                   \n",
    "with open(\"final_project_dataset.pkl\", \"r\") as data_file:\n",
    "    data_dict = pickle.load(data_file)\n",
    "    "
   ]
  },
  {
   "cell_type": "code",
   "execution_count": 18,
   "metadata": {
    "collapsed": false
   },
   "outputs": [
    {
     "name": "stdout",
     "output_type": "stream",
     "text": [
      "{'salary': 365788, 'to_messages': 807, 'deferral_payments': 'NaN', 'total_payments': 1061827, 'exercised_stock_options': 'NaN', 'bonus': 600000, 'restricted_stock': 585062, 'shared_receipt_with_poi': 702, 'restricted_stock_deferred': 'NaN', 'total_stock_value': 585062, 'expenses': 94299, 'loan_advances': 'NaN', 'from_messages': 29, 'other': 1740, 'from_this_person_to_poi': 1, 'poi': False, 'director_fees': 'NaN', 'deferred_income': 'NaN', 'long_term_incentive': 'NaN', 'email_address': 'mark.metts@enron.com', 'from_poi_to_this_person': 38}\n"
     ]
    }
   ],
   "source": [
    "print data_dict['METTS MARK']"
   ]
  },
  {
   "cell_type": "markdown",
   "metadata": {},
   "source": [
    "Let me reformat data into pandas dataframe.  "
   ]
  },
  {
   "cell_type": "code",
   "execution_count": 21,
   "metadata": {
    "collapsed": false,
    "scrolled": true
   },
   "outputs": [
    {
     "name": "stdout",
     "output_type": "stream",
     "text": [
      "     bonus deferral_payments deferred_income director_fees  \\\n",
      "0   600000               NaN             NaN           NaN   \n",
      "1  1200000           1295738        -1386055           NaN   \n",
      "2   350000               NaN         -400729           NaN   \n",
      "3      NaN               NaN             NaN           NaN   \n",
      "4  1500000               NaN        -3117011           NaN   \n",
      "\n",
      "              email_address exercised_stock_options expenses from_messages  \\\n",
      "0      mark.metts@enron.com                     NaN    94299            29   \n",
      "1                       NaN                 6680544    11200           NaN   \n",
      "2  steven.elliott@enron.com                 4890344    78552           NaN   \n",
      "3     bill.cordes@enron.com                  651850      NaN            12   \n",
      "4    kevin.hannon@enron.com                 5538001    34039            32   \n",
      "\n",
      "  from_poi_to_this_person from_this_person_to_poi        ...         \\\n",
      "0                      38                       1        ...          \n",
      "1                     NaN                     NaN        ...          \n",
      "2                     NaN                     NaN        ...          \n",
      "3                      10                       0        ...          \n",
      "4                      32                      21        ...          \n",
      "\n",
      "  long_term_incentive    other    poi restricted_stock  \\\n",
      "0                 NaN     1740  False           585062   \n",
      "1             1586055  2660303  False          3942714   \n",
      "2                 NaN    12961  False          1788391   \n",
      "3                 NaN      NaN  False           386335   \n",
      "4             1617011    11350   True           853064   \n",
      "\n",
      "  restricted_stock_deferred  salary shared_receipt_with_poi to_messages  \\\n",
      "0                       NaN  365788                     702         807   \n",
      "1                       NaN  267102                     NaN         NaN   \n",
      "2                       NaN  170941                     NaN         NaN   \n",
      "3                       NaN     NaN                      58         764   \n",
      "4                       NaN  243293                    1035        1045   \n",
      "\n",
      "  total_payments total_stock_value  \n",
      "0        1061827            585062  \n",
      "1        5634343          10623258  \n",
      "2         211725           6678735  \n",
      "3            NaN           1038185  \n",
      "4         288682           6391065  \n",
      "\n",
      "[5 rows x 21 columns]\n"
     ]
    }
   ],
   "source": [
    "df=pd.DataFrame.from_records(list(data_dict.values()))\n",
    "names=pd.Series(list(data_dict.keys()))\n",
    "print df.head()"
   ]
  },
  {
   "cell_type": "code",
   "execution_count": 34,
   "metadata": {
    "collapsed": false
   },
   "outputs": [
    {
     "name": "stdout",
     "output_type": "stream",
     "text": [
      "Numbers of non NaN data in each feature?\n",
      "146 \tpoi\n",
      "95 \tsalary\n",
      "86 \tto_messages\n",
      "39 \tdeferral_payments\n",
      "125 \ttotal_payments\n",
      "102 \texercised_stock_options\n",
      "82 \tbonus\n",
      "110 \trestricted_stock\n",
      "18 \trestricted_stock_deferred\n",
      "4 \tloan_advances\n",
      "49 \tdeferred_income\n",
      "126 \ttotal_stock_value\n",
      "95 \texpenses\n",
      "93 \tother\n",
      "66 \tlong_term_incentive\n",
      "17 \tdirector_fees\n",
      "86 \tfrom_poi_to_this_person\n",
      "86 \tfrom_messages\n",
      "86 \tfrom_this_person_to_poi\n",
      "86 \tshared_receipt_with_poi\n",
      "111 \temail_address\n"
     ]
    }
   ],
   "source": [
    "allfeatures = ['poi','salary','to_messages', 'deferral_payments', 'total_payments', 'exercised_stock_options',\\\n",
    "                 'bonus', 'restricted_stock','restricted_stock_deferred', 'loan_advances',\\\n",
    "                'deferred_income','total_stock_value', 'expenses', 'other', 'long_term_incentive',\\\n",
    "                 'director_fees', 'from_poi_to_this_person', 'from_messages',\\\n",
    "                'from_this_person_to_poi','shared_receipt_with_poi', 'email_address'] \n",
    "\n",
    "ct=[0] * 21\n",
    "for name in data_dict:   \n",
    "    for j in range(0,21):\n",
    "        if data_dict[name][allfeatures[j]]!='NaN':\n",
    "            ct[j-1]+=1\n",
    "\n",
    "            \n",
    "print \"Numbers of non NaN data in each feature?\"   \n",
    "for i in range(0,21):\n",
    "    print  ct[i-1],\"\\t\", allfeatures[i] "
   ]
  },
  {
   "cell_type": "markdown",
   "metadata": {},
   "source": [
    "We can see that several features have missing elements. Let's drop the features with <=80 (can be tuned) non NaN elements. "
   ]
  },
  {
   "cell_type": "code",
   "execution_count": 26,
   "metadata": {
    "collapsed": false
   },
   "outputs": [
    {
     "name": "stdout",
     "output_type": "stream",
     "text": [
      "6 ['deferral_payments', 'restricted_stock_deferred', 'loan_advances', 'deferred_income', 'long_term_incentive', 'director_fees']\n",
      "     bonus exercised_stock_options expenses from_messages  \\\n",
      "0   600000                     NaN    94299            29   \n",
      "1  1200000                 6680544    11200           NaN   \n",
      "2   350000                 4890344    78552           NaN   \n",
      "3      NaN                  651850      NaN            12   \n",
      "4  1500000                 5538001    34039            32   \n",
      "\n",
      "  from_poi_to_this_person from_this_person_to_poi    other    poi  \\\n",
      "0                      38                       1     1740  False   \n",
      "1                     NaN                     NaN  2660303  False   \n",
      "2                     NaN                     NaN    12961  False   \n",
      "3                      10                       0      NaN  False   \n",
      "4                      32                      21    11350   True   \n",
      "\n",
      "  restricted_stock  salary shared_receipt_with_poi to_messages total_payments  \\\n",
      "0           585062  365788                     702         807        1061827   \n",
      "1          3942714  267102                     NaN         NaN        5634343   \n",
      "2          1788391  170941                     NaN         NaN         211725   \n",
      "3           386335     NaN                      58         764            NaN   \n",
      "4           853064  243293                    1035        1045         288682   \n",
      "\n",
      "  total_stock_value  \n",
      "0            585062  \n",
      "1          10623258  \n",
      "2           6678735  \n",
      "3           1038185  \n",
      "4           6391065  \n"
     ]
    }
   ],
   "source": [
    "drop_list=[]\n",
    "for i in range(0,21):\n",
    "    if ct[i-1]<=80:\n",
    "        a=allfeatures[i]\n",
    "        drop_list.append(a)\n",
    "\n",
    "print len(drop_list),drop_list\n",
    "if drop_list in list(df.columns.values):\n",
    "    df.drop(drop_list,axis=1,inplace=True)\n",
    "if 'email_address' in list(df.columns.values):\n",
    "    df.drop(['email_address'],axis=1,inplace=True)\n",
    "print df.head()"
   ]
  },
  {
   "cell_type": "markdown",
   "metadata": {},
   "source": [
    "Handling 'NaN' and outliers\n",
    "-------------------------"
   ]
  },
  {
   "cell_type": "code",
   "execution_count": 28,
   "metadata": {
    "collapsed": false
   },
   "outputs": [
    {
     "data": {
      "text/html": [
       "<div>\n",
       "<table border=\"1\" class=\"dataframe\">\n",
       "  <thead>\n",
       "    <tr style=\"text-align: right;\">\n",
       "      <th></th>\n",
       "      <th>bonus</th>\n",
       "      <th>exercised_stock_options</th>\n",
       "      <th>expenses</th>\n",
       "      <th>from_messages</th>\n",
       "      <th>from_poi_to_this_person</th>\n",
       "      <th>from_this_person_to_poi</th>\n",
       "      <th>other</th>\n",
       "      <th>restricted_stock</th>\n",
       "      <th>salary</th>\n",
       "      <th>shared_receipt_with_poi</th>\n",
       "      <th>to_messages</th>\n",
       "      <th>total_payments</th>\n",
       "      <th>total_stock_value</th>\n",
       "    </tr>\n",
       "  </thead>\n",
       "  <tbody>\n",
       "    <tr>\n",
       "      <th>count</th>\n",
       "      <td>1.460000e+02</td>\n",
       "      <td>1.460000e+02</td>\n",
       "      <td>1.460000e+02</td>\n",
       "      <td>146.000000</td>\n",
       "      <td>146.000000</td>\n",
       "      <td>146.000000</td>\n",
       "      <td>1.460000e+02</td>\n",
       "      <td>1.460000e+02</td>\n",
       "      <td>1.460000e+02</td>\n",
       "      <td>146.000000</td>\n",
       "      <td>146.000000</td>\n",
       "      <td>1.460000e+02</td>\n",
       "      <td>1.460000e+02</td>\n",
       "    </tr>\n",
       "    <tr>\n",
       "      <th>mean</th>\n",
       "      <td>1.333474e+06</td>\n",
       "      <td>4.182736e+06</td>\n",
       "      <td>7.074827e+04</td>\n",
       "      <td>358.602740</td>\n",
       "      <td>38.226027</td>\n",
       "      <td>24.287671</td>\n",
       "      <td>5.854318e+05</td>\n",
       "      <td>1.749257e+06</td>\n",
       "      <td>3.658114e+05</td>\n",
       "      <td>692.986301</td>\n",
       "      <td>1221.589041</td>\n",
       "      <td>4.350622e+06</td>\n",
       "      <td>5.846018e+06</td>\n",
       "    </tr>\n",
       "    <tr>\n",
       "      <th>std</th>\n",
       "      <td>8.094029e+06</td>\n",
       "      <td>2.607040e+07</td>\n",
       "      <td>4.327163e+05</td>\n",
       "      <td>1441.259868</td>\n",
       "      <td>73.901124</td>\n",
       "      <td>79.278206</td>\n",
       "      <td>3.682345e+06</td>\n",
       "      <td>1.089995e+07</td>\n",
       "      <td>2.203575e+06</td>\n",
       "      <td>1072.969492</td>\n",
       "      <td>2226.770637</td>\n",
       "      <td>2.693448e+07</td>\n",
       "      <td>3.624681e+07</td>\n",
       "    </tr>\n",
       "    <tr>\n",
       "      <th>min</th>\n",
       "      <td>0.000000e+00</td>\n",
       "      <td>0.000000e+00</td>\n",
       "      <td>0.000000e+00</td>\n",
       "      <td>0.000000</td>\n",
       "      <td>0.000000</td>\n",
       "      <td>0.000000</td>\n",
       "      <td>0.000000e+00</td>\n",
       "      <td>-2.604490e+06</td>\n",
       "      <td>0.000000e+00</td>\n",
       "      <td>0.000000</td>\n",
       "      <td>0.000000</td>\n",
       "      <td>0.000000e+00</td>\n",
       "      <td>-4.409300e+04</td>\n",
       "    </tr>\n",
       "    <tr>\n",
       "      <th>25%</th>\n",
       "      <td>0.000000e+00</td>\n",
       "      <td>0.000000e+00</td>\n",
       "      <td>0.000000e+00</td>\n",
       "      <td>0.000000</td>\n",
       "      <td>0.000000</td>\n",
       "      <td>0.000000</td>\n",
       "      <td>0.000000e+00</td>\n",
       "      <td>8.115000e+03</td>\n",
       "      <td>0.000000e+00</td>\n",
       "      <td>0.000000</td>\n",
       "      <td>0.000000</td>\n",
       "      <td>9.394475e+04</td>\n",
       "      <td>2.288695e+05</td>\n",
       "    </tr>\n",
       "    <tr>\n",
       "      <th>50%</th>\n",
       "      <td>3.000000e+05</td>\n",
       "      <td>6.082935e+05</td>\n",
       "      <td>2.018200e+04</td>\n",
       "      <td>16.500000</td>\n",
       "      <td>2.500000</td>\n",
       "      <td>0.000000</td>\n",
       "      <td>9.595000e+02</td>\n",
       "      <td>3.605280e+05</td>\n",
       "      <td>2.105960e+05</td>\n",
       "      <td>102.500000</td>\n",
       "      <td>289.000000</td>\n",
       "      <td>9.413595e+05</td>\n",
       "      <td>9.659550e+05</td>\n",
       "    </tr>\n",
       "    <tr>\n",
       "      <th>75%</th>\n",
       "      <td>8.000000e+05</td>\n",
       "      <td>1.714221e+06</td>\n",
       "      <td>5.374075e+04</td>\n",
       "      <td>51.250000</td>\n",
       "      <td>40.750000</td>\n",
       "      <td>13.750000</td>\n",
       "      <td>1.506065e+05</td>\n",
       "      <td>8.145280e+05</td>\n",
       "      <td>2.708505e+05</td>\n",
       "      <td>893.500000</td>\n",
       "      <td>1585.750000</td>\n",
       "      <td>1.968287e+06</td>\n",
       "      <td>2.319991e+06</td>\n",
       "    </tr>\n",
       "    <tr>\n",
       "      <th>max</th>\n",
       "      <td>9.734362e+07</td>\n",
       "      <td>3.117640e+08</td>\n",
       "      <td>5.235198e+06</td>\n",
       "      <td>14368.000000</td>\n",
       "      <td>528.000000</td>\n",
       "      <td>609.000000</td>\n",
       "      <td>4.266759e+07</td>\n",
       "      <td>1.303223e+08</td>\n",
       "      <td>2.670423e+07</td>\n",
       "      <td>5521.000000</td>\n",
       "      <td>15149.000000</td>\n",
       "      <td>3.098866e+08</td>\n",
       "      <td>4.345095e+08</td>\n",
       "    </tr>\n",
       "  </tbody>\n",
       "</table>\n",
       "</div>"
      ],
      "text/plain": [
       "              bonus  exercised_stock_options      expenses  from_messages  \\\n",
       "count  1.460000e+02             1.460000e+02  1.460000e+02     146.000000   \n",
       "mean   1.333474e+06             4.182736e+06  7.074827e+04     358.602740   \n",
       "std    8.094029e+06             2.607040e+07  4.327163e+05    1441.259868   \n",
       "min    0.000000e+00             0.000000e+00  0.000000e+00       0.000000   \n",
       "25%    0.000000e+00             0.000000e+00  0.000000e+00       0.000000   \n",
       "50%    3.000000e+05             6.082935e+05  2.018200e+04      16.500000   \n",
       "75%    8.000000e+05             1.714221e+06  5.374075e+04      51.250000   \n",
       "max    9.734362e+07             3.117640e+08  5.235198e+06   14368.000000   \n",
       "\n",
       "       from_poi_to_this_person  from_this_person_to_poi         other  \\\n",
       "count               146.000000               146.000000  1.460000e+02   \n",
       "mean                 38.226027                24.287671  5.854318e+05   \n",
       "std                  73.901124                79.278206  3.682345e+06   \n",
       "min                   0.000000                 0.000000  0.000000e+00   \n",
       "25%                   0.000000                 0.000000  0.000000e+00   \n",
       "50%                   2.500000                 0.000000  9.595000e+02   \n",
       "75%                  40.750000                13.750000  1.506065e+05   \n",
       "max                 528.000000               609.000000  4.266759e+07   \n",
       "\n",
       "       restricted_stock        salary  shared_receipt_with_poi   to_messages  \\\n",
       "count      1.460000e+02  1.460000e+02               146.000000    146.000000   \n",
       "mean       1.749257e+06  3.658114e+05               692.986301   1221.589041   \n",
       "std        1.089995e+07  2.203575e+06              1072.969492   2226.770637   \n",
       "min       -2.604490e+06  0.000000e+00                 0.000000      0.000000   \n",
       "25%        8.115000e+03  0.000000e+00                 0.000000      0.000000   \n",
       "50%        3.605280e+05  2.105960e+05               102.500000    289.000000   \n",
       "75%        8.145280e+05  2.708505e+05               893.500000   1585.750000   \n",
       "max        1.303223e+08  2.670423e+07              5521.000000  15149.000000   \n",
       "\n",
       "       total_payments  total_stock_value  \n",
       "count    1.460000e+02       1.460000e+02  \n",
       "mean     4.350622e+06       5.846018e+06  \n",
       "std      2.693448e+07       3.624681e+07  \n",
       "min      0.000000e+00      -4.409300e+04  \n",
       "25%      9.394475e+04       2.288695e+05  \n",
       "50%      9.413595e+05       9.659550e+05  \n",
       "75%      1.968287e+06       2.319991e+06  \n",
       "max      3.098866e+08       4.345095e+08  "
      ]
     },
     "execution_count": 28,
     "metadata": {},
     "output_type": "execute_result"
    }
   ],
   "source": [
    "df_imp=df.replace(to_replace='NaN',value=0)\n",
    "df_imp.describe()"
   ]
  },
  {
   "cell_type": "markdown",
   "metadata": {},
   "source": [
    "By comparing max and .75 quantile we can figure out if there are outliers. It is not very obvious so let's explore the names. "
   ]
  },
  {
   "cell_type": "code",
   "execution_count": 30,
   "metadata": {
    "collapsed": false
   },
   "outputs": [
    {
     "name": "stdout",
     "output_type": "stream",
     "text": [
      "['METTS MARK', 'BAXTER JOHN C', 'ELLIOTT STEVEN', 'CORDES WILLIAM R', 'HANNON KEVIN P', 'MORDAUNT KRISTINA M', 'MEYER ROCKFORD G', 'MCMAHON JEFFREY', 'HORTON STANLEY C', 'PIPER GREGORY F', 'HUMPHREY GENE E', 'UMANOFF ADAM S', 'BLACHMAN JEREMY M', 'SUNDE MARTIN', 'GIBBS DANA R', 'LOWRY CHARLES P', 'COLWELL WESLEY', 'MULLER MARK S', 'JACKSON CHARLENE R', 'WESTFAHL RICHARD K', 'WALTERS GARETH W', 'WALLS JR ROBERT H', 'KITCHEN LOUISE', 'CHAN RONNIE', 'BELFER ROBERT', 'SHANKMAN JEFFREY A', 'WODRASKA JOHN', 'BERGSIEKER RICHARD P', 'URQUHART JOHN A', 'BIBI PHILIPPE A', 'RIEKER PAULA H', 'WHALEY DAVID A', 'BECK SALLY W', 'HAUG DAVID L', 'ECHOLS JOHN B', 'MENDELSOHN JOHN', 'HICKERSON GARY J', 'CLINE KENNETH W', 'LEWIS RICHARD', 'HAYES ROBERT E', 'MCCARTY DANNY J', 'KOPPER MICHAEL J', 'LEFF DANIEL P', 'LAVORATO JOHN J', 'BERBERIAN DAVID', 'DETMERING TIMOTHY J', 'WAKEHAM JOHN', 'POWERS WILLIAM', 'GOLD JOSEPH', 'BANNANTINE JAMES M', 'DUNCAN JOHN H', 'SHAPIRO RICHARD S', 'SHERRIFF JOHN R', 'SHELBY REX', 'LEMAISTRE CHARLES', 'DEFFNER JOSEPH M', 'KISHKILL JOSEPH G', 'WHALLEY LAWRENCE G', 'MCCONNELL MICHAEL S', 'PIRO JIM', 'DELAINEY DAVID W', 'SULLIVAN-SHAKLOVITZ COLLEEN', 'WROBEL BRUCE', 'LINDHOLM TOD A', 'MEYER JEROME J', 'LAY KENNETH L', 'BUTTS ROBERT H', 'OLSON CINDY K', 'MCDONALD REBECCA', 'CUMBERLAND MICHAEL S', 'GAHN ROBERT S', 'MCCLELLAN GEORGE', 'HERMANN ROBERT J', 'SCRIMSHAW MATTHEW', 'GATHMANN WILLIAM D', 'HAEDICKE MARK E', 'BOWEN JR RAYMOND M', 'GILLIS JOHN', 'FITZGERALD JAY L', 'MORAN MICHAEL P', 'REDMOND BRIAN L', 'BAZELIDES PHILIP J', 'BELDEN TIMOTHY N', 'DURAN WILLIAM D', 'THORN TERENCE H', 'FASTOW ANDREW S', 'FOY JOE', 'CALGER CHRISTOPHER F', 'RICE KENNETH D', 'KAMINSKI WINCENTY J', 'LOCKHART EUGENE E', 'COX DAVID', 'OVERDYKE JR JERE C', 'PEREIRA PAULO V. FERRAZ', 'STABLER FRANK', 'SKILLING JEFFREY K', 'BLAKE JR. NORMAN P', 'SHERRICK JEFFREY B', 'PRENTICE JAMES', 'GRAY RODNEY', 'PICKERING MARK R', 'THE TRAVEL AGENCY IN THE PARK', 'NOLES JAMES L', 'KEAN STEVEN J', 'TOTAL', 'FOWLER PEGGY', 'WASAFF GEORGE', 'WHITE JR THOMAS E', 'CHRISTODOULOU DIOMEDES', 'ALLEN PHILLIP K', 'SHARP VICTORIA T', 'JAEDICKE ROBERT', 'WINOKUR JR. HERBERT S', 'BROWN MICHAEL', 'BADUM JAMES P', 'HUGHES JAMES A', 'REYNOLDS LAWRENCE', 'DIMICHELE RICHARD G', 'BHATNAGAR SANJAY', 'CARTER REBECCA C', 'BUCHANAN HAROLD G', 'YEAP SOON', 'MURRAY JULIA H', 'GARLAND C KEVIN', 'DODSON KEITH', 'YEAGER F SCOTT', 'HIRKO JOSEPH', 'DIETRICH JANET R', 'DERRICK JR. JAMES V', 'FREVERT MARK A', 'PAI LOU L', 'BAY FRANKLIN R', 'HAYSLETT RODERICK J', 'FUGH JOHN L', 'FALLON JAMES B', 'KOENIG MARK E', 'SAVAGE FRANK', 'IZZO LAWRENCE L', 'TILNEY ELIZABETH A', 'MARTIN AMANDA K', 'BUY RICHARD B', 'GRAMM WENDY L', 'CAUSEY RICHARD A', 'TAYLOR MITCHELL S', 'DONAHUE JR JEFFREY M', 'GLISAN JR BEN F']\n"
     ]
    }
   ],
   "source": [
    "print data_dict.keys()"
   ]
  },
  {
   "cell_type": "markdown",
   "metadata": {},
   "source": [
    "Let's remove 'TOTAL' and 'THE TRAVEL AGENCY IN THE PARK'. "
   ]
  },
  {
   "cell_type": "code",
   "execution_count": 72,
   "metadata": {
    "collapsed": false
   },
   "outputs": [
    {
     "data": {
      "text/html": [
       "<div>\n",
       "<table border=\"1\" class=\"dataframe\">\n",
       "  <thead>\n",
       "    <tr style=\"text-align: right;\">\n",
       "      <th></th>\n",
       "      <th>bonus</th>\n",
       "      <th>exercised_stock_options</th>\n",
       "      <th>expenses</th>\n",
       "      <th>from_messages</th>\n",
       "      <th>from_poi_to_this_person</th>\n",
       "      <th>from_this_person_to_poi</th>\n",
       "      <th>other</th>\n",
       "      <th>restricted_stock</th>\n",
       "      <th>salary</th>\n",
       "      <th>shared_receipt_with_poi</th>\n",
       "      <th>to_messages</th>\n",
       "      <th>total_payments</th>\n",
       "      <th>total_stock_value</th>\n",
       "    </tr>\n",
       "  </thead>\n",
       "  <tbody>\n",
       "    <tr>\n",
       "      <th>count</th>\n",
       "      <td>1.440000e+02</td>\n",
       "      <td>1.440000e+02</td>\n",
       "      <td>144.000000</td>\n",
       "      <td>144.000000</td>\n",
       "      <td>144.000000</td>\n",
       "      <td>144.000000</td>\n",
       "      <td>1.440000e+02</td>\n",
       "      <td>1.440000e+02</td>\n",
       "      <td>1.440000e+02</td>\n",
       "      <td>144.000000</td>\n",
       "      <td>144.000000</td>\n",
       "      <td>1.440000e+02</td>\n",
       "      <td>1.440000e+02</td>\n",
       "    </tr>\n",
       "    <tr>\n",
       "      <th>mean</th>\n",
       "      <td>6.759974e+05</td>\n",
       "      <td>2.075802e+06</td>\n",
       "      <td>35375.340278</td>\n",
       "      <td>363.583333</td>\n",
       "      <td>38.756944</td>\n",
       "      <td>24.625000</td>\n",
       "      <td>2.947455e+05</td>\n",
       "      <td>8.685363e+05</td>\n",
       "      <td>1.854460e+05</td>\n",
       "      <td>702.611111</td>\n",
       "      <td>1238.555556</td>\n",
       "      <td>2.256543e+06</td>\n",
       "      <td>2.909786e+06</td>\n",
       "    </tr>\n",
       "    <tr>\n",
       "      <th>std</th>\n",
       "      <td>1.233155e+06</td>\n",
       "      <td>4.795513e+06</td>\n",
       "      <td>45309.303038</td>\n",
       "      <td>1450.675239</td>\n",
       "      <td>74.276769</td>\n",
       "      <td>79.778266</td>\n",
       "      <td>1.131325e+06</td>\n",
       "      <td>2.016572e+06</td>\n",
       "      <td>1.970421e+05</td>\n",
       "      <td>1077.290736</td>\n",
       "      <td>2237.564816</td>\n",
       "      <td>8.847189e+06</td>\n",
       "      <td>6.189018e+06</td>\n",
       "    </tr>\n",
       "    <tr>\n",
       "      <th>min</th>\n",
       "      <td>0.000000e+00</td>\n",
       "      <td>0.000000e+00</td>\n",
       "      <td>0.000000</td>\n",
       "      <td>0.000000</td>\n",
       "      <td>0.000000</td>\n",
       "      <td>0.000000</td>\n",
       "      <td>0.000000e+00</td>\n",
       "      <td>-2.604490e+06</td>\n",
       "      <td>0.000000e+00</td>\n",
       "      <td>0.000000</td>\n",
       "      <td>0.000000</td>\n",
       "      <td>0.000000e+00</td>\n",
       "      <td>-4.409300e+04</td>\n",
       "    </tr>\n",
       "    <tr>\n",
       "      <th>25%</th>\n",
       "      <td>0.000000e+00</td>\n",
       "      <td>0.000000e+00</td>\n",
       "      <td>0.000000</td>\n",
       "      <td>0.000000</td>\n",
       "      <td>0.000000</td>\n",
       "      <td>0.000000</td>\n",
       "      <td>0.000000e+00</td>\n",
       "      <td>2.434500e+04</td>\n",
       "      <td>0.000000e+00</td>\n",
       "      <td>0.000000</td>\n",
       "      <td>0.000000</td>\n",
       "      <td>9.019275e+04</td>\n",
       "      <td>2.443265e+05</td>\n",
       "    </tr>\n",
       "    <tr>\n",
       "      <th>50%</th>\n",
       "      <td>3.000000e+05</td>\n",
       "      <td>6.082935e+05</td>\n",
       "      <td>20182.000000</td>\n",
       "      <td>17.500000</td>\n",
       "      <td>4.000000</td>\n",
       "      <td>0.000000</td>\n",
       "      <td>9.190000e+02</td>\n",
       "      <td>3.605280e+05</td>\n",
       "      <td>2.105960e+05</td>\n",
       "      <td>114.000000</td>\n",
       "      <td>347.500000</td>\n",
       "      <td>9.413595e+05</td>\n",
       "      <td>9.659550e+05</td>\n",
       "    </tr>\n",
       "    <tr>\n",
       "      <th>75%</th>\n",
       "      <td>8.000000e+05</td>\n",
       "      <td>1.683580e+06</td>\n",
       "      <td>53328.250000</td>\n",
       "      <td>53.000000</td>\n",
       "      <td>41.250000</td>\n",
       "      <td>14.000000</td>\n",
       "      <td>1.485770e+05</td>\n",
       "      <td>7.374560e+05</td>\n",
       "      <td>2.696675e+05</td>\n",
       "      <td>933.750000</td>\n",
       "      <td>1623.000000</td>\n",
       "      <td>1.945668e+06</td>\n",
       "      <td>2.295176e+06</td>\n",
       "    </tr>\n",
       "    <tr>\n",
       "      <th>max</th>\n",
       "      <td>8.000000e+06</td>\n",
       "      <td>3.434838e+07</td>\n",
       "      <td>228763.000000</td>\n",
       "      <td>14368.000000</td>\n",
       "      <td>528.000000</td>\n",
       "      <td>609.000000</td>\n",
       "      <td>1.035973e+07</td>\n",
       "      <td>1.476169e+07</td>\n",
       "      <td>1.111258e+06</td>\n",
       "      <td>5521.000000</td>\n",
       "      <td>15149.000000</td>\n",
       "      <td>1.035598e+08</td>\n",
       "      <td>4.911008e+07</td>\n",
       "    </tr>\n",
       "  </tbody>\n",
       "</table>\n",
       "</div>"
      ],
      "text/plain": [
       "              bonus  exercised_stock_options       expenses  from_messages  \\\n",
       "count  1.440000e+02             1.440000e+02     144.000000     144.000000   \n",
       "mean   6.759974e+05             2.075802e+06   35375.340278     363.583333   \n",
       "std    1.233155e+06             4.795513e+06   45309.303038    1450.675239   \n",
       "min    0.000000e+00             0.000000e+00       0.000000       0.000000   \n",
       "25%    0.000000e+00             0.000000e+00       0.000000       0.000000   \n",
       "50%    3.000000e+05             6.082935e+05   20182.000000      17.500000   \n",
       "75%    8.000000e+05             1.683580e+06   53328.250000      53.000000   \n",
       "max    8.000000e+06             3.434838e+07  228763.000000   14368.000000   \n",
       "\n",
       "       from_poi_to_this_person  from_this_person_to_poi         other  \\\n",
       "count               144.000000               144.000000  1.440000e+02   \n",
       "mean                 38.756944                24.625000  2.947455e+05   \n",
       "std                  74.276769                79.778266  1.131325e+06   \n",
       "min                   0.000000                 0.000000  0.000000e+00   \n",
       "25%                   0.000000                 0.000000  0.000000e+00   \n",
       "50%                   4.000000                 0.000000  9.190000e+02   \n",
       "75%                  41.250000                14.000000  1.485770e+05   \n",
       "max                 528.000000               609.000000  1.035973e+07   \n",
       "\n",
       "       restricted_stock        salary  shared_receipt_with_poi   to_messages  \\\n",
       "count      1.440000e+02  1.440000e+02               144.000000    144.000000   \n",
       "mean       8.685363e+05  1.854460e+05               702.611111   1238.555556   \n",
       "std        2.016572e+06  1.970421e+05              1077.290736   2237.564816   \n",
       "min       -2.604490e+06  0.000000e+00                 0.000000      0.000000   \n",
       "25%        2.434500e+04  0.000000e+00                 0.000000      0.000000   \n",
       "50%        3.605280e+05  2.105960e+05               114.000000    347.500000   \n",
       "75%        7.374560e+05  2.696675e+05               933.750000   1623.000000   \n",
       "max        1.476169e+07  1.111258e+06              5521.000000  15149.000000   \n",
       "\n",
       "       total_payments  total_stock_value  \n",
       "count    1.440000e+02       1.440000e+02  \n",
       "mean     2.256543e+06       2.909786e+06  \n",
       "std      8.847189e+06       6.189018e+06  \n",
       "min      0.000000e+00      -4.409300e+04  \n",
       "25%      9.019275e+04       2.443265e+05  \n",
       "50%      9.413595e+05       9.659550e+05  \n",
       "75%      1.945668e+06       2.295176e+06  \n",
       "max      1.035598e+08       4.911008e+07  "
      ]
     },
     "execution_count": 72,
     "metadata": {},
     "output_type": "execute_result"
    }
   ],
   "source": [
    "### Task 2: Remove outliers \n",
    "total_ind=data_dict.keys().index('TOTAL')\n",
    "travel_ind=data_dict.keys().index('THE TRAVEL AGENCY IN THE PARK')\n",
    "df_sub=df_imp.drop(df_imp.index[[total_ind,travel_ind]])\n",
    "df_sub.describe()"
   ]
  },
  {
   "cell_type": "code",
   "execution_count": 33,
   "metadata": {
    "collapsed": false
   },
   "outputs": [
    {
     "name": "stdout",
     "output_type": "stream",
     "text": [
      "(144, 14)\n",
      "Features:\t['bonus', 'exercised_stock_options', 'expenses', 'from_messages', 'from_poi_to_this_person', 'from_this_person_to_poi', 'other', 'poi', 'restricted_stock', 'salary', 'shared_receipt_with_poi', 'to_messages', 'total_payments', 'total_stock_value']\n",
      "How many POIs:\t18\n",
      "How many nonPOIs:\t126\n"
     ]
    }
   ],
   "source": [
    "print df_sub.shape\n",
    "print \"Features:\\t\",list(df_sub.columns.values)\n",
    "\n",
    "print \"How many POIs:\\t\",(df_sub['poi']==1).sum()\n",
    "print \"How many nonPOIs:\\t\",(df_sub['poi']==0).sum()\n"
   ]
  },
  {
   "cell_type": "markdown",
   "metadata": {},
   "source": [
    "Visualization\n",
    "------------"
   ]
  },
  {
   "cell_type": "code",
   "execution_count": 71,
   "metadata": {
    "collapsed": false
   },
   "outputs": [
    {
     "data": {
      "image/png": "[encoded data removed]",
      "text/plain": [
       "<matplotlib.figure.Figure at 0x112095bd0>"
      ]
     },
     "metadata": {},
     "output_type": "display_data"
    }
   ],
   "source": [
    "#visulization\n",
    "dfeatures=['poi','salary','bonus']\n",
    "\n",
    "def drawXY(df,dfeatures):\n",
    "    n=len(df)\n",
    "    X=df[dfeatures[1]]\n",
    "    Y=df[dfeatures[2]]\n",
    "    rind=np.nonzero(df[dfeatures[0]])[0]\n",
    "    plt.scatter(X,Y,color='blue')\n",
    "    plt.scatter(X[rind],Y[rind],color='red') #if POIs, label red \n",
    "         \n",
    "    plt.xlabel(dfeatures[0])\n",
    "    plt.ylabel(dfeatures[1])\n",
    "    plt.show()\n",
    "\n",
    "drawXY(df_sub,dfeatures)"
   ]
  },
  {
   "cell_type": "markdown",
   "metadata": {},
   "source": [
    "Create new features\n",
    "------------------\n",
    "\n",
    "I update two new features: “from_poi_to_this_person” (fraction_to_poi)  and “from_this_person_to_poi” (fraction_from_poi), which are numbers of messages to/from POI divided by numbers of messages to/from a person, respectively. If a person in general send/receive more emails, then the person is expected to send/receive more emails to/from POIs. So the fraction (of a person receive/send email from/to POIs) is more appropriate than number of emails as a metric to identify additional POIs.   "
   ]
  },
  {
   "cell_type": "code",
   "execution_count": 24,
   "metadata": {
    "collapsed": false
   },
   "outputs": [
    {
     "name": "stdout",
     "output_type": "stream",
     "text": [
      "{'METTS MARK': {'to_messages': 807, 'deferral_payments': 'NaN', 'bonus': 600000, 'total_stock_value': 585062, 'expenses': 94299, 'from_poi_to_this_person': 0.04708798017348203, 'from_this_person_to_poi': 0.034482758620689655, 'poi': False, 'deferred_income': 'NaN', 'restricted_stock': 585062, 'long_term_incentive': 'NaN', 'salary': 365788, 'fraction_from_poi': 5.834941781100623e-05, 'total_payments': 1061827, 'loan_advances': 'NaN', 'email_address': 'mark.metts@enron.com', 'restricted_stock_deferred': 'NaN', 'shared_receipt_with_poi': 702, 'fraction_to_poi': 0.0011890606420927466, 'exercised_stock_options': 'NaN', 'from_messages': 29, 'other': 1740, 'director_fees': 'NaN'}, 'BAXTER JOHN C': {'to_messages': 'NaN', 'deferral_payments': 1295738, 'bonus': 1200000, 'total_stock_value': 10623258, 'expenses': 11200, 'from_poi_to_this_person': 0.0, 'from_this_person_to_poi': 0.0, 'poi': False, 'deferred_income': -1386055, 'restricted_stock': 3942714, 'long_term_incentive': 1586055, 'salary': 267102, 'fraction_from_poi': 0.0, 'total_payments': 5634343, 'loan_advances': 'NaN', 'email_address': 'NaN', 'restricted_stock_deferred': 'NaN', 'shared_receipt_with_poi': 'NaN', 'fraction_to_poi': 0.0, 'exercised_stock_options': 6680544, 'from_messages': 'NaN', 'other': 2660303, 'director_fees': 'NaN'}, 'ELLIOTT STEVEN': {'to_messages': 'NaN', 'deferral_payments': 'NaN', 'bonus': 350000, 'total_stock_value': 6678735, 'expenses': 78552, 'from_poi_to_this_person': 0.0, 'from_this_person_to_poi': 0.0, 'poi': False, 'deferred_income': -400729, 'restricted_stock': 1788391, 'long_term_incentive': 'NaN', 'salary': 170941, 'fraction_from_poi': 0.0, 'total_payments': 211725, 'loan_advances': 'NaN', 'email_address': 'steven.elliott@enron.com', 'restricted_stock_deferred': 'NaN', 'shared_receipt_with_poi': 'NaN', 'fraction_to_poi': 0.0, 'exercised_stock_options': 4890344, 'from_messages': 'NaN', 'other': 12961, 'director_fees': 'NaN'}, 'CORDES WILLIAM R': {'to_messages': 764, 'deferral_payments': 'NaN', 'bonus': 'NaN', 'total_stock_value': 1038185, 'expenses': 'NaN', 'from_poi_to_this_person': 0.013089005235602094, 'from_this_person_to_poi': 0.0, 'poi': False, 'deferred_income': 'NaN', 'restricted_stock': 386335, 'long_term_incentive': 'NaN', 'salary': 'NaN', 'fraction_from_poi': 1.7132205805761903e-05, 'total_payments': 'NaN', 'loan_advances': 'NaN', 'email_address': 'bill.cordes@enron.com', 'restricted_stock_deferred': 'NaN', 'shared_receipt_with_poi': 58, 'fraction_to_poi': 0.0, 'exercised_stock_options': 651850, 'from_messages': 12, 'other': 'NaN', 'director_fees': 'NaN'}, 'HANNON KEVIN P': {'to_messages': 1045, 'deferral_payments': 'NaN', 'bonus': 1500000, 'total_stock_value': 6391065, 'expenses': 34039, 'from_poi_to_this_person': 0.03062200956937799, 'from_this_person_to_poi': 0.65625, 'poi': True, 'deferred_income': -3117011, 'restricted_stock': 853064, 'long_term_incentive': 1617011, 'salary': 243293, 'fraction_from_poi': 2.9303358439596164e-05, 'total_payments': 288682, 'loan_advances': 'NaN', 'email_address': 'kevin.hannon@enron.com', 'restricted_stock_deferred': 'NaN', 'shared_receipt_with_poi': 1035, 'fraction_to_poi': 0.0205078125, 'exercised_stock_options': 5538001, 'from_messages': 32, 'other': 11350, 'director_fees': 'NaN'}, 'MORDAUNT KRISTINA M': {'to_messages': 'NaN', 'deferral_payments': 'NaN', 'bonus': 325000, 'total_stock_value': 208510, 'expenses': 35018, 'from_poi_to_this_person': 0.0, 'from_this_person_to_poi': 0.0, 'poi': False, 'deferred_income': 'NaN', 'restricted_stock': 208510, 'long_term_incentive': 'NaN', 'salary': 267093, 'fraction_from_poi': 0.0, 'total_payments': 628522, 'loan_advances': 'NaN', 'email_address': 'kristina.mordaunt@enron.com', 'restricted_stock_deferred': 'NaN', 'shared_receipt_with_poi': 'NaN', 'fraction_to_poi': 0.0, 'exercised_stock_options': 'NaN', 'from_messages': 'NaN', 'other': 1411, 'director_fees': 'NaN'}, 'MEYER ROCKFORD G': {'to_messages': 232, 'deferral_payments': 1848227, 'bonus': 'NaN', 'total_stock_value': 955873, 'expenses': 'NaN', 'from_poi_to_this_person': 0.0, 'from_this_person_to_poi': 0.0, 'poi': False, 'deferred_income': 'NaN', 'restricted_stock': 462384, 'long_term_incentive': 'NaN', 'salary': 'NaN', 'fraction_from_poi': 0.0, 'total_payments': 1848227, 'loan_advances': 'NaN', 'email_address': 'rockford.meyer@enron.com', 'restricted_stock_deferred': 'NaN', 'shared_receipt_with_poi': 22, 'fraction_to_poi': 0.0, 'exercised_stock_options': 493489, 'from_messages': 28, 'other': 'NaN', 'director_fees': 'NaN'}, 'MCMAHON JEFFREY': {'to_messages': 2355, 'deferral_payments': 'NaN', 'bonus': 2600000, 'total_stock_value': 1662855, 'expenses': 137108, 'from_poi_to_this_person': 0.024628450106157114, 'from_this_person_to_poi': 0.5416666666666666, 'poi': False, 'deferred_income': 'NaN', 'restricted_stock': 558801, 'long_term_incentive': 694862, 'salary': 370448, 'fraction_from_poi': 1.0457940597094315e-05, 'total_payments': 4099771, 'loan_advances': 'NaN', 'email_address': 'jeffrey.mcmahon@enron.com', 'restricted_stock_deferred': 'NaN', 'shared_receipt_with_poi': 2228, 'fraction_to_poi': 0.011284722222222222, 'exercised_stock_options': 1104054, 'from_messages': 48, 'other': 297353, 'director_fees': 'NaN'}, 'HORTON STANLEY C': {'to_messages': 2350, 'deferral_payments': 3131860, 'bonus': 'NaN', 'total_stock_value': 7256648, 'expenses': 'NaN', 'from_poi_to_this_person': 0.01872340425531915, 'from_this_person_to_poi': 0.013979496738117428, 'poi': False, 'deferred_income': 'NaN', 'restricted_stock': 2046079, 'long_term_incentive': 'NaN', 'salary': 'NaN', 'fraction_from_poi': 7.967406066093255e-06, 'total_payments': 3131860, 'loan_advances': 'NaN', 'email_address': 'stanley.horton@enron.com', 'restricted_stock_deferred': 'NaN', 'shared_receipt_with_poi': 1074, 'fraction_to_poi': 1.302842193673572e-05, 'exercised_stock_options': 5210569, 'from_messages': 1073, 'other': 'NaN', 'director_fees': 'NaN'}, 'PIPER GREGORY F': {'to_messages': 1238, 'deferral_payments': 1130036, 'bonus': 400000, 'total_stock_value': 880290, 'expenses': 43057, 'from_poi_to_this_person': 0.049273021001615507, 'from_this_person_to_poi': 0.21621621621621623, 'poi': False, 'deferred_income': -33333, 'restricted_stock': 409554, 'long_term_incentive': 'NaN', 'salary': 197091, 'fraction_from_poi': 3.980050161681382e-05, 'total_payments': 1737629, 'loan_advances': 'NaN', 'email_address': 'greg.piper@enron.com', 'restricted_stock_deferred': -409554, 'shared_receipt_with_poi': 742, 'fraction_to_poi': 0.0009739469198928659, 'exercised_stock_options': 880290, 'from_messages': 222, 'other': 778, 'director_fees': 'NaN'}, 'HUMPHREY GENE E': {'to_messages': 128, 'deferral_payments': 2964506, 'bonus': 'NaN', 'total_stock_value': 2282768, 'expenses': 4994, 'from_poi_to_this_person': 0.078125, 'from_this_person_to_poi': 1.0, 'poi': False, 'deferred_income': 'NaN', 'restricted_stock': 'NaN', 'long_term_incentive': 'NaN', 'salary': 130724, 'fraction_from_poi': 0.0006103515625, 'total_payments': 3100224, 'loan_advances': 'NaN', 'email_address': 'gene.humphrey@enron.com', 'restricted_stock_deferred': 'NaN', 'shared_receipt_with_poi': 119, 'fraction_to_poi': 0.058823529411764705, 'exercised_stock_options': 2282768, 'from_messages': 17, 'other': 'NaN', 'director_fees': 'NaN'}, 'UMANOFF ADAM S': {'to_messages': 111, 'deferral_payments': 'NaN', 'bonus': 788750, 'total_stock_value': 'NaN', 'expenses': 53122, 'from_poi_to_this_person': 0.10810810810810811, 'from_this_person_to_poi': 0.0, 'poi': False, 'deferred_income': 'NaN', 'restricted_stock': 'NaN', 'long_term_incentive': 'NaN', 'salary': 288589, 'fraction_from_poi': 0.0009739469198928659, 'total_payments': 1130461, 'loan_advances': 'NaN', 'email_address': 'adam.umanoff@enron.com', 'restricted_stock_deferred': 'NaN', 'shared_receipt_with_poi': 41, 'fraction_to_poi': 0.0, 'exercised_stock_options': 'NaN', 'from_messages': 18, 'other': 'NaN', 'director_fees': 'NaN'}, 'BLACHMAN JEREMY M': {'to_messages': 2475, 'deferral_payments': 'NaN', 'bonus': 850000, 'total_stock_value': 954354, 'expenses': 84208, 'from_poi_to_this_person': 0.010101010101010102, 'from_this_person_to_poi': 0.14285714285714285, 'poi': False, 'deferred_income': 'NaN', 'restricted_stock': 189041, 'long_term_incentive': 831809, 'salary': 248546, 'fraction_from_poi': 4.081216202428324e-06, 'total_payments': 2014835, 'loan_advances': 'NaN', 'email_address': 'jeremy.blachman@enron.com', 'restricted_stock_deferred': 'NaN', 'shared_receipt_with_poi': 2326, 'fraction_to_poi': 0.01020408163265306, 'exercised_stock_options': 765313, 'from_messages': 14, 'other': 272, 'director_fees': 'NaN'}, 'SUNDE MARTIN': {'to_messages': 2647, 'deferral_payments': 'NaN', 'bonus': 700000, 'total_stock_value': 698920, 'expenses': 'NaN', 'from_poi_to_this_person': 0.013978088401964487, 'from_this_person_to_poi': 0.34210526315789475, 'poi': False, 'deferred_income': 'NaN', 'restricted_stock': 698920, 'long_term_incentive': 476451, 'salary': 257486, 'fraction_from_poi': 5.28072852359822e-06, 'total_payments': 1545059, 'loan_advances': 'NaN', 'email_address': 'marty.sunde@enron.com', 'restricted_stock_deferred': 'NaN', 'shared_receipt_with_poi': 2565, 'fraction_to_poi': 0.009002770083102494, 'exercised_stock_options': 'NaN', 'from_messages': 38, 'other': 111122, 'director_fees': 'NaN'}, 'GIBBS DANA R': {'to_messages': 169, 'deferral_payments': 504610, 'bonus': 'NaN', 'total_stock_value': 2218275, 'expenses': 'NaN', 'from_poi_to_this_person': 0.0, 'from_this_person_to_poi': 0.0, 'poi': False, 'deferred_income': 'NaN', 'restricted_stock': 'NaN', 'long_term_incentive': 461912, 'salary': 'NaN', 'fraction_from_poi': 0.0, 'total_payments': 966522, 'loan_advances': 'NaN', 'email_address': 'dana.gibbs@enron.com', 'restricted_stock_deferred': 'NaN', 'shared_receipt_with_poi': 23, 'fraction_to_poi': 0.0, 'exercised_stock_options': 2218275, 'from_messages': 12, 'other': 'NaN', 'director_fees': 'NaN'}, 'LOWRY CHARLES P': {'to_messages': 'NaN', 'deferral_payments': 'NaN', 'bonus': 'NaN', 'total_stock_value': 372205, 'expenses': 'NaN', 'from_poi_to_this_person': 0.0, 'from_this_person_to_poi': 0.0, 'poi': False, 'deferred_income': 'NaN', 'restricted_stock': 153686, 'long_term_incentive': 'NaN', 'salary': 'NaN', 'fraction_from_poi': 0.0, 'total_payments': 'NaN', 'loan_advances': 'NaN', 'email_address': 'NaN', 'restricted_stock_deferred': -153686, 'shared_receipt_with_poi': 'NaN', 'fraction_to_poi': 0.0, 'exercised_stock_options': 372205, 'from_messages': 'NaN', 'other': 'NaN', 'director_fees': 'NaN'}, 'COLWELL WESLEY': {'to_messages': 1758, 'deferral_payments': 27610, 'bonus': 1200000, 'total_stock_value': 698242, 'expenses': 16514, 'from_poi_to_this_person': 0.13651877133105803, 'from_this_person_to_poi': 0.275, 'poi': True, 'deferred_income': -144062, 'restricted_stock': 698242, 'long_term_incentive': 'NaN', 'salary': 288542, 'fraction_from_poi': 7.765572885725713e-05, 'total_payments': 1490344, 'loan_advances': 'NaN', 'email_address': 'wes.colwell@enron.com', 'restricted_stock_deferred': 'NaN', 'shared_receipt_with_poi': 1132, 'fraction_to_poi': 0.006875000000000001, 'exercised_stock_options': 'NaN', 'from_messages': 40, 'other': 101740, 'director_fees': 'NaN'}, 'MULLER MARK S': {'to_messages': 136, 'deferral_payments': 842924, 'bonus': 1100000, 'total_stock_value': 1416848, 'expenses': 'NaN', 'from_poi_to_this_person': 0.08823529411764706, 'from_this_person_to_poi': 0.0, 'poi': False, 'deferred_income': -719000, 'restricted_stock': 360528, 'long_term_incentive': 1725545, 'salary': 251654, 'fraction_from_poi': 0.0006487889273356402, 'total_payments': 3202070, 'loan_advances': 'NaN', 'email_address': 's..muller@enron.com', 'restricted_stock_deferred': 'NaN', 'shared_receipt_with_poi': 114, 'fraction_to_poi': 0.0, 'exercised_stock_options': 1056320, 'from_messages': 16, 'other': 947, 'director_fees': 'NaN'}, 'JACKSON CHARLENE R': {'to_messages': 258, 'deferral_payments': 'NaN', 'bonus': 250000, 'total_stock_value': 725735, 'expenses': 10181, 'from_poi_to_this_person': 0.09689922480620156, 'from_this_person_to_poi': 0.3392857142857143, 'poi': False, 'deferred_income': 'NaN', 'restricted_stock': 540672, 'long_term_incentive': 'NaN', 'salary': 288558, 'fraction_from_poi': 0.00037557839072171144, 'total_payments': 551174, 'loan_advances': 'NaN', 'email_address': 'charlene.jackson@enron.com', 'restricted_stock_deferred': 'NaN', 'shared_receipt_with_poi': 117, 'fraction_to_poi': 0.006058673469387756, 'exercised_stock_options': 185063, 'from_messages': 56, 'other': 2435, 'director_fees': 'NaN'}, 'WESTFAHL RICHARD K': {'to_messages': 'NaN', 'deferral_payments': 'NaN', 'bonus': 'NaN', 'total_stock_value': 384930, 'expenses': 51870, 'from_poi_to_this_person': 0.0, 'from_this_person_to_poi': 0.0, 'poi': False, 'deferred_income': -10800, 'restricted_stock': 384930, 'long_term_incentive': 256191, 'salary': 63744, 'fraction_from_poi': 0.0, 'total_payments': 762135, 'loan_advances': 'NaN', 'email_address': 'dick.westfahl@enron.com', 'restricted_stock_deferred': 'NaN', 'shared_receipt_with_poi': 'NaN', 'fraction_to_poi': 0.0, 'exercised_stock_options': 'NaN', 'from_messages': 'NaN', 'other': 401130, 'director_fees': 'NaN'}, 'WALTERS GARETH W': {'to_messages': 'NaN', 'deferral_payments': 53625, 'bonus': 'NaN', 'total_stock_value': 1030329, 'expenses': 33785, 'from_poi_to_this_person': 0.0, 'from_this_person_to_poi': 0.0, 'poi': False, 'deferred_income': 'NaN', 'restricted_stock': 'NaN', 'long_term_incentive': 'NaN', 'salary': 'NaN', 'fraction_from_poi': 0.0, 'total_payments': 87410, 'loan_advances': 'NaN', 'email_address': 'NaN', 'restricted_stock_deferred': 'NaN', 'shared_receipt_with_poi': 'NaN', 'fraction_to_poi': 0.0, 'exercised_stock_options': 1030329, 'from_messages': 'NaN', 'other': 'NaN', 'director_fees': 'NaN'}, 'WALLS JR ROBERT H': {'to_messages': 671, 'deferral_payments': 'NaN', 'bonus': 850000, 'total_stock_value': 5898997, 'expenses': 50936, 'from_poi_to_this_person': 0.02533532041728763, 'from_this_person_to_poi': 0.0, 'poi': False, 'deferred_income': 'NaN', 'restricted_stock': 1552453, 'long_term_incentive': 540751, 'salary': 357091, 'fraction_from_poi': 3.775755650862538e-05, 'total_payments': 1798780, 'loan_advances': 'NaN', 'email_address': 'rob.walls@enron.com', 'restricted_stock_deferred': 'NaN', 'shared_receipt_with_poi': 215, 'fraction_to_poi': 0.0, 'exercised_stock_options': 4346544, 'from_messages': 146, 'other': 2, 'director_fees': 'NaN'}, 'KITCHEN LOUISE': {'to_messages': 8305, 'deferral_payments': 'NaN', 'bonus': 3100000, 'total_stock_value': 547143, 'expenses': 5774, 'from_poi_to_this_person': 0.030222757375075255, 'from_this_person_to_poi': 0.11226851851851852, 'poi': False, 'deferred_income': 'NaN', 'restricted_stock': 466101, 'long_term_incentive': 'NaN', 'salary': 271442, 'fraction_from_poi': 3.6391038380584294e-06, 'total_payments': 3471141, 'loan_advances': 'NaN', 'email_address': 'louise.kitchen@enron.com', 'restricted_stock_deferred': 'NaN', 'shared_receipt_with_poi': 3669, 'fraction_to_poi': 6.497020747599451e-05, 'exercised_stock_options': 81042, 'from_messages': 1728, 'other': 93925, 'director_fees': 'NaN'}, 'CHAN RONNIE': {'to_messages': 'NaN', 'deferral_payments': 'NaN', 'bonus': 'NaN', 'total_stock_value': 'NaN', 'expenses': 'NaN', 'from_poi_to_this_person': 0.0, 'from_this_person_to_poi': 0.0, 'poi': False, 'deferred_income': -98784, 'restricted_stock': 32460, 'long_term_incentive': 'NaN', 'salary': 'NaN', 'fraction_from_poi': 0.0, 'total_payments': 'NaN', 'loan_advances': 'NaN', 'email_address': 'NaN', 'restricted_stock_deferred': -32460, 'shared_receipt_with_poi': 'NaN', 'fraction_to_poi': 0.0, 'exercised_stock_options': 'NaN', 'from_messages': 'NaN', 'other': 'NaN', 'director_fees': 98784}, 'BELFER ROBERT': {'to_messages': 'NaN', 'deferral_payments': -102500, 'bonus': 'NaN', 'total_stock_value': -44093, 'expenses': 'NaN', 'from_poi_to_this_person': 0.0, 'from_this_person_to_poi': 0.0, 'poi': False, 'deferred_income': 'NaN', 'restricted_stock': 'NaN', 'long_term_incentive': 'NaN', 'salary': 'NaN', 'fraction_from_poi': 0.0, 'total_payments': 102500, 'loan_advances': 'NaN', 'email_address': 'NaN', 'restricted_stock_deferred': 44093, 'shared_receipt_with_poi': 'NaN', 'fraction_to_poi': 0.0, 'exercised_stock_options': 3285, 'from_messages': 'NaN', 'other': 'NaN', 'director_fees': 3285}, 'SHANKMAN JEFFREY A': {'to_messages': 3221, 'deferral_payments': 'NaN', 'bonus': 2000000, 'total_stock_value': 2072035, 'expenses': 178979, 'from_poi_to_this_person': 0.029183483390251473, 'from_this_person_to_poi': 0.030958597538232, 'poi': False, 'deferred_income': 'NaN', 'restricted_stock': 630137, 'long_term_incentive': 554422, 'salary': 304110, 'fraction_from_poi': 9.060379816905145e-06, 'total_payments': 3038702, 'loan_advances': 'NaN', 'email_address': 'jeffrey.shankman@enron.com', 'restricted_stock_deferred': 'NaN', 'shared_receipt_with_poi': 1730, 'fraction_to_poi': 1.1547406765472586e-05, 'exercised_stock_options': 1441898, 'from_messages': 2681, 'other': 1191, 'director_fees': 'NaN'}, 'WODRASKA JOHN': {'to_messages': 'NaN', 'deferral_payments': 'NaN', 'bonus': 'NaN', 'total_stock_value': 'NaN', 'expenses': 'NaN', 'from_poi_to_this_person': 0.0, 'from_this_person_to_poi': 0.0, 'poi': False, 'deferred_income': 'NaN', 'restricted_stock': 'NaN', 'long_term_incentive': 'NaN', 'salary': 'NaN', 'fraction_from_poi': 0.0, 'total_payments': 189583, 'loan_advances': 'NaN', 'email_address': 'john.wodraska@enron.com', 'restricted_stock_deferred': 'NaN', 'shared_receipt_with_poi': 'NaN', 'fraction_to_poi': 0.0, 'exercised_stock_options': 'NaN', 'from_messages': 'NaN', 'other': 189583, 'director_fees': 'NaN'}, 'BERGSIEKER RICHARD P': {'to_messages': 383, 'deferral_payments': 'NaN', 'bonus': 250000, 'total_stock_value': 659249, 'expenses': 59175, 'from_poi_to_this_person': 0.010443864229765013, 'from_this_person_to_poi': 0.0, 'poi': False, 'deferred_income': -485813, 'restricted_stock': 659249, 'long_term_incentive': 180250, 'salary': 187922, 'fraction_from_poi': 2.7268575012441288e-05, 'total_payments': 618850, 'loan_advances': 'NaN', 'email_address': 'rick.bergsieker@enron.com', 'restricted_stock_deferred': 'NaN', 'shared_receipt_with_poi': 233, 'fraction_to_poi': 0.0, 'exercised_stock_options': 'NaN', 'from_messages': 59, 'other': 427316, 'director_fees': 'NaN'}, 'URQUHART JOHN A': {'to_messages': 'NaN', 'deferral_payments': 'NaN', 'bonus': 'NaN', 'total_stock_value': 'NaN', 'expenses': 228656, 'from_poi_to_this_person': 0.0, 'from_this_person_to_poi': 0.0, 'poi': False, 'deferred_income': -36666, 'restricted_stock': 'NaN', 'long_term_incentive': 'NaN', 'salary': 'NaN', 'fraction_from_poi': 0.0, 'total_payments': 228656, 'loan_advances': 'NaN', 'email_address': 'NaN', 'restricted_stock_deferred': 'NaN', 'shared_receipt_with_poi': 'NaN', 'fraction_to_poi': 0.0, 'exercised_stock_options': 'NaN', 'from_messages': 'NaN', 'other': 'NaN', 'director_fees': 36666}, 'BIBI PHILIPPE A': {'to_messages': 1607, 'deferral_payments': 'NaN', 'bonus': 1000000, 'total_stock_value': 1843816, 'expenses': 38559, 'from_poi_to_this_person': 0.01431238332296204, 'from_this_person_to_poi': 0.2, 'poi': False, 'deferred_income': 'NaN', 'restricted_stock': 378082, 'long_term_incentive': 369721, 'salary': 213625, 'fraction_from_poi': 8.906274625365303e-06, 'total_payments': 2047593, 'loan_advances': 'NaN', 'email_address': 'philippe.bibi@enron.com', 'restricted_stock_deferred': 'NaN', 'shared_receipt_with_poi': 1336, 'fraction_to_poi': 0.005, 'exercised_stock_options': 1465734, 'from_messages': 40, 'other': 425688, 'director_fees': 'NaN'}, 'RIEKER PAULA H': {'to_messages': 1328, 'deferral_payments': 214678, 'bonus': 700000, 'total_stock_value': 1918887, 'expenses': 33271, 'from_poi_to_this_person': 0.02635542168674699, 'from_this_person_to_poi': 0.5853658536585366, 'poi': True, 'deferred_income': -100000, 'restricted_stock': 283649, 'long_term_incentive': 'NaN', 'salary': 249201, 'fraction_from_poi': 1.9845950065321527e-05, 'total_payments': 1099100, 'loan_advances': 'NaN', 'email_address': 'paula.rieker@enron.com', 'restricted_stock_deferred': 'NaN', 'shared_receipt_with_poi': 1258, 'fraction_to_poi': 0.007138607971445568, 'exercised_stock_options': 1635238, 'from_messages': 82, 'other': 1950, 'director_fees': 'NaN'}, 'WHALEY DAVID A': {'to_messages': 'NaN', 'deferral_payments': 'NaN', 'bonus': 'NaN', 'total_stock_value': 98718, 'expenses': 'NaN', 'from_poi_to_this_person': 0.0, 'from_this_person_to_poi': 0.0, 'poi': False, 'deferred_income': 'NaN', 'restricted_stock': 'NaN', 'long_term_incentive': 'NaN', 'salary': 'NaN', 'fraction_from_poi': 0.0, 'total_payments': 'NaN', 'loan_advances': 'NaN', 'email_address': 'NaN', 'restricted_stock_deferred': 'NaN', 'shared_receipt_with_poi': 'NaN', 'fraction_to_poi': 0.0, 'exercised_stock_options': 98718, 'from_messages': 'NaN', 'other': 'NaN', 'director_fees': 'NaN'}, 'BECK SALLY W': {'to_messages': 7315, 'deferral_payments': 'NaN', 'bonus': 700000, 'total_stock_value': 126027, 'expenses': 37172, 'from_poi_to_this_person': 0.01968557758031442, 'from_this_person_to_poi': 0.08887865530739121, 'poi': False, 'deferred_income': 'NaN', 'restricted_stock': 126027, 'long_term_incentive': 'NaN', 'salary': 231330, 'fraction_from_poi': 2.6911247546567904e-06, 'total_payments': 969068, 'loan_advances': 'NaN', 'email_address': 'sally.beck@enron.com', 'restricted_stock_deferred': 'NaN', 'shared_receipt_with_poi': 2639, 'fraction_to_poi': 2.0464806656088235e-05, 'exercised_stock_options': 'NaN', 'from_messages': 4343, 'other': 566, 'director_fees': 'NaN'}, 'HAUG DAVID L': {'to_messages': 573, 'deferral_payments': 'NaN', 'bonus': 'NaN', 'total_stock_value': 2217299, 'expenses': 475, 'from_poi_to_this_person': 0.006980802792321117, 'from_this_person_to_poi': 0.3684210526315789, 'poi': False, 'deferred_income': 'NaN', 'restricted_stock': 2217299, 'long_term_incentive': 'NaN', 'salary': 'NaN', 'fraction_from_poi': 1.2182901906319576e-05, 'total_payments': 475, 'loan_advances': 'NaN', 'email_address': 'david.haug@enron.com', 'restricted_stock_deferred': 'NaN', 'shared_receipt_with_poi': 471, 'fraction_to_poi': 0.019390581717451522, 'exercised_stock_options': 'NaN', 'from_messages': 19, 'other': 'NaN', 'director_fees': 'NaN'}, 'ECHOLS JOHN B': {'to_messages': 'NaN', 'deferral_payments': 'NaN', 'bonus': 200000, 'total_stock_value': 1008941, 'expenses': 21530, 'from_poi_to_this_person': 0.0, 'from_this_person_to_poi': 0.0, 'poi': False, 'deferred_income': 'NaN', 'restricted_stock': 407503, 'long_term_incentive': 2234774, 'salary': 182245, 'fraction_from_poi': 0.0, 'total_payments': 2692324, 'loan_advances': 'NaN', 'email_address': 'john.echols@enron.com', 'restricted_stock_deferred': 'NaN', 'shared_receipt_with_poi': 'NaN', 'fraction_to_poi': 0.0, 'exercised_stock_options': 601438, 'from_messages': 'NaN', 'other': 53775, 'director_fees': 'NaN'}, 'MENDELSOHN JOHN': {'to_messages': 'NaN', 'deferral_payments': 'NaN', 'bonus': 'NaN', 'total_stock_value': 'NaN', 'expenses': 148, 'from_poi_to_this_person': 0.0, 'from_this_person_to_poi': 0.0, 'poi': False, 'deferred_income': -103750, 'restricted_stock': 'NaN', 'long_term_incentive': 'NaN', 'salary': 'NaN', 'fraction_from_poi': 0.0, 'total_payments': 148, 'loan_advances': 'NaN', 'email_address': 'NaN', 'restricted_stock_deferred': 'NaN', 'shared_receipt_with_poi': 'NaN', 'fraction_to_poi': 0.0, 'exercised_stock_options': 'NaN', 'from_messages': 'NaN', 'other': 'NaN', 'director_fees': 103750}, 'HICKERSON GARY J': {'to_messages': 1320, 'deferral_payments': 'NaN', 'bonus': 1700000, 'total_stock_value': 441096, 'expenses': 98849, 'from_poi_to_this_person': 0.030303030303030304, 'from_this_person_to_poi': 0.037037037037037035, 'poi': False, 'deferred_income': 'NaN', 'restricted_stock': 441096, 'long_term_incentive': 69223, 'salary': 211788, 'fraction_from_poi': 2.295684113865932e-05, 'total_payments': 2081796, 'loan_advances': 'NaN', 'email_address': 'gary.hickerson@enron.com', 'restricted_stock_deferred': 'NaN', 'shared_receipt_with_poi': 900, 'fraction_to_poi': 0.0013717421124828531, 'exercised_stock_options': 'NaN', 'from_messages': 27, 'other': 1936, 'director_fees': 'NaN'}, 'CLINE KENNETH W': {'to_messages': 'NaN', 'deferral_payments': 'NaN', 'bonus': 'NaN', 'total_stock_value': 189518, 'expenses': 'NaN', 'from_poi_to_this_person': 0.0, 'from_this_person_to_poi': 0.0, 'poi': False, 'deferred_income': 'NaN', 'restricted_stock': 662086, 'long_term_incentive': 'NaN', 'salary': 'NaN', 'fraction_from_poi': 0.0, 'total_payments': 'NaN', 'loan_advances': 'NaN', 'email_address': 'NaN', 'restricted_stock_deferred': -472568, 'shared_receipt_with_poi': 'NaN', 'fraction_to_poi': 0.0, 'exercised_stock_options': 'NaN', 'from_messages': 'NaN', 'other': 'NaN', 'director_fees': 'NaN'}, 'LEWIS RICHARD': {'to_messages': 952, 'deferral_payments': 'NaN', 'bonus': 'NaN', 'total_stock_value': 850477, 'expenses': 'NaN', 'from_poi_to_this_person': 0.01050420168067227, 'from_this_person_to_poi': 0.0, 'poi': False, 'deferred_income': 'NaN', 'restricted_stock': 'NaN', 'long_term_incentive': 'NaN', 'salary': 'NaN', 'fraction_from_poi': 1.1033825294823813e-05, 'total_payments': 'NaN', 'loan_advances': 'NaN', 'email_address': 'richard.lewis@enron.com', 'restricted_stock_deferred': 'NaN', 'shared_receipt_with_poi': 739, 'fraction_to_poi': 0.0, 'exercised_stock_options': 850477, 'from_messages': 26, 'other': 'NaN', 'director_fees': 'NaN'}, 'HAYES ROBERT E': {'to_messages': 504, 'deferral_payments': 7961, 'bonus': 'NaN', 'total_stock_value': 151418, 'expenses': 'NaN', 'from_poi_to_this_person': 0.031746031746031744, 'from_this_person_to_poi': 0.0, 'poi': False, 'deferred_income': 'NaN', 'restricted_stock': 151418, 'long_term_incentive': 'NaN', 'salary': 'NaN', 'fraction_from_poi': 6.298815822625346e-05, 'total_payments': 7961, 'loan_advances': 'NaN', 'email_address': 'robert.hayes@enron.com', 'restricted_stock_deferred': 'NaN', 'shared_receipt_with_poi': 50, 'fraction_to_poi': 0.0, 'exercised_stock_options': 'NaN', 'from_messages': 12, 'other': 'NaN', 'director_fees': 'NaN'}, 'MCCARTY DANNY J': {'to_messages': 1433, 'deferral_payments': 'NaN', 'bonus': 'NaN', 'total_stock_value': 758931, 'expenses': 'NaN', 'from_poi_to_this_person': 0.017445917655268667, 'from_this_person_to_poi': 0.009302325581395349, 'poi': False, 'deferred_income': 'NaN', 'restricted_stock': 94556, 'long_term_incentive': 'NaN', 'salary': 'NaN', 'fraction_from_poi': 1.2174401713376599e-05, 'total_payments': 'NaN', 'loan_advances': 'NaN', 'email_address': 'danny.mccarty@enron.com', 'restricted_stock_deferred': 'NaN', 'shared_receipt_with_poi': 508, 'fraction_to_poi': 4.3266630611141155e-05, 'exercised_stock_options': 664375, 'from_messages': 215, 'other': 'NaN', 'director_fees': 'NaN'}, 'KOPPER MICHAEL J': {'to_messages': 'NaN', 'deferral_payments': 'NaN', 'bonus': 800000, 'total_stock_value': 985032, 'expenses': 118134, 'from_poi_to_this_person': 0.0, 'from_this_person_to_poi': 0.0, 'poi': True, 'deferred_income': 'NaN', 'restricted_stock': 985032, 'long_term_incentive': 602671, 'salary': 224305, 'fraction_from_poi': 0.0, 'total_payments': 2652612, 'loan_advances': 'NaN', 'email_address': 'michael.kopper@enron.com', 'restricted_stock_deferred': 'NaN', 'shared_receipt_with_poi': 'NaN', 'fraction_to_poi': 0.0, 'exercised_stock_options': 'NaN', 'from_messages': 'NaN', 'other': 907502, 'director_fees': 'NaN'}, 'LEFF DANIEL P': {'to_messages': 2822, 'deferral_payments': 'NaN', 'bonus': 1000000, 'total_stock_value': 360528, 'expenses': 'NaN', 'from_poi_to_this_person': 0.02374202693125443, 'from_this_person_to_poi': 0.2222222222222222, 'poi': False, 'deferred_income': 'NaN', 'restricted_stock': 360528, 'long_term_incentive': 1387399, 'salary': 273746, 'fraction_from_poi': 8.41319168364792e-06, 'total_payments': 2664228, 'loan_advances': 'NaN', 'email_address': 'dan.leff@enron.com', 'restricted_stock_deferred': 'NaN', 'shared_receipt_with_poi': 2672, 'fraction_to_poi': 0.003527336860670194, 'exercised_stock_options': 'NaN', 'from_messages': 63, 'other': 3083, 'director_fees': 'NaN'}, 'LAVORATO JOHN J': {'to_messages': 7259, 'deferral_payments': 'NaN', 'bonus': 8000000, 'total_stock_value': 5167144, 'expenses': 49537, 'from_poi_to_this_person': 0.07273729163796666, 'from_this_person_to_poi': 0.15899419729206962, 'poi': False, 'deferred_income': 'NaN', 'restricted_stock': 1008149, 'long_term_incentive': 2035380, 'salary': 339288, 'fraction_from_poi': 1.0020290899292831e-05, 'total_payments': 10425757, 'loan_advances': 'NaN', 'email_address': 'john.lavorato@enron.com', 'restricted_stock_deferred': 'NaN', 'shared_receipt_with_poi': 3962, 'fraction_to_poi': 6.150645930060721e-05, 'exercised_stock_options': 4158995, 'from_messages': 2585, 'other': 1552, 'director_fees': 'NaN'}, 'BERBERIAN DAVID': {'to_messages': 'NaN', 'deferral_payments': 'NaN', 'bonus': 'NaN', 'total_stock_value': 2493616, 'expenses': 11892, 'from_poi_to_this_person': 0.0, 'from_this_person_to_poi': 0.0, 'poi': False, 'deferred_income': 'NaN', 'restricted_stock': 869220, 'long_term_incentive': 'NaN', 'salary': 216582, 'fraction_from_poi': 0.0, 'total_payments': 228474, 'loan_advances': 'NaN', 'email_address': 'david.berberian@enron.com', 'restricted_stock_deferred': 'NaN', 'shared_receipt_with_poi': 'NaN', 'fraction_to_poi': 0.0, 'exercised_stock_options': 1624396, 'from_messages': 'NaN', 'other': 'NaN', 'director_fees': 'NaN'}, 'DETMERING TIMOTHY J': {'to_messages': 'NaN', 'deferral_payments': 875307, 'bonus': 425000, 'total_stock_value': 2027865, 'expenses': 52255, 'from_poi_to_this_person': 0.0, 'from_this_person_to_poi': 0.0, 'poi': False, 'deferred_income': -775241, 'restricted_stock': 315068, 'long_term_incentive': 415657, 'salary': 210500, 'fraction_from_poi': 0.0, 'total_payments': 1204583, 'loan_advances': 'NaN', 'email_address': 'timothy.detmering@enron.com', 'restricted_stock_deferred': -315068, 'shared_receipt_with_poi': 'NaN', 'fraction_to_poi': 0.0, 'exercised_stock_options': 2027865, 'from_messages': 'NaN', 'other': 1105, 'director_fees': 'NaN'}, 'WAKEHAM JOHN': {'to_messages': 'NaN', 'deferral_payments': 'NaN', 'bonus': 'NaN', 'total_stock_value': 'NaN', 'expenses': 103773, 'from_poi_to_this_person': 0.0, 'from_this_person_to_poi': 0.0, 'poi': False, 'deferred_income': 'NaN', 'restricted_stock': 'NaN', 'long_term_incentive': 'NaN', 'salary': 'NaN', 'fraction_from_poi': 0.0, 'total_payments': 213071, 'loan_advances': 'NaN', 'email_address': 'NaN', 'restricted_stock_deferred': 'NaN', 'shared_receipt_with_poi': 'NaN', 'fraction_to_poi': 0.0, 'exercised_stock_options': 'NaN', 'from_messages': 'NaN', 'other': 'NaN', 'director_fees': 109298}, 'POWERS WILLIAM': {'to_messages': 653, 'deferral_payments': 'NaN', 'bonus': 'NaN', 'total_stock_value': 'NaN', 'expenses': 'NaN', 'from_poi_to_this_person': 0.0, 'from_this_person_to_poi': 0.0, 'poi': False, 'deferred_income': -17500, 'restricted_stock': 'NaN', 'long_term_incentive': 'NaN', 'salary': 'NaN', 'fraction_from_poi': 0.0, 'total_payments': 'NaN', 'loan_advances': 'NaN', 'email_address': 'ken.powers@enron.com', 'restricted_stock_deferred': 'NaN', 'shared_receipt_with_poi': 12, 'fraction_to_poi': 0.0, 'exercised_stock_options': 'NaN', 'from_messages': 26, 'other': 'NaN', 'director_fees': 17500}, 'GOLD JOSEPH': {'to_messages': 'NaN', 'deferral_payments': 'NaN', 'bonus': 750000, 'total_stock_value': 877611, 'expenses': 'NaN', 'from_poi_to_this_person': 0.0, 'from_this_person_to_poi': 0.0, 'poi': False, 'deferred_income': 'NaN', 'restricted_stock': 441096, 'long_term_incentive': 304805, 'salary': 272880, 'fraction_from_poi': 0.0, 'total_payments': 2146973, 'loan_advances': 'NaN', 'email_address': 'joe.gold@enron.com', 'restricted_stock_deferred': 'NaN', 'shared_receipt_with_poi': 'NaN', 'fraction_to_poi': 0.0, 'exercised_stock_options': 436515, 'from_messages': 'NaN', 'other': 819288, 'director_fees': 'NaN'}, 'BANNANTINE JAMES M': {'to_messages': 566, 'deferral_payments': 'NaN', 'bonus': 'NaN', 'total_stock_value': 5243487, 'expenses': 56301, 'from_poi_to_this_person': 0.06890459363957598, 'from_this_person_to_poi': 0.0, 'poi': False, 'deferred_income': -5104, 'restricted_stock': 1757552, 'long_term_incentive': 'NaN', 'salary': 477, 'fraction_from_poi': 0.00012173956473423317, 'total_payments': 916197, 'loan_advances': 'NaN', 'email_address': 'james.bannantine@enron.com', 'restricted_stock_deferred': -560222, 'shared_receipt_with_poi': 465, 'fraction_to_poi': 0.0, 'exercised_stock_options': 4046157, 'from_messages': 29, 'other': 864523, 'director_fees': 'NaN'}, 'DUNCAN JOHN H': {'to_messages': 'NaN', 'deferral_payments': 'NaN', 'bonus': 'NaN', 'total_stock_value': 371750, 'expenses': 'NaN', 'from_poi_to_this_person': 0.0, 'from_this_person_to_poi': 0.0, 'poi': False, 'deferred_income': -25000, 'restricted_stock': 'NaN', 'long_term_incentive': 'NaN', 'salary': 'NaN', 'fraction_from_poi': 0.0, 'total_payments': 77492, 'loan_advances': 'NaN', 'email_address': 'NaN', 'restricted_stock_deferred': 'NaN', 'shared_receipt_with_poi': 'NaN', 'fraction_to_poi': 0.0, 'exercised_stock_options': 371750, 'from_messages': 'NaN', 'other': 'NaN', 'director_fees': 102492}, 'SHAPIRO RICHARD S': {'to_messages': 15149, 'deferral_payments': 'NaN', 'bonus': 650000, 'total_stock_value': 987001, 'expenses': 137767, 'from_poi_to_this_person': 0.0048848108786058485, 'from_this_person_to_poi': 0.053497942386831275, 'poi': False, 'deferred_income': 'NaN', 'restricted_stock': 379164, 'long_term_incentive': 'NaN', 'salary': 269076, 'fraction_from_poi': 3.22451044861433e-07, 'total_payments': 1057548, 'loan_advances': 'NaN', 'email_address': 'richard.shapiro@enron.com', 'restricted_stock_deferred': 'NaN', 'shared_receipt_with_poi': 4527, 'fraction_to_poi': 4.4031228301918744e-05, 'exercised_stock_options': 607837, 'from_messages': 1215, 'other': 705, 'director_fees': 'NaN'}, 'SHERRIFF JOHN R': {'to_messages': 3187, 'deferral_payments': 'NaN', 'bonus': 1500000, 'total_stock_value': 3128982, 'expenses': 'NaN', 'from_poi_to_this_person': 0.008785691873235017, 'from_this_person_to_poi': 0.25, 'poi': False, 'deferred_income': 'NaN', 'restricted_stock': 1293424, 'long_term_incentive': 554422, 'salary': 428780, 'fraction_from_poi': 2.756727917550994e-06, 'total_payments': 4335388, 'loan_advances': 'NaN', 'email_address': 'john.sherriff@enron.com', 'restricted_stock_deferred': 'NaN', 'shared_receipt_with_poi': 2103, 'fraction_to_poi': 0.002717391304347826, 'exercised_stock_options': 1835558, 'from_messages': 92, 'other': 1852186, 'director_fees': 'NaN'}, 'SHELBY REX': {'to_messages': 225, 'deferral_payments': 'NaN', 'bonus': 200000, 'total_stock_value': 2493616, 'expenses': 22884, 'from_poi_to_this_person': 0.057777777777777775, 'from_this_person_to_poi': 0.358974358974359, 'poi': True, 'deferred_income': -4167, 'restricted_stock': 869220, 'long_term_incentive': 'NaN', 'salary': 211844, 'fraction_from_poi': 0.0002567901234567901, 'total_payments': 2003885, 'loan_advances': 'NaN', 'email_address': 'rex.shelby@enron.com', 'restricted_stock_deferred': 'NaN', 'shared_receipt_with_poi': 91, 'fraction_to_poi': 0.009204470742932281, 'exercised_stock_options': 1624396, 'from_messages': 39, 'other': 1573324, 'director_fees': 'NaN'}, 'LEMAISTRE CHARLES': {'to_messages': 'NaN', 'deferral_payments': 'NaN', 'bonus': 'NaN', 'total_stock_value': 412878, 'expenses': 'NaN', 'from_poi_to_this_person': 0.0, 'from_this_person_to_poi': 0.0, 'poi': False, 'deferred_income': -25000, 'restricted_stock': 'NaN', 'long_term_incentive': 'NaN', 'salary': 'NaN', 'fraction_from_poi': 0.0, 'total_payments': 87492, 'loan_advances': 'NaN', 'email_address': 'NaN', 'restricted_stock_deferred': 'NaN', 'shared_receipt_with_poi': 'NaN', 'fraction_to_poi': 0.0, 'exercised_stock_options': 412878, 'from_messages': 'NaN', 'other': 'NaN', 'director_fees': 112492}, 'DEFFNER JOSEPH M': {'to_messages': 714, 'deferral_payments': 'NaN', 'bonus': 600000, 'total_stock_value': 159211, 'expenses': 41626, 'from_poi_to_this_person': 0.16106442577030813, 'from_this_person_to_poi': 0.05405405405405406, 'poi': False, 'deferred_income': 'NaN', 'restricted_stock': 141833, 'long_term_incentive': 335349, 'salary': 206121, 'fraction_from_poi': 0.00022558042824973127, 'total_payments': 1208649, 'loan_advances': 'NaN', 'email_address': 'joseph.deffner@enron.com', 'restricted_stock_deferred': 'NaN', 'shared_receipt_with_poi': 552, 'fraction_to_poi': 0.0007304601899196494, 'exercised_stock_options': 17378, 'from_messages': 74, 'other': 25553, 'director_fees': 'NaN'}, 'KISHKILL JOSEPH G': {'to_messages': 'NaN', 'deferral_payments': 'NaN', 'bonus': 'NaN', 'total_stock_value': 1034346, 'expenses': 116335, 'from_poi_to_this_person': 0.0, 'from_this_person_to_poi': 0.0, 'poi': False, 'deferred_income': -51042, 'restricted_stock': 1034346, 'long_term_incentive': 'NaN', 'salary': 174246, 'fraction_from_poi': 0.0, 'total_payments': 704896, 'loan_advances': 'NaN', 'email_address': 'joe.kishkill@enron.com', 'restricted_stock_deferred': 'NaN', 'shared_receipt_with_poi': 'NaN', 'fraction_to_poi': 0.0, 'exercised_stock_options': 'NaN', 'from_messages': 'NaN', 'other': 465357, 'director_fees': 'NaN'}, 'WHALLEY LAWRENCE G': {'to_messages': 6019, 'deferral_payments': 'NaN', 'bonus': 3000000, 'total_stock_value': 6079137, 'expenses': 57838, 'from_poi_to_this_person': 0.03090214321315833, 'from_this_person_to_poi': 0.04316546762589928, 'poi': False, 'deferred_income': 'NaN', 'restricted_stock': 2796177, 'long_term_incentive': 808346, 'salary': 510364, 'fraction_from_poi': 5.134099221325524e-06, 'total_payments': 4677574, 'loan_advances': 'NaN', 'email_address': 'greg.whalley@enron.com', 'restricted_stock_deferred': 'NaN', 'shared_receipt_with_poi': 3920, 'fraction_to_poi': 7.763573314010662e-05, 'exercised_stock_options': 3282960, 'from_messages': 556, 'other': 301026, 'director_fees': 'NaN'}, 'MCCONNELL MICHAEL S': {'to_messages': 3329, 'deferral_payments': 'NaN', 'bonus': 1100000, 'total_stock_value': 3101279, 'expenses': 81364, 'from_poi_to_this_person': 0.02763592670471613, 'from_this_person_to_poi': 0.07075127644055434, 'poi': False, 'deferred_income': 'NaN', 'restricted_stock': 1478269, 'long_term_incentive': 554422, 'salary': 365038, 'fraction_from_poi': 8.301570052483068e-06, 'total_payments': 2101364, 'loan_advances': 'NaN', 'email_address': 'mike.mcconnell@enron.com', 'restricted_stock_deferred': 'NaN', 'shared_receipt_with_poi': 2189, 'fraction_to_poi': 2.58027995771533e-05, 'exercised_stock_options': 1623010, 'from_messages': 2742, 'other': 540, 'director_fees': 'NaN'}, 'PIRO JIM': {'to_messages': 58, 'deferral_payments': 'NaN', 'bonus': 'NaN', 'total_stock_value': 47304, 'expenses': 'NaN', 'from_poi_to_this_person': 0.0, 'from_this_person_to_poi': 0.0625, 'poi': False, 'deferred_income': 'NaN', 'restricted_stock': 47304, 'long_term_incentive': 'NaN', 'salary': 'NaN', 'fraction_from_poi': 0.0, 'total_payments': 'NaN', 'loan_advances': 'NaN', 'email_address': 'jim.piro@enron.com', 'restricted_stock_deferred': 'NaN', 'shared_receipt_with_poi': 3, 'fraction_to_poi': 0.00390625, 'exercised_stock_options': 'NaN', 'from_messages': 16, 'other': 'NaN', 'director_fees': 'NaN'}, 'DELAINEY DAVID W': {'to_messages': 3093, 'deferral_payments': 'NaN', 'bonus': 3000000, 'total_stock_value': 3614261, 'expenses': 86174, 'from_poi_to_this_person': 0.02133850630455868, 'from_this_person_to_poi': 0.198435972629521, 'poi': True, 'deferred_income': 'NaN', 'restricted_stock': 1323148, 'long_term_incentive': 1294981, 'salary': 365163, 'fraction_from_poi': 6.898967444086221e-06, 'total_payments': 4747979, 'loan_advances': 'NaN', 'email_address': 'david.delainey@enron.com', 'restricted_stock_deferred': 'NaN', 'shared_receipt_with_poi': 2097, 'fraction_to_poi': 6.465818593337276e-05, 'exercised_stock_options': 2291113, 'from_messages': 3069, 'other': 1661, 'director_fees': 'NaN'}, 'SULLIVAN-SHAKLOVITZ COLLEEN': {'to_messages': 'NaN', 'deferral_payments': 181993, 'bonus': 100000, 'total_stock_value': 1362375, 'expenses': 'NaN', 'from_poi_to_this_person': 0.0, 'from_this_person_to_poi': 0.0, 'poi': False, 'deferred_income': 'NaN', 'restricted_stock': 'NaN', 'long_term_incentive': 554422, 'salary': 162779, 'fraction_from_poi': 0.0, 'total_payments': 999356, 'loan_advances': 'NaN', 'email_address': 'NaN', 'restricted_stock_deferred': 'NaN', 'shared_receipt_with_poi': 'NaN', 'fraction_to_poi': 0.0, 'exercised_stock_options': 1362375, 'from_messages': 'NaN', 'other': 162, 'director_fees': 'NaN'}, 'WROBEL BRUCE': {'to_messages': 'NaN', 'deferral_payments': 'NaN', 'bonus': 'NaN', 'total_stock_value': 139130, 'expenses': 'NaN', 'from_poi_to_this_person': 0.0, 'from_this_person_to_poi': 0.0, 'poi': False, 'deferred_income': 'NaN', 'restricted_stock': 'NaN', 'long_term_incentive': 'NaN', 'salary': 'NaN', 'fraction_from_poi': 0.0, 'total_payments': 'NaN', 'loan_advances': 'NaN', 'email_address': 'NaN', 'restricted_stock_deferred': 'NaN', 'shared_receipt_with_poi': 'NaN', 'fraction_to_poi': 0.0, 'exercised_stock_options': 139130, 'from_messages': 'NaN', 'other': 'NaN', 'director_fees': 'NaN'}, 'LINDHOLM TOD A': {'to_messages': 'NaN', 'deferral_payments': 204075, 'bonus': 200000, 'total_stock_value': 3064208, 'expenses': 57727, 'from_poi_to_this_person': 0.0, 'from_this_person_to_poi': 0.0, 'poi': False, 'deferred_income': 'NaN', 'restricted_stock': 514847, 'long_term_incentive': 175000, 'salary': 236457, 'fraction_from_poi': 0.0, 'total_payments': 875889, 'loan_advances': 'NaN', 'email_address': 'tod.lindholm@enron.com', 'restricted_stock_deferred': 'NaN', 'shared_receipt_with_poi': 'NaN', 'fraction_to_poi': 0.0, 'exercised_stock_options': 2549361, 'from_messages': 'NaN', 'other': 2630, 'director_fees': 'NaN'}, 'MEYER JEROME J': {'to_messages': 'NaN', 'deferral_payments': 'NaN', 'bonus': 'NaN', 'total_stock_value': 'NaN', 'expenses': 2151, 'from_poi_to_this_person': 0.0, 'from_this_person_to_poi': 0.0, 'poi': False, 'deferred_income': -38346, 'restricted_stock': 'NaN', 'long_term_incentive': 'NaN', 'salary': 'NaN', 'fraction_from_poi': 0.0, 'total_payments': 2151, 'loan_advances': 'NaN', 'email_address': 'NaN', 'restricted_stock_deferred': 'NaN', 'shared_receipt_with_poi': 'NaN', 'fraction_to_poi': 0.0, 'exercised_stock_options': 'NaN', 'from_messages': 'NaN', 'other': 'NaN', 'director_fees': 38346}, 'LAY KENNETH L': {'to_messages': 4273, 'deferral_payments': 202911, 'bonus': 7000000, 'total_stock_value': 49110078, 'expenses': 99832, 'from_poi_to_this_person': 0.028785396676807865, 'from_this_person_to_poi': 0.4444444444444444, 'poi': True, 'deferred_income': -300000, 'restricted_stock': 14761694, 'long_term_incentive': 3600000, 'salary': 1072321, 'fraction_from_poi': 6.736577738546188e-06, 'total_payments': 103559793, 'loan_advances': 81525000, 'email_address': 'kenneth.lay@enron.com', 'restricted_stock_deferred': 'NaN', 'shared_receipt_with_poi': 2411, 'fraction_to_poi': 0.012345679012345678, 'exercised_stock_options': 34348384, 'from_messages': 36, 'other': 10359729, 'director_fees': 'NaN'}, 'BUTTS ROBERT H': {'to_messages': 'NaN', 'deferral_payments': 'NaN', 'bonus': 750000, 'total_stock_value': 417619, 'expenses': 9410, 'from_poi_to_this_person': 0.0, 'from_this_person_to_poi': 0.0, 'poi': False, 'deferred_income': -75000, 'restricted_stock': 417619, 'long_term_incentive': 175000, 'salary': 261516, 'fraction_from_poi': 0.0, 'total_payments': 1271582, 'loan_advances': 'NaN', 'email_address': 'bob.butts@enron.com', 'restricted_stock_deferred': 'NaN', 'shared_receipt_with_poi': 'NaN', 'fraction_to_poi': 0.0, 'exercised_stock_options': 'NaN', 'from_messages': 'NaN', 'other': 150656, 'director_fees': 'NaN'}, 'OLSON CINDY K': {'to_messages': 1184, 'deferral_payments': 77716, 'bonus': 750000, 'total_stock_value': 2606763, 'expenses': 63791, 'from_poi_to_this_person': 0.016891891891891893, 'from_this_person_to_poi': 0.28846153846153844, 'poi': False, 'deferred_income': 'NaN', 'restricted_stock': 969729, 'long_term_incentive': 100000, 'salary': 329078, 'fraction_from_poi': 1.4266800584368153e-05, 'total_payments': 1321557, 'loan_advances': 'NaN', 'email_address': 'cindy.olson@enron.com', 'restricted_stock_deferred': 'NaN', 'shared_receipt_with_poi': 856, 'fraction_to_poi': 0.005547337278106509, 'exercised_stock_options': 1637034, 'from_messages': 52, 'other': 972, 'director_fees': 'NaN'}, 'MCDONALD REBECCA': {'to_messages': 894, 'deferral_payments': 'NaN', 'bonus': 'NaN', 'total_stock_value': 1691366, 'expenses': 'NaN', 'from_poi_to_this_person': 0.06040268456375839, 'from_this_person_to_poi': 0.07692307692307693, 'poi': False, 'deferred_income': 'NaN', 'restricted_stock': 934065, 'long_term_incentive': 'NaN', 'salary': 'NaN', 'fraction_from_poi': 6.756452412053512e-05, 'total_payments': 'NaN', 'loan_advances': 'NaN', 'email_address': 'rebecca.mcdonald@enron.com', 'restricted_stock_deferred': 'NaN', 'shared_receipt_with_poi': 720, 'fraction_to_poi': 0.00591715976331361, 'exercised_stock_options': 757301, 'from_messages': 13, 'other': 'NaN', 'director_fees': 'NaN'}, 'CUMBERLAND MICHAEL S': {'to_messages': 'NaN', 'deferral_payments': 'NaN', 'bonus': 325000, 'total_stock_value': 207940, 'expenses': 22344, 'from_poi_to_this_person': 0.0, 'from_this_person_to_poi': 0.0, 'poi': False, 'deferred_income': 'NaN', 'restricted_stock': 207940, 'long_term_incentive': 275000, 'salary': 184899, 'fraction_from_poi': 0.0, 'total_payments': 807956, 'loan_advances': 'NaN', 'email_address': 'NaN', 'restricted_stock_deferred': 'NaN', 'shared_receipt_with_poi': 'NaN', 'fraction_to_poi': 0.0, 'exercised_stock_options': 'NaN', 'from_messages': 'NaN', 'other': 713, 'director_fees': 'NaN'}, 'GAHN ROBERT S': {'to_messages': 'NaN', 'deferral_payments': 73122, 'bonus': 509870, 'total_stock_value': 318607, 'expenses': 50080, 'from_poi_to_this_person': 0.0, 'from_this_person_to_poi': 0.0, 'poi': False, 'deferred_income': -1042, 'restricted_stock': 235370, 'long_term_incentive': 'NaN', 'salary': 192008, 'fraction_from_poi': 0.0, 'total_payments': 900585, 'loan_advances': 'NaN', 'email_address': 'NaN', 'restricted_stock_deferred': 'NaN', 'shared_receipt_with_poi': 'NaN', 'fraction_to_poi': 0.0, 'exercised_stock_options': 83237, 'from_messages': 'NaN', 'other': 76547, 'director_fees': 'NaN'}, 'MCCLELLAN GEORGE': {'to_messages': 1744, 'deferral_payments': 'NaN', 'bonus': 900000, 'total_stock_value': 947861, 'expenses': 228763, 'from_poi_to_this_person': 0.02981651376146789, 'from_this_person_to_poi': 0.0, 'poi': False, 'deferred_income': -125000, 'restricted_stock': 441096, 'long_term_incentive': 'NaN', 'salary': 263413, 'fraction_from_poi': 1.7096624863227e-05, 'total_payments': 1318763, 'loan_advances': 'NaN', 'email_address': 'george.mcclellan@enron.com', 'restricted_stock_deferred': 'NaN', 'shared_receipt_with_poi': 1469, 'fraction_to_poi': 0.0, 'exercised_stock_options': 506765, 'from_messages': 49, 'other': 51587, 'director_fees': 'NaN'}, 'HERMANN ROBERT J': {'to_messages': 'NaN', 'deferral_payments': 'NaN', 'bonus': 700000, 'total_stock_value': 668132, 'expenses': 48357, 'from_poi_to_this_person': 0.0, 'from_this_person_to_poi': 0.0, 'poi': False, 'deferred_income': -280000, 'restricted_stock': 480632, 'long_term_incentive': 150000, 'salary': 262663, 'fraction_from_poi': 0.0, 'total_payments': 1297461, 'loan_advances': 'NaN', 'email_address': 'robert.hermann@enron.com', 'restricted_stock_deferred': 'NaN', 'shared_receipt_with_poi': 'NaN', 'fraction_to_poi': 0.0, 'exercised_stock_options': 187500, 'from_messages': 'NaN', 'other': 416441, 'director_fees': 'NaN'}, 'SCRIMSHAW MATTHEW': {'to_messages': 'NaN', 'deferral_payments': 'NaN', 'bonus': 'NaN', 'total_stock_value': 759557, 'expenses': 'NaN', 'from_poi_to_this_person': 0.0, 'from_this_person_to_poi': 0.0, 'poi': False, 'deferred_income': 'NaN', 'restricted_stock': 'NaN', 'long_term_incentive': 'NaN', 'salary': 'NaN', 'fraction_from_poi': 0.0, 'total_payments': 'NaN', 'loan_advances': 'NaN', 'email_address': 'matthew.scrimshaw@enron.com', 'restricted_stock_deferred': 'NaN', 'shared_receipt_with_poi': 'NaN', 'fraction_to_poi': 0.0, 'exercised_stock_options': 759557, 'from_messages': 'NaN', 'other': 'NaN', 'director_fees': 'NaN'}, 'GATHMANN WILLIAM D': {'to_messages': 'NaN', 'deferral_payments': 'NaN', 'bonus': 'NaN', 'total_stock_value': 1945360, 'expenses': 'NaN', 'from_poi_to_this_person': 0.0, 'from_this_person_to_poi': 0.0, 'poi': False, 'deferred_income': 'NaN', 'restricted_stock': 264013, 'long_term_incentive': 'NaN', 'salary': 'NaN', 'fraction_from_poi': 0.0, 'total_payments': 'NaN', 'loan_advances': 'NaN', 'email_address': 'NaN', 'restricted_stock_deferred': -72419, 'shared_receipt_with_poi': 'NaN', 'fraction_to_poi': 0.0, 'exercised_stock_options': 1753766, 'from_messages': 'NaN', 'other': 'NaN', 'director_fees': 'NaN'}, 'HAEDICKE MARK E': {'to_messages': 4009, 'deferral_payments': 2157527, 'bonus': 1150000, 'total_stock_value': 803094, 'expenses': 76169, 'from_poi_to_this_person': 0.04489897730107259, 'from_this_person_to_poi': 0.03142709943328181, 'poi': False, 'deferred_income': -934484, 'restricted_stock': 524169, 'long_term_incentive': 983346, 'salary': 374125, 'fraction_from_poi': 1.119954534823462e-05, 'total_payments': 3859065, 'loan_advances': 'NaN', 'email_address': 'mark.haedicke@enron.com', 'restricted_stock_deferred': -329825, 'shared_receipt_with_poi': 1847, 'fraction_to_poi': 1.6191189816219378e-05, 'exercised_stock_options': 608750, 'from_messages': 1941, 'other': 52382, 'director_fees': 'NaN'}, 'BOWEN JR RAYMOND M': {'to_messages': 1858, 'deferral_payments': 'NaN', 'bonus': 1350000, 'total_stock_value': 252055, 'expenses': 65907, 'from_poi_to_this_person': 0.07534983853606028, 'from_this_person_to_poi': 0.5555555555555556, 'poi': True, 'deferred_income': -833, 'restricted_stock': 252055, 'long_term_incentive': 974293, 'salary': 278601, 'fraction_from_poi': 4.055427262435968e-05, 'total_payments': 2669589, 'loan_advances': 'NaN', 'email_address': 'raymond.bowen@enron.com', 'restricted_stock_deferred': 'NaN', 'shared_receipt_with_poi': 1593, 'fraction_to_poi': 0.0205761316872428, 'exercised_stock_options': 'NaN', 'from_messages': 27, 'other': 1621, 'director_fees': 'NaN'}, 'GILLIS JOHN': {'to_messages': 'NaN', 'deferral_payments': 'NaN', 'bonus': 'NaN', 'total_stock_value': 85641, 'expenses': 'NaN', 'from_poi_to_this_person': 0.0, 'from_this_person_to_poi': 0.0, 'poi': False, 'deferred_income': 'NaN', 'restricted_stock': 75838, 'long_term_incentive': 'NaN', 'salary': 'NaN', 'fraction_from_poi': 0.0, 'total_payments': 'NaN', 'loan_advances': 'NaN', 'email_address': 'NaN', 'restricted_stock_deferred': 'NaN', 'shared_receipt_with_poi': 'NaN', 'fraction_to_poi': 0.0, 'exercised_stock_options': 9803, 'from_messages': 'NaN', 'other': 'NaN', 'director_fees': 'NaN'}, 'FITZGERALD JAY L': {'to_messages': 936, 'deferral_payments': 'NaN', 'bonus': 350000, 'total_stock_value': 1621236, 'expenses': 23870, 'from_poi_to_this_person': 0.0010683760683760685, 'from_this_person_to_poi': 0.5, 'poi': False, 'deferred_income': 'NaN', 'restricted_stock': 956775, 'long_term_incentive': 556416, 'salary': 199157, 'fraction_from_poi': 1.1414274234787056e-06, 'total_payments': 1414857, 'loan_advances': 'NaN', 'email_address': 'jay.fitzgerald@enron.com', 'restricted_stock_deferred': 'NaN', 'shared_receipt_with_poi': 723, 'fraction_to_poi': 0.03125, 'exercised_stock_options': 664461, 'from_messages': 16, 'other': 285414, 'director_fees': 'NaN'}, 'MORAN MICHAEL P': {'to_messages': 672, 'deferral_payments': 'NaN', 'bonus': 'NaN', 'total_stock_value': 221141, 'expenses': 'NaN', 'from_poi_to_this_person': 0.0, 'from_this_person_to_poi': 0.0, 'poi': False, 'deferred_income': 'NaN', 'restricted_stock': 161602, 'long_term_incentive': 'NaN', 'salary': 'NaN', 'fraction_from_poi': 0.0, 'total_payments': 'NaN', 'loan_advances': 'NaN', 'email_address': 'michael.moran@enron.com', 'restricted_stock_deferred': 'NaN', 'shared_receipt_with_poi': 127, 'fraction_to_poi': 0.0, 'exercised_stock_options': 59539, 'from_messages': 19, 'other': 'NaN', 'director_fees': 'NaN'}, 'REDMOND BRIAN L': {'to_messages': 1671, 'deferral_payments': 'NaN', 'bonus': 'NaN', 'total_stock_value': 7890324, 'expenses': 14689, 'from_poi_to_this_person': 0.12208258527827648, 'from_this_person_to_poi': 0.22171945701357465, 'poi': False, 'deferred_income': 'NaN', 'restricted_stock': 381285, 'long_term_incentive': 'NaN', 'salary': 96840, 'fraction_from_poi': 7.30595962168022e-05, 'total_payments': 111529, 'loan_advances': 'NaN', 'email_address': 'brian.redmond@enron.com', 'restricted_stock_deferred': 'NaN', 'shared_receipt_with_poi': 1063, 'fraction_to_poi': 0.0010032554615998853, 'exercised_stock_options': 7509039, 'from_messages': 221, 'other': 'NaN', 'director_fees': 'NaN'}, 'BAZELIDES PHILIP J': {'to_messages': 'NaN', 'deferral_payments': 684694, 'bonus': 'NaN', 'total_stock_value': 1599641, 'expenses': 'NaN', 'from_poi_to_this_person': 0.0, 'from_this_person_to_poi': 0.0, 'poi': False, 'deferred_income': 'NaN', 'restricted_stock': 'NaN', 'long_term_incentive': 93750, 'salary': 80818, 'fraction_from_poi': 0.0, 'total_payments': 860136, 'loan_advances': 'NaN', 'email_address': 'NaN', 'restricted_stock_deferred': 'NaN', 'shared_receipt_with_poi': 'NaN', 'fraction_to_poi': 0.0, 'exercised_stock_options': 1599641, 'from_messages': 'NaN', 'other': 874, 'director_fees': 'NaN'}, 'BELDEN TIMOTHY N': {'to_messages': 7991, 'deferral_payments': 2144013, 'bonus': 5249999, 'total_stock_value': 1110705, 'expenses': 17355, 'from_poi_to_this_person': 0.028532098610937303, 'from_this_person_to_poi': 0.2231404958677686, 'poi': True, 'deferred_income': -2334434, 'restricted_stock': 157569, 'long_term_incentive': 'NaN', 'salary': 213999, 'fraction_from_poi': 3.570529171685309e-06, 'total_payments': 5501630, 'loan_advances': 'NaN', 'email_address': 'tim.belden@enron.com', 'restricted_stock_deferred': 'NaN', 'shared_receipt_with_poi': 5521, 'fraction_to_poi': 0.00046103408237142276, 'exercised_stock_options': 953136, 'from_messages': 484, 'other': 210698, 'director_fees': 'NaN'}, 'DURAN WILLIAM D': {'to_messages': 904, 'deferral_payments': 'NaN', 'bonus': 750000, 'total_stock_value': 1640910, 'expenses': 25785, 'from_poi_to_this_person': 0.1172566371681416, 'from_this_person_to_poi': 0.25, 'poi': False, 'deferred_income': 'NaN', 'restricted_stock': 189041, 'long_term_incentive': 1105218, 'salary': 210692, 'fraction_from_poi': 0.00012970866943378496, 'total_payments': 2093263, 'loan_advances': 'NaN', 'email_address': 'w.duran@enron.com', 'restricted_stock_deferred': 'NaN', 'shared_receipt_with_poi': 599, 'fraction_to_poi': 0.020833333333333332, 'exercised_stock_options': 1451869, 'from_messages': 12, 'other': 1568, 'director_fees': 'NaN'}, 'THORN TERENCE H': {'to_messages': 266, 'deferral_payments': 16586, 'bonus': 'NaN', 'total_stock_value': 4817796, 'expenses': 46145, 'from_poi_to_this_person': 0.0, 'from_this_person_to_poi': 0.0, 'poi': False, 'deferred_income': 'NaN', 'restricted_stock': 365320, 'long_term_incentive': 200000, 'salary': 222093, 'fraction_from_poi': 0.0, 'total_payments': 911453, 'loan_advances': 'NaN', 'email_address': 'terence.thorn@enron.com', 'restricted_stock_deferred': 'NaN', 'shared_receipt_with_poi': 73, 'fraction_to_poi': 0.0, 'exercised_stock_options': 4452476, 'from_messages': 41, 'other': 426629, 'director_fees': 'NaN'}, 'FASTOW ANDREW S': {'to_messages': 'NaN', 'deferral_payments': 'NaN', 'bonus': 1300000, 'total_stock_value': 1794412, 'expenses': 55921, 'from_poi_to_this_person': 0.0, 'from_this_person_to_poi': 0.0, 'poi': True, 'deferred_income': -1386055, 'restricted_stock': 1794412, 'long_term_incentive': 1736055, 'salary': 440698, 'fraction_from_poi': 0.0, 'total_payments': 2424083, 'loan_advances': 'NaN', 'email_address': 'andrew.fastow@enron.com', 'restricted_stock_deferred': 'NaN', 'shared_receipt_with_poi': 'NaN', 'fraction_to_poi': 0.0, 'exercised_stock_options': 'NaN', 'from_messages': 'NaN', 'other': 277464, 'director_fees': 'NaN'}, 'FOY JOE': {'to_messages': 57, 'deferral_payments': 181755, 'bonus': 'NaN', 'total_stock_value': 343434, 'expenses': 'NaN', 'from_poi_to_this_person': 0.0, 'from_this_person_to_poi': 0.0, 'poi': False, 'deferred_income': 'NaN', 'restricted_stock': 'NaN', 'long_term_incentive': 'NaN', 'salary': 'NaN', 'fraction_from_poi': 0.0, 'total_payments': 181755, 'loan_advances': 'NaN', 'email_address': 'tracy.foy@enron.com', 'restricted_stock_deferred': 'NaN', 'shared_receipt_with_poi': 2, 'fraction_to_poi': 0.0, 'exercised_stock_options': 343434, 'from_messages': 13, 'other': 'NaN', 'director_fees': 'NaN'}, 'CALGER CHRISTOPHER F': {'to_messages': 2598, 'deferral_payments': 'NaN', 'bonus': 1250000, 'total_stock_value': 126027, 'expenses': 35818, 'from_poi_to_this_person': 0.07659738260200154, 'from_this_person_to_poi': 0.1736111111111111, 'poi': True, 'deferred_income': -262500, 'restricted_stock': 126027, 'long_term_incentive': 375304, 'salary': 240189, 'fraction_from_poi': 2.9483211163203055e-05, 'total_payments': 1639297, 'loan_advances': 'NaN', 'email_address': 'christopher.calger@enron.com', 'restricted_stock_deferred': 'NaN', 'shared_receipt_with_poi': 2188, 'fraction_to_poi': 0.0012056327160493826, 'exercised_stock_options': 'NaN', 'from_messages': 144, 'other': 486, 'director_fees': 'NaN'}, 'RICE KENNETH D': {'to_messages': 905, 'deferral_payments': 'NaN', 'bonus': 1750000, 'total_stock_value': 22542539, 'expenses': 46950, 'from_poi_to_this_person': 0.04640883977900553, 'from_this_person_to_poi': 0.2222222222222222, 'poi': True, 'deferred_income': -3504386, 'restricted_stock': 2748364, 'long_term_incentive': 1617011, 'salary': 420636, 'fraction_from_poi': 5.1280485943652515e-05, 'total_payments': 505050, 'loan_advances': 'NaN', 'email_address': 'ken.rice@enron.com', 'restricted_stock_deferred': 'NaN', 'shared_receipt_with_poi': 864, 'fraction_to_poi': 0.012345679012345678, 'exercised_stock_options': 19794175, 'from_messages': 18, 'other': 174839, 'director_fees': 'NaN'}, 'KAMINSKI WINCENTY J': {'to_messages': 4607, 'deferral_payments': 'NaN', 'bonus': 400000, 'total_stock_value': 976037, 'expenses': 83585, 'from_poi_to_this_person': 0.008899500759713479, 'from_this_person_to_poi': 0.011901447661469933, 'poi': False, 'deferred_income': 'NaN', 'restricted_stock': 126027, 'long_term_incentive': 323466, 'salary': 275101, 'fraction_from_poi': 1.9317344822473366e-06, 'total_payments': 1086821, 'loan_advances': 'NaN', 'email_address': 'vince.kaminski@enron.com', 'restricted_stock_deferred': 'NaN', 'shared_receipt_with_poi': 583, 'fraction_to_poi': 8.283301546123284e-07, 'exercised_stock_options': 850010, 'from_messages': 14368, 'other': 4669, 'director_fees': 'NaN'}, 'LOCKHART EUGENE E': {'to_messages': 'NaN', 'deferral_payments': 'NaN', 'bonus': 'NaN', 'total_stock_value': 'NaN', 'expenses': 'NaN', 'from_poi_to_this_person': 0.0, 'from_this_person_to_poi': 0.0, 'poi': False, 'deferred_income': 'NaN', 'restricted_stock': 'NaN', 'long_term_incentive': 'NaN', 'salary': 'NaN', 'fraction_from_poi': 0.0, 'total_payments': 'NaN', 'loan_advances': 'NaN', 'email_address': 'NaN', 'restricted_stock_deferred': 'NaN', 'shared_receipt_with_poi': 'NaN', 'fraction_to_poi': 0.0, 'exercised_stock_options': 'NaN', 'from_messages': 'NaN', 'other': 'NaN', 'director_fees': 'NaN'}, 'COX DAVID': {'to_messages': 102, 'deferral_payments': 'NaN', 'bonus': 800000, 'total_stock_value': 495633, 'expenses': 27861, 'from_poi_to_this_person': 0.0, 'from_this_person_to_poi': 0.12121212121212122, 'poi': False, 'deferred_income': -41250, 'restricted_stock': 378082, 'long_term_incentive': 'NaN', 'salary': 314288, 'fraction_from_poi': 0.0, 'total_payments': 1101393, 'loan_advances': 'NaN', 'email_address': 'chip.cox@enron.com', 'restricted_stock_deferred': 'NaN', 'shared_receipt_with_poi': 71, 'fraction_to_poi': 0.0036730945821854912, 'exercised_stock_options': 117551, 'from_messages': 33, 'other': 494, 'director_fees': 'NaN'}, 'OVERDYKE JR JERE C': {'to_messages': 'NaN', 'deferral_payments': 'NaN', 'bonus': 'NaN', 'total_stock_value': 7307594, 'expenses': 18834, 'from_poi_to_this_person': 0.0, 'from_this_person_to_poi': 0.0, 'poi': False, 'deferred_income': 'NaN', 'restricted_stock': 2041016, 'long_term_incentive': 135836, 'salary': 94941, 'fraction_from_poi': 0.0, 'total_payments': 249787, 'loan_advances': 'NaN', 'email_address': 'jere.overdyke@enron.com', 'restricted_stock_deferred': 'NaN', 'shared_receipt_with_poi': 'NaN', 'fraction_to_poi': 0.0, 'exercised_stock_options': 5266578, 'from_messages': 'NaN', 'other': 176, 'director_fees': 'NaN'}, 'PEREIRA PAULO V. FERRAZ': {'to_messages': 'NaN', 'deferral_payments': 'NaN', 'bonus': 'NaN', 'total_stock_value': 'NaN', 'expenses': 27942, 'from_poi_to_this_person': 0.0, 'from_this_person_to_poi': 0.0, 'poi': False, 'deferred_income': -101250, 'restricted_stock': 'NaN', 'long_term_incentive': 'NaN', 'salary': 'NaN', 'fraction_from_poi': 0.0, 'total_payments': 27942, 'loan_advances': 'NaN', 'email_address': 'NaN', 'restricted_stock_deferred': 'NaN', 'shared_receipt_with_poi': 'NaN', 'fraction_to_poi': 0.0, 'exercised_stock_options': 'NaN', 'from_messages': 'NaN', 'other': 'NaN', 'director_fees': 101250}, 'STABLER FRANK': {'to_messages': 'NaN', 'deferral_payments': 'NaN', 'bonus': 500000, 'total_stock_value': 511734, 'expenses': 16514, 'from_poi_to_this_person': 0.0, 'from_this_person_to_poi': 0.0, 'poi': False, 'deferred_income': 'NaN', 'restricted_stock': 511734, 'long_term_incentive': 'NaN', 'salary': 239502, 'fraction_from_poi': 0.0, 'total_payments': 1112087, 'loan_advances': 'NaN', 'email_address': 'frank.stabler@enron.com', 'restricted_stock_deferred': 'NaN', 'shared_receipt_with_poi': 'NaN', 'fraction_to_poi': 0.0, 'exercised_stock_options': 'NaN', 'from_messages': 'NaN', 'other': 356071, 'director_fees': 'NaN'}, 'SKILLING JEFFREY K': {'to_messages': 3627, 'deferral_payments': 'NaN', 'bonus': 5600000, 'total_stock_value': 26093672, 'expenses': 29336, 'from_poi_to_this_person': 0.0242624758753791, 'from_this_person_to_poi': 0.2777777777777778, 'poi': True, 'deferred_income': 'NaN', 'restricted_stock': 6843672, 'long_term_incentive': 1920000, 'salary': 1111258, 'fraction_from_poi': 6.689406086401738e-06, 'total_payments': 8682716, 'loan_advances': 'NaN', 'email_address': 'jeff.skilling@enron.com', 'restricted_stock_deferred': 'NaN', 'shared_receipt_with_poi': 2042, 'fraction_to_poi': 0.00257201646090535, 'exercised_stock_options': 19250000, 'from_messages': 108, 'other': 22122, 'director_fees': 'NaN'}, 'BLAKE JR. NORMAN P': {'to_messages': 'NaN', 'deferral_payments': 'NaN', 'bonus': 'NaN', 'total_stock_value': 'NaN', 'expenses': 1279, 'from_poi_to_this_person': 0.0, 'from_this_person_to_poi': 0.0, 'poi': False, 'deferred_income': -113784, 'restricted_stock': 'NaN', 'long_term_incentive': 'NaN', 'salary': 'NaN', 'fraction_from_poi': 0.0, 'total_payments': 1279, 'loan_advances': 'NaN', 'email_address': 'NaN', 'restricted_stock_deferred': 'NaN', 'shared_receipt_with_poi': 'NaN', 'fraction_to_poi': 0.0, 'exercised_stock_options': 'NaN', 'from_messages': 'NaN', 'other': 'NaN', 'director_fees': 113784}, 'SHERRICK JEFFREY B': {'to_messages': 613, 'deferral_payments': 'NaN', 'bonus': 'NaN', 'total_stock_value': 1832468, 'expenses': 'NaN', 'from_poi_to_this_person': 0.0636215334420881, 'from_this_person_to_poi': 0.72, 'poi': False, 'deferred_income': 'NaN', 'restricted_stock': 405999, 'long_term_incentive': 'NaN', 'salary': 'NaN', 'fraction_from_poi': 0.00010378716711596754, 'total_payments': 'NaN', 'loan_advances': 'NaN', 'email_address': 'jeffrey.sherrick@enron.com', 'restricted_stock_deferred': 'NaN', 'shared_receipt_with_poi': 583, 'fraction_to_poi': 0.0288, 'exercised_stock_options': 1426469, 'from_messages': 25, 'other': 'NaN', 'director_fees': 'NaN'}, 'PRENTICE JAMES': {'to_messages': 'NaN', 'deferral_payments': 564348, 'bonus': 'NaN', 'total_stock_value': 1095040, 'expenses': 'NaN', 'from_poi_to_this_person': 0.0, 'from_this_person_to_poi': 0.0, 'poi': False, 'deferred_income': 'NaN', 'restricted_stock': 208809, 'long_term_incentive': 'NaN', 'salary': 'NaN', 'fraction_from_poi': 0.0, 'total_payments': 564348, 'loan_advances': 'NaN', 'email_address': 'james.prentice@enron.com', 'restricted_stock_deferred': 'NaN', 'shared_receipt_with_poi': 'NaN', 'fraction_to_poi': 0.0, 'exercised_stock_options': 886231, 'from_messages': 'NaN', 'other': 'NaN', 'director_fees': 'NaN'}, 'GRAY RODNEY': {'to_messages': 'NaN', 'deferral_payments': 93585, 'bonus': 'NaN', 'total_stock_value': 'NaN', 'expenses': 'NaN', 'from_poi_to_this_person': 0.0, 'from_this_person_to_poi': 0.0, 'poi': False, 'deferred_income': 'NaN', 'restricted_stock': 'NaN', 'long_term_incentive': 365625, 'salary': 6615, 'fraction_from_poi': 0.0, 'total_payments': 1146658, 'loan_advances': 'NaN', 'email_address': 'NaN', 'restricted_stock_deferred': 'NaN', 'shared_receipt_with_poi': 'NaN', 'fraction_to_poi': 0.0, 'exercised_stock_options': 'NaN', 'from_messages': 'NaN', 'other': 680833, 'director_fees': 'NaN'}, 'PICKERING MARK R': {'to_messages': 898, 'deferral_payments': 'NaN', 'bonus': 300000, 'total_stock_value': 28798, 'expenses': 31653, 'from_poi_to_this_person': 0.0077951002227171495, 'from_this_person_to_poi': 0.0, 'poi': False, 'deferred_income': 'NaN', 'restricted_stock': 'NaN', 'long_term_incentive': 'NaN', 'salary': 655037, 'fraction_from_poi': 8.680512497457851e-06, 'total_payments': 1386690, 'loan_advances': 400000, 'email_address': 'mark.pickering@enron.com', 'restricted_stock_deferred': 'NaN', 'shared_receipt_with_poi': 728, 'fraction_to_poi': 0.0, 'exercised_stock_options': 28798, 'from_messages': 67, 'other': 'NaN', 'director_fees': 'NaN'}, 'THE TRAVEL AGENCY IN THE PARK': {'to_messages': 'NaN', 'deferral_payments': 'NaN', 'bonus': 'NaN', 'total_stock_value': 'NaN', 'expenses': 'NaN', 'from_poi_to_this_person': 0.0, 'from_this_person_to_poi': 0.0, 'poi': False, 'deferred_income': 'NaN', 'restricted_stock': 'NaN', 'long_term_incentive': 'NaN', 'salary': 'NaN', 'fraction_from_poi': 0.0, 'total_payments': 362096, 'loan_advances': 'NaN', 'email_address': 'NaN', 'restricted_stock_deferred': 'NaN', 'shared_receipt_with_poi': 'NaN', 'fraction_to_poi': 0.0, 'exercised_stock_options': 'NaN', 'from_messages': 'NaN', 'other': 362096, 'director_fees': 'NaN'}, 'NOLES JAMES L': {'to_messages': 'NaN', 'deferral_payments': 774401, 'bonus': 'NaN', 'total_stock_value': 368705, 'expenses': 'NaN', 'from_poi_to_this_person': 0.0, 'from_this_person_to_poi': 0.0, 'poi': False, 'deferred_income': 'NaN', 'restricted_stock': 463261, 'long_term_incentive': 'NaN', 'salary': 'NaN', 'fraction_from_poi': 0.0, 'total_payments': 774401, 'loan_advances': 'NaN', 'email_address': 'NaN', 'restricted_stock_deferred': -94556, 'shared_receipt_with_poi': 'NaN', 'fraction_to_poi': 0.0, 'exercised_stock_options': 'NaN', 'from_messages': 'NaN', 'other': 'NaN', 'director_fees': 'NaN'}, 'KEAN STEVEN J': {'to_messages': 12754, 'deferral_payments': 'NaN', 'bonus': 1000000, 'total_stock_value': 6153642, 'expenses': 41953, 'from_poi_to_this_person': 0.010976948408342482, 'from_this_person_to_poi': 0.05725699067909454, 'poi': False, 'deferred_income': 'NaN', 'restricted_stock': 4131594, 'long_term_incentive': 300000, 'salary': 404338, 'fraction_from_poi': 8.606671168529466e-07, 'total_payments': 1747522, 'loan_advances': 'NaN', 'email_address': 'steven.kean@enron.com', 'restricted_stock_deferred': 'NaN', 'shared_receipt_with_poi': 3639, 'fraction_to_poi': 8.471222174743977e-06, 'exercised_stock_options': 2022048, 'from_messages': 6759, 'other': 1231, 'director_fees': 'NaN'}, 'FOWLER PEGGY': {'to_messages': 517, 'deferral_payments': 'NaN', 'bonus': 'NaN', 'total_stock_value': 1884748, 'expenses': 'NaN', 'from_poi_to_this_person': 0.0, 'from_this_person_to_poi': 0.0, 'poi': False, 'deferred_income': 'NaN', 'restricted_stock': 560170, 'long_term_incentive': 'NaN', 'salary': 'NaN', 'fraction_from_poi': 0.0, 'total_payments': 'NaN', 'loan_advances': 'NaN', 'email_address': 'kulvinder.fowler@enron.com', 'restricted_stock_deferred': 'NaN', 'shared_receipt_with_poi': 10, 'fraction_to_poi': 0.0, 'exercised_stock_options': 1324578, 'from_messages': 36, 'other': 'NaN', 'director_fees': 'NaN'}, 'WASAFF GEORGE': {'to_messages': 400, 'deferral_payments': 831299, 'bonus': 325000, 'total_stock_value': 2056427, 'expenses': 'NaN', 'from_poi_to_this_person': 0.055, 'from_this_person_to_poi': 0.23333333333333334, 'poi': False, 'deferred_income': -583325, 'restricted_stock': 388167, 'long_term_incentive': 200000, 'salary': 259996, 'fraction_from_poi': 0.0001375, 'total_payments': 1034395, 'loan_advances': 'NaN', 'email_address': 'george.wasaff@enron.com', 'restricted_stock_deferred': 'NaN', 'shared_receipt_with_poi': 337, 'fraction_to_poi': 0.0077777777777777776, 'exercised_stock_options': 1668260, 'from_messages': 30, 'other': 1425, 'director_fees': 'NaN'}, 'WHITE JR THOMAS E': {'to_messages': 'NaN', 'deferral_payments': 'NaN', 'bonus': 450000, 'total_stock_value': 15144123, 'expenses': 81353, 'from_poi_to_this_person': 0.0, 'from_this_person_to_poi': 0.0, 'poi': False, 'deferred_income': 'NaN', 'restricted_stock': 13847074, 'long_term_incentive': 'NaN', 'salary': 317543, 'fraction_from_poi': 0.0, 'total_payments': 1934359, 'loan_advances': 'NaN', 'email_address': 'thomas.white@enron.com', 'restricted_stock_deferred': 'NaN', 'shared_receipt_with_poi': 'NaN', 'fraction_to_poi': 0.0, 'exercised_stock_options': 1297049, 'from_messages': 'NaN', 'other': 1085463, 'director_fees': 'NaN'}, 'CHRISTODOULOU DIOMEDES': {'to_messages': 'NaN', 'deferral_payments': 'NaN', 'bonus': 'NaN', 'total_stock_value': 6077885, 'expenses': 'NaN', 'from_poi_to_this_person': 0.0, 'from_this_person_to_poi': 0.0, 'poi': False, 'deferred_income': 'NaN', 'restricted_stock': 950730, 'long_term_incentive': 'NaN', 'salary': 'NaN', 'fraction_from_poi': 0.0, 'total_payments': 'NaN', 'loan_advances': 'NaN', 'email_address': 'diomedes.christodoulou@enron.com', 'restricted_stock_deferred': 'NaN', 'shared_receipt_with_poi': 'NaN', 'fraction_to_poi': 0.0, 'exercised_stock_options': 5127155, 'from_messages': 'NaN', 'other': 'NaN', 'director_fees': 'NaN'}, 'ALLEN PHILLIP K': {'to_messages': 2902, 'deferral_payments': 2869717, 'bonus': 4175000, 'total_stock_value': 1729541, 'expenses': 13868, 'from_poi_to_this_person': 0.016195727084769126, 'from_this_person_to_poi': 0.029612756264236904, 'poi': False, 'deferred_income': -3081055, 'restricted_stock': 126027, 'long_term_incentive': 304805, 'salary': 201955, 'fraction_from_poi': 5.580884591581367e-06, 'total_payments': 4484442, 'loan_advances': 'NaN', 'email_address': 'phillip.allen@enron.com', 'restricted_stock_deferred': -126027, 'shared_receipt_with_poi': 1407, 'fraction_to_poi': 1.3491005131770798e-05, 'exercised_stock_options': 1729541, 'from_messages': 2195, 'other': 152, 'director_fees': 'NaN'}, 'SHARP VICTORIA T': {'to_messages': 3136, 'deferral_payments': 187469, 'bonus': 600000, 'total_stock_value': 494136, 'expenses': 116337, 'from_poi_to_this_person': 0.007653061224489796, 'from_this_person_to_poi': 0.04411764705882353, 'poi': False, 'deferred_income': 'NaN', 'restricted_stock': 213063, 'long_term_incentive': 422158, 'salary': 248146, 'fraction_from_poi': 2.440389421074552e-06, 'total_payments': 1576511, 'loan_advances': 'NaN', 'email_address': 'vicki.sharp@enron.com', 'restricted_stock_deferred': 'NaN', 'shared_receipt_with_poi': 2477, 'fraction_to_poi': 0.0003243944636678201, 'exercised_stock_options': 281073, 'from_messages': 136, 'other': 2401, 'director_fees': 'NaN'}, 'JAEDICKE ROBERT': {'to_messages': 'NaN', 'deferral_payments': 'NaN', 'bonus': 'NaN', 'total_stock_value': 431750, 'expenses': 'NaN', 'from_poi_to_this_person': 0.0, 'from_this_person_to_poi': 0.0, 'poi': False, 'deferred_income': -25000, 'restricted_stock': 44093, 'long_term_incentive': 'NaN', 'salary': 'NaN', 'fraction_from_poi': 0.0, 'total_payments': 83750, 'loan_advances': 'NaN', 'email_address': 'NaN', 'restricted_stock_deferred': -44093, 'shared_receipt_with_poi': 'NaN', 'fraction_to_poi': 0.0, 'exercised_stock_options': 431750, 'from_messages': 'NaN', 'other': 'NaN', 'director_fees': 108750}, 'WINOKUR JR. HERBERT S': {'to_messages': 'NaN', 'deferral_payments': 'NaN', 'bonus': 'NaN', 'total_stock_value': 'NaN', 'expenses': 1413, 'from_poi_to_this_person': 0.0, 'from_this_person_to_poi': 0.0, 'poi': False, 'deferred_income': -25000, 'restricted_stock': 'NaN', 'long_term_incentive': 'NaN', 'salary': 'NaN', 'fraction_from_poi': 0.0, 'total_payments': 84992, 'loan_advances': 'NaN', 'email_address': 'NaN', 'restricted_stock_deferred': 'NaN', 'shared_receipt_with_poi': 'NaN', 'fraction_to_poi': 0.0, 'exercised_stock_options': 'NaN', 'from_messages': 'NaN', 'other': 'NaN', 'director_fees': 108579}, 'BROWN MICHAEL': {'to_messages': 1486, 'deferral_payments': 'NaN', 'bonus': 'NaN', 'total_stock_value': 'NaN', 'expenses': 49288, 'from_poi_to_this_person': 0.008748317631224764, 'from_this_person_to_poi': 0.024390243902439025, 'poi': False, 'deferred_income': 'NaN', 'restricted_stock': 'NaN', 'long_term_incentive': 'NaN', 'salary': 'NaN', 'fraction_from_poi': 5.8871585674460055e-06, 'total_payments': 49288, 'loan_advances': 'NaN', 'email_address': 'michael.brown@enron.com', 'restricted_stock_deferred': 'NaN', 'shared_receipt_with_poi': 761, 'fraction_to_poi': 0.000594883997620464, 'exercised_stock_options': 'NaN', 'from_messages': 41, 'other': 'NaN', 'director_fees': 'NaN'}, 'BADUM JAMES P': {'to_messages': 'NaN', 'deferral_payments': 178980, 'bonus': 'NaN', 'total_stock_value': 257817, 'expenses': 3486, 'from_poi_to_this_person': 0.0, 'from_this_person_to_poi': 0.0, 'poi': False, 'deferred_income': 'NaN', 'restricted_stock': 'NaN', 'long_term_incentive': 'NaN', 'salary': 'NaN', 'fraction_from_poi': 0.0, 'total_payments': 182466, 'loan_advances': 'NaN', 'email_address': 'NaN', 'restricted_stock_deferred': 'NaN', 'shared_receipt_with_poi': 'NaN', 'fraction_to_poi': 0.0, 'exercised_stock_options': 257817, 'from_messages': 'NaN', 'other': 'NaN', 'director_fees': 'NaN'}, 'HUGHES JAMES A': {'to_messages': 719, 'deferral_payments': 'NaN', 'bonus': 'NaN', 'total_stock_value': 1118394, 'expenses': 'NaN', 'from_poi_to_this_person': 0.048678720445062586, 'from_this_person_to_poi': 0.14705882352941177, 'poi': False, 'deferred_income': 'NaN', 'restricted_stock': 363428, 'long_term_incentive': 'NaN', 'salary': 'NaN', 'fraction_from_poi': 6.770336640481583e-05, 'total_payments': 'NaN', 'loan_advances': 'NaN', 'email_address': 'james.hughes@enron.com', 'restricted_stock_deferred': 'NaN', 'shared_receipt_with_poi': 589, 'fraction_to_poi': 0.004325259515570935, 'exercised_stock_options': 754966, 'from_messages': 34, 'other': 'NaN', 'director_fees': 'NaN'}, 'REYNOLDS LAWRENCE': {'to_messages': 'NaN', 'deferral_payments': 51365, 'bonus': 100000, 'total_stock_value': 4221891, 'expenses': 8409, 'from_poi_to_this_person': 0.0, 'from_this_person_to_poi': 0.0, 'poi': False, 'deferred_income': -200000, 'restricted_stock': 201483, 'long_term_incentive': 156250, 'salary': 76399, 'fraction_from_poi': 0.0, 'total_payments': 394475, 'loan_advances': 'NaN', 'email_address': 'NaN', 'restricted_stock_deferred': -140264, 'shared_receipt_with_poi': 'NaN', 'fraction_to_poi': 0.0, 'exercised_stock_options': 4160672, 'from_messages': 'NaN', 'other': 202052, 'director_fees': 'NaN'}, 'DIMICHELE RICHARD G': {'to_messages': 'NaN', 'deferral_payments': 'NaN', 'bonus': 1000000, 'total_stock_value': 8317782, 'expenses': 35812, 'from_poi_to_this_person': 0.0, 'from_this_person_to_poi': 0.0, 'poi': False, 'deferred_income': 'NaN', 'restricted_stock': 126027, 'long_term_incentive': 694862, 'salary': 262788, 'fraction_from_poi': 0.0, 'total_payments': 2368151, 'loan_advances': 'NaN', 'email_address': 'richard.dimichele@enron.com', 'restricted_stock_deferred': 'NaN', 'shared_receipt_with_poi': 'NaN', 'fraction_to_poi': 0.0, 'exercised_stock_options': 8191755, 'from_messages': 'NaN', 'other': 374689, 'director_fees': 'NaN'}, 'BHATNAGAR SANJAY': {'to_messages': 523, 'deferral_payments': 'NaN', 'bonus': 'NaN', 'total_stock_value': 'NaN', 'expenses': 'NaN', 'from_poi_to_this_person': 0.0, 'from_this_person_to_poi': 0.034482758620689655, 'poi': False, 'deferred_income': 'NaN', 'restricted_stock': -2604490, 'long_term_incentive': 'NaN', 'salary': 'NaN', 'fraction_from_poi': 0.0, 'total_payments': 15456290, 'loan_advances': 'NaN', 'email_address': 'sanjay.bhatnagar@enron.com', 'restricted_stock_deferred': 15456290, 'shared_receipt_with_poi': 463, 'fraction_to_poi': 0.0011890606420927466, 'exercised_stock_options': 2604490, 'from_messages': 29, 'other': 137864, 'director_fees': 137864}, 'CARTER REBECCA C': {'to_messages': 312, 'deferral_payments': 'NaN', 'bonus': 300000, 'total_stock_value': 'NaN', 'expenses': 'NaN', 'from_poi_to_this_person': 0.09294871794871795, 'from_this_person_to_poi': 0.4666666666666667, 'poi': False, 'deferred_income': -159792, 'restricted_stock': 307301, 'long_term_incentive': 75000, 'salary': 261809, 'fraction_from_poi': 0.00029791255752794216, 'total_payments': 477557, 'loan_advances': 'NaN', 'email_address': 'rebecca.carter@enron.com', 'restricted_stock_deferred': -307301, 'shared_receipt_with_poi': 196, 'fraction_to_poi': 0.03111111111111111, 'exercised_stock_options': 'NaN', 'from_messages': 15, 'other': 540, 'director_fees': 'NaN'}, 'BUCHANAN HAROLD G': {'to_messages': 1088, 'deferral_payments': 'NaN', 'bonus': 500000, 'total_stock_value': 1014505, 'expenses': 600, 'from_poi_to_this_person': 0.0, 'from_this_person_to_poi': 0.0, 'poi': False, 'deferred_income': 'NaN', 'restricted_stock': 189041, 'long_term_incentive': 304805, 'salary': 248017, 'fraction_from_poi': 0.0, 'total_payments': 1054637, 'loan_advances': 'NaN', 'email_address': 'john.buchanan@enron.com', 'restricted_stock_deferred': 'NaN', 'shared_receipt_with_poi': 23, 'fraction_to_poi': 0.0, 'exercised_stock_options': 825464, 'from_messages': 125, 'other': 1215, 'director_fees': 'NaN'}, 'YEAP SOON': {'to_messages': 'NaN', 'deferral_payments': 'NaN', 'bonus': 'NaN', 'total_stock_value': 192758, 'expenses': 55097, 'from_poi_to_this_person': 0.0, 'from_this_person_to_poi': 0.0, 'poi': False, 'deferred_income': 'NaN', 'restricted_stock': 'NaN', 'long_term_incentive': 'NaN', 'salary': 'NaN', 'fraction_from_poi': 0.0, 'total_payments': 55097, 'loan_advances': 'NaN', 'email_address': 'NaN', 'restricted_stock_deferred': 'NaN', 'shared_receipt_with_poi': 'NaN', 'fraction_to_poi': 0.0, 'exercised_stock_options': 192758, 'from_messages': 'NaN', 'other': 'NaN', 'director_fees': 'NaN'}, 'MURRAY JULIA H': {'to_messages': 2192, 'deferral_payments': 'NaN', 'bonus': 400000, 'total_stock_value': 597461, 'expenses': 57580, 'from_poi_to_this_person': 0.005018248175182482, 'from_this_person_to_poi': 0.044444444444444446, 'poi': False, 'deferred_income': 'NaN', 'restricted_stock': 196983, 'long_term_incentive': 125000, 'salary': 229284, 'fraction_from_poi': 2.2893467952474826e-06, 'total_payments': 812194, 'loan_advances': 'NaN', 'email_address': 'julia.murray@enron.com', 'restricted_stock_deferred': 'NaN', 'shared_receipt_with_poi': 395, 'fraction_to_poi': 0.0009876543209876543, 'exercised_stock_options': 400478, 'from_messages': 45, 'other': 330, 'director_fees': 'NaN'}, 'GARLAND C KEVIN': {'to_messages': 209, 'deferral_payments': 'NaN', 'bonus': 850000, 'total_stock_value': 896153, 'expenses': 48405, 'from_poi_to_this_person': 0.04784688995215311, 'from_this_person_to_poi': 0.6136363636363636, 'poi': False, 'deferred_income': 'NaN', 'restricted_stock': 259907, 'long_term_incentive': 375304, 'salary': 231946, 'fraction_from_poi': 0.00022893248780934502, 'total_payments': 1566469, 'loan_advances': 'NaN', 'email_address': 'kevin.garland@enron.com', 'restricted_stock_deferred': 'NaN', 'shared_receipt_with_poi': 178, 'fraction_to_poi': 0.013946280991735538, 'exercised_stock_options': 636246, 'from_messages': 44, 'other': 60814, 'director_fees': 'NaN'}, 'DODSON KEITH': {'to_messages': 176, 'deferral_payments': 'NaN', 'bonus': 70000, 'total_stock_value': 'NaN', 'expenses': 28164, 'from_poi_to_this_person': 0.056818181818181816, 'from_this_person_to_poi': 0.21428571428571427, 'poi': False, 'deferred_income': 'NaN', 'restricted_stock': 'NaN', 'long_term_incentive': 'NaN', 'salary': 221003, 'fraction_from_poi': 0.0003228305785123967, 'total_payments': 319941, 'loan_advances': 'NaN', 'email_address': 'keith.dodson@enron.com', 'restricted_stock_deferred': 'NaN', 'shared_receipt_with_poi': 114, 'fraction_to_poi': 0.015306122448979591, 'exercised_stock_options': 'NaN', 'from_messages': 14, 'other': 774, 'director_fees': 'NaN'}, 'YEAGER F SCOTT': {'to_messages': 'NaN', 'deferral_payments': 'NaN', 'bonus': 'NaN', 'total_stock_value': 11884758, 'expenses': 53947, 'from_poi_to_this_person': 0.0, 'from_this_person_to_poi': 0.0, 'poi': True, 'deferred_income': 'NaN', 'restricted_stock': 3576206, 'long_term_incentive': 'NaN', 'salary': 158403, 'fraction_from_poi': 0.0, 'total_payments': 360300, 'loan_advances': 'NaN', 'email_address': 'scott.yeager@enron.com', 'restricted_stock_deferred': 'NaN', 'shared_receipt_with_poi': 'NaN', 'fraction_to_poi': 0.0, 'exercised_stock_options': 8308552, 'from_messages': 'NaN', 'other': 147950, 'director_fees': 'NaN'}, 'HIRKO JOSEPH': {'to_messages': 'NaN', 'deferral_payments': 10259, 'bonus': 'NaN', 'total_stock_value': 30766064, 'expenses': 77978, 'from_poi_to_this_person': 0.0, 'from_this_person_to_poi': 0.0, 'poi': True, 'deferred_income': 'NaN', 'restricted_stock': 'NaN', 'long_term_incentive': 'NaN', 'salary': 'NaN', 'fraction_from_poi': 0.0, 'total_payments': 91093, 'loan_advances': 'NaN', 'email_address': 'joe.hirko@enron.com', 'restricted_stock_deferred': 'NaN', 'shared_receipt_with_poi': 'NaN', 'fraction_to_poi': 0.0, 'exercised_stock_options': 30766064, 'from_messages': 'NaN', 'other': 2856, 'director_fees': 'NaN'}, 'DIETRICH JANET R': {'to_messages': 2572, 'deferral_payments': 'NaN', 'bonus': 600000, 'total_stock_value': 1865087, 'expenses': 3475, 'from_poi_to_this_person': 0.11858475894245724, 'from_this_person_to_poi': 0.2222222222222222, 'poi': False, 'deferred_income': 'NaN', 'restricted_stock': 315068, 'long_term_incentive': 556416, 'salary': 250100, 'fraction_from_poi': 4.610604935554325e-05, 'total_payments': 1410464, 'loan_advances': 'NaN', 'email_address': 'janet.dietrich@enron.com', 'restricted_stock_deferred': 'NaN', 'shared_receipt_with_poi': 1902, 'fraction_to_poi': 0.003527336860670194, 'exercised_stock_options': 1550019, 'from_messages': 63, 'other': 473, 'director_fees': 'NaN'}, 'DERRICK JR. JAMES V': {'to_messages': 2181, 'deferral_payments': 'NaN', 'bonus': 800000, 'total_stock_value': 8831913, 'expenses': 51124, 'from_poi_to_this_person': 0.029344337459880788, 'from_this_person_to_poi': 0.022002200220022004, 'poi': False, 'deferred_income': -1284000, 'restricted_stock': 1787380, 'long_term_incentive': 484000, 'salary': 492375, 'fraction_from_poi': 1.3454533452490045e-05, 'total_payments': 550981, 'loan_advances': 'NaN', 'email_address': 'james.derrick@enron.com', 'restricted_stock_deferred': -1787380, 'shared_receipt_with_poi': 1401, 'fraction_to_poi': 2.4204840726096814e-05, 'exercised_stock_options': 8831913, 'from_messages': 909, 'other': 7482, 'director_fees': 'NaN'}, 'FREVERT MARK A': {'to_messages': 3275, 'deferral_payments': 6426990, 'bonus': 2000000, 'total_stock_value': 14622185, 'expenses': 86987, 'from_poi_to_this_person': 0.07389312977099237, 'from_this_person_to_poi': 0.2857142857142857, 'poi': False, 'deferred_income': -3367011, 'restricted_stock': 4188667, 'long_term_incentive': 1617011, 'salary': 1060932, 'fraction_from_poi': 2.256278771633355e-05, 'total_payments': 17252530, 'loan_advances': 2000000, 'email_address': 'mark.frevert@enron.com', 'restricted_stock_deferred': 'NaN', 'shared_receipt_with_poi': 2979, 'fraction_to_poi': 0.013605442176870748, 'exercised_stock_options': 10433518, 'from_messages': 21, 'other': 7427621, 'director_fees': 'NaN'}, 'PAI LOU L': {'to_messages': 'NaN', 'deferral_payments': 'NaN', 'bonus': 1000000, 'total_stock_value': 23817930, 'expenses': 32047, 'from_poi_to_this_person': 0.0, 'from_this_person_to_poi': 0.0, 'poi': False, 'deferred_income': 'NaN', 'restricted_stock': 8453763, 'long_term_incentive': 'NaN', 'salary': 261879, 'fraction_from_poi': 0.0, 'total_payments': 3123383, 'loan_advances': 'NaN', 'email_address': 'lou.pai@enron.com', 'restricted_stock_deferred': 'NaN', 'shared_receipt_with_poi': 'NaN', 'fraction_to_poi': 0.0, 'exercised_stock_options': 15364167, 'from_messages': 'NaN', 'other': 1829457, 'director_fees': 'NaN'}, 'BAY FRANKLIN R': {'to_messages': 'NaN', 'deferral_payments': 260455, 'bonus': 400000, 'total_stock_value': 63014, 'expenses': 129142, 'from_poi_to_this_person': 0.0, 'from_this_person_to_poi': 0.0, 'poi': False, 'deferred_income': -201641, 'restricted_stock': 145796, 'long_term_incentive': 'NaN', 'salary': 239671, 'fraction_from_poi': 0.0, 'total_payments': 827696, 'loan_advances': 'NaN', 'email_address': 'frank.bay@enron.com', 'restricted_stock_deferred': -82782, 'shared_receipt_with_poi': 'NaN', 'fraction_to_poi': 0.0, 'exercised_stock_options': 'NaN', 'from_messages': 'NaN', 'other': 69, 'director_fees': 'NaN'}, 'HAYSLETT RODERICK J': {'to_messages': 2649, 'deferral_payments': 'NaN', 'bonus': 'NaN', 'total_stock_value': 346663, 'expenses': 'NaN', 'from_poi_to_this_person': 0.01321253303133258, 'from_this_person_to_poi': 0.03581526861451461, 'poi': False, 'deferred_income': 'NaN', 'restricted_stock': 346663, 'long_term_incentive': 'NaN', 'salary': 'NaN', 'fraction_from_poi': 4.9877436886872705e-06, 'total_payments': 'NaN', 'loan_advances': 'NaN', 'email_address': 'rod.hayslett@enron.com', 'restricted_stock_deferred': 'NaN', 'shared_receipt_with_poi': 571, 'fraction_to_poi': 3.375614384025882e-05, 'exercised_stock_options': 'NaN', 'from_messages': 1061, 'other': 'NaN', 'director_fees': 'NaN'}, 'FUGH JOHN L': {'to_messages': 'NaN', 'deferral_payments': 50591, 'bonus': 'NaN', 'total_stock_value': 176378, 'expenses': 'NaN', 'from_poi_to_this_person': 0.0, 'from_this_person_to_poi': 0.0, 'poi': False, 'deferred_income': 'NaN', 'restricted_stock': 'NaN', 'long_term_incentive': 'NaN', 'salary': 'NaN', 'fraction_from_poi': 0.0, 'total_payments': 50591, 'loan_advances': 'NaN', 'email_address': 'NaN', 'restricted_stock_deferred': 'NaN', 'shared_receipt_with_poi': 'NaN', 'fraction_to_poi': 0.0, 'exercised_stock_options': 176378, 'from_messages': 'NaN', 'other': 'NaN', 'director_fees': 'NaN'}, 'FALLON JAMES B': {'to_messages': 1755, 'deferral_payments': 'NaN', 'bonus': 2500000, 'total_stock_value': 2332399, 'expenses': 95924, 'from_poi_to_this_person': 0.023931623931623933, 'from_this_person_to_poi': 0.49333333333333335, 'poi': False, 'deferred_income': 'NaN', 'restricted_stock': 1392142, 'long_term_incentive': 374347, 'salary': 304588, 'fraction_from_poi': 1.363625295249227e-05, 'total_payments': 3676340, 'loan_advances': 'NaN', 'email_address': 'jim.fallon@enron.com', 'restricted_stock_deferred': 'NaN', 'shared_receipt_with_poi': 1604, 'fraction_to_poi': 0.006577777777777778, 'exercised_stock_options': 940257, 'from_messages': 75, 'other': 401481, 'director_fees': 'NaN'}, 'KOENIG MARK E': {'to_messages': 2374, 'deferral_payments': 'NaN', 'bonus': 700000, 'total_stock_value': 1920055, 'expenses': 127017, 'from_poi_to_this_person': 0.02232518955349621, 'from_this_person_to_poi': 0.2459016393442623, 'poi': True, 'deferred_income': 'NaN', 'restricted_stock': 1248318, 'long_term_incentive': 300000, 'salary': 309946, 'fraction_from_poi': 9.40403940753842e-06, 'total_payments': 1587421, 'loan_advances': 'NaN', 'email_address': 'mark.koenig@enron.com', 'restricted_stock_deferred': 'NaN', 'shared_receipt_with_poi': 2271, 'fraction_to_poi': 0.00403117441547971, 'exercised_stock_options': 671737, 'from_messages': 61, 'other': 150458, 'director_fees': 'NaN'}, 'SAVAGE FRANK': {'to_messages': 'NaN', 'deferral_payments': 'NaN', 'bonus': 'NaN', 'total_stock_value': 'NaN', 'expenses': 'NaN', 'from_poi_to_this_person': 0.0, 'from_this_person_to_poi': 0.0, 'poi': False, 'deferred_income': -121284, 'restricted_stock': 'NaN', 'long_term_incentive': 'NaN', 'salary': 'NaN', 'fraction_from_poi': 0.0, 'total_payments': 3750, 'loan_advances': 'NaN', 'email_address': 'NaN', 'restricted_stock_deferred': 'NaN', 'shared_receipt_with_poi': 'NaN', 'fraction_to_poi': 0.0, 'exercised_stock_options': 'NaN', 'from_messages': 'NaN', 'other': 'NaN', 'director_fees': 125034}, 'IZZO LAWRENCE L': {'to_messages': 496, 'deferral_payments': 'NaN', 'bonus': 'NaN', 'total_stock_value': 5819980, 'expenses': 28093, 'from_poi_to_this_person': 0.056451612903225805, 'from_this_person_to_poi': 0.2631578947368421, 'poi': False, 'deferred_income': 'NaN', 'restricted_stock': 3654808, 'long_term_incentive': 312500, 'salary': 85274, 'fraction_from_poi': 0.0001138137356919875, 'total_payments': 1979596, 'loan_advances': 'NaN', 'email_address': 'larry.izzo@enron.com', 'restricted_stock_deferred': 'NaN', 'shared_receipt_with_poi': 437, 'fraction_to_poi': 0.013850415512465374, 'exercised_stock_options': 2165172, 'from_messages': 19, 'other': 1553729, 'director_fees': 'NaN'}, 'TILNEY ELIZABETH A': {'to_messages': 460, 'deferral_payments': 'NaN', 'bonus': 300000, 'total_stock_value': 1168042, 'expenses': 'NaN', 'from_poi_to_this_person': 0.021739130434782608, 'from_this_person_to_poi': 0.5789473684210527, 'poi': False, 'deferred_income': -575000, 'restricted_stock': 576792, 'long_term_incentive': 275000, 'salary': 247338, 'fraction_from_poi': 4.7258979206049145e-05, 'total_payments': 399393, 'loan_advances': 'NaN', 'email_address': 'elizabeth.tilney@enron.com', 'restricted_stock_deferred': 'NaN', 'shared_receipt_with_poi': 379, 'fraction_to_poi': 0.030470914127423823, 'exercised_stock_options': 591250, 'from_messages': 19, 'other': 152055, 'director_fees': 'NaN'}, 'MARTIN AMANDA K': {'to_messages': 1522, 'deferral_payments': 85430, 'bonus': 'NaN', 'total_stock_value': 2070306, 'expenses': 8211, 'from_poi_to_this_person': 0.005256241787122208, 'from_this_person_to_poi': 0.0, 'poi': False, 'deferred_income': 'NaN', 'restricted_stock': 'NaN', 'long_term_incentive': 5145434, 'salary': 349487, 'fraction_from_poi': 3.4535097155862076e-06, 'total_payments': 8407016, 'loan_advances': 'NaN', 'email_address': 'a..martin@enron.com', 'restricted_stock_deferred': 'NaN', 'shared_receipt_with_poi': 477, 'fraction_to_poi': 0.0, 'exercised_stock_options': 2070306, 'from_messages': 230, 'other': 2818454, 'director_fees': 'NaN'}, 'BUY RICHARD B': {'to_messages': 3523, 'deferral_payments': 649584, 'bonus': 900000, 'total_stock_value': 3444470, 'expenses': 'NaN', 'from_poi_to_this_person': 0.04428044280442804, 'from_this_person_to_poi': 0.06742640075973409, 'poi': False, 'deferred_income': -694862, 'restricted_stock': 901657, 'long_term_incentive': 769862, 'salary': 330546, 'fraction_from_poi': 1.25689590702322e-05, 'total_payments': 2355702, 'loan_advances': 'NaN', 'email_address': 'rick.buy@enron.com', 'restricted_stock_deferred': 'NaN', 'shared_receipt_with_poi': 2333, 'fraction_to_poi': 6.403266928749676e-05, 'exercised_stock_options': 2542813, 'from_messages': 1053, 'other': 400572, 'director_fees': 'NaN'}, 'GRAMM WENDY L': {'to_messages': 'NaN', 'deferral_payments': 'NaN', 'bonus': 'NaN', 'total_stock_value': 'NaN', 'expenses': 'NaN', 'from_poi_to_this_person': 0.0, 'from_this_person_to_poi': 0.0, 'poi': False, 'deferred_income': 'NaN', 'restricted_stock': 'NaN', 'long_term_incentive': 'NaN', 'salary': 'NaN', 'fraction_from_poi': 0.0, 'total_payments': 119292, 'loan_advances': 'NaN', 'email_address': 'NaN', 'restricted_stock_deferred': 'NaN', 'shared_receipt_with_poi': 'NaN', 'fraction_to_poi': 0.0, 'exercised_stock_options': 'NaN', 'from_messages': 'NaN', 'other': 'NaN', 'director_fees': 119292}, 'CAUSEY RICHARD A': {'to_messages': 1892, 'deferral_payments': 'NaN', 'bonus': 1000000, 'total_stock_value': 2502063, 'expenses': 30674, 'from_poi_to_this_person': 0.0306553911205074, 'from_this_person_to_poi': 0.24489795918367346, 'poi': True, 'deferred_income': -235000, 'restricted_stock': 2502063, 'long_term_incentive': 350000, 'salary': 415189, 'fraction_from_poi': 1.620263801295317e-05, 'total_payments': 1868758, 'loan_advances': 'NaN', 'email_address': 'richard.causey@enron.com', 'restricted_stock_deferred': 'NaN', 'shared_receipt_with_poi': 1585, 'fraction_to_poi': 0.004997917534360683, 'exercised_stock_options': 'NaN', 'from_messages': 49, 'other': 307895, 'director_fees': 'NaN'}, 'TAYLOR MITCHELL S': {'to_messages': 533, 'deferral_payments': 227449, 'bonus': 600000, 'total_stock_value': 3745048, 'expenses': 'NaN', 'from_poi_to_this_person': 0.0, 'from_this_person_to_poi': 0.0, 'poi': False, 'deferred_income': 'NaN', 'restricted_stock': 563798, 'long_term_incentive': 'NaN', 'salary': 265214, 'fraction_from_poi': 0.0, 'total_payments': 1092663, 'loan_advances': 'NaN', 'email_address': 'mitchell.taylor@enron.com', 'restricted_stock_deferred': 'NaN', 'shared_receipt_with_poi': 300, 'fraction_to_poi': 0.0, 'exercised_stock_options': 3181250, 'from_messages': 29, 'other': 'NaN', 'director_fees': 'NaN'}, 'DONAHUE JR JEFFREY M': {'to_messages': 865, 'deferral_payments': 'NaN', 'bonus': 800000, 'total_stock_value': 1080988, 'expenses': 96268, 'from_poi_to_this_person': 0.21734104046242775, 'from_this_person_to_poi': 0.5, 'poi': False, 'deferred_income': -300000, 'restricted_stock': 315068, 'long_term_incentive': 'NaN', 'salary': 278601, 'fraction_from_poi': 0.0002512613184536737, 'total_payments': 875760, 'loan_advances': 'NaN', 'email_address': 'jeff.donahue@enron.com', 'restricted_stock_deferred': 'NaN', 'shared_receipt_with_poi': 772, 'fraction_to_poi': 0.022727272727272728, 'exercised_stock_options': 765920, 'from_messages': 22, 'other': 891, 'director_fees': 'NaN'}, 'GLISAN JR BEN F': {'to_messages': 873, 'deferral_payments': 'NaN', 'bonus': 600000, 'total_stock_value': 778546, 'expenses': 125978, 'from_poi_to_this_person': 0.05956471935853379, 'from_this_person_to_poi': 0.375, 'poi': True, 'deferred_income': 'NaN', 'restricted_stock': 393818, 'long_term_incentive': 71023, 'salary': 274975, 'fraction_from_poi': 6.822991908194019e-05, 'total_payments': 1272284, 'loan_advances': 'NaN', 'email_address': 'ben.glisan@enron.com', 'restricted_stock_deferred': 'NaN', 'shared_receipt_with_poi': 874, 'fraction_to_poi': 0.0234375, 'exercised_stock_options': 384728, 'from_messages': 16, 'other': 200308, 'director_fees': 'NaN'}}\n"
     ]
    }
   ],
   "source": [
    "### Task 3: Create new feature(s) \n",
    "def computeFraction(poi_messages,all_messages):\n",
    "    \"\"\" given a number messages to/from POI (numerator)                         \n",
    "        and number of all messages to/from a person (denominator),              \n",
    "        return the fraction of messages to/from that person                     \n",
    "        that are from/to a POI                                                  \n",
    "    \"\"\"\n",
    "    fraction=0.\n",
    "    if all_messages=='NaN':\n",
    "        return fraction\n",
    "    if poi_messages=='NaN':\n",
    "        poi_messages=0\n",
    "    fraction=float(poi_messages)/float(all_messages)\n",
    "    \n",
    "    return fraction\n",
    "\n",
    "new_data=data_dict.copy()\n",
    "\n",
    "for name in new_data:\n",
    "    data_point=new_data[name]\n",
    "    from_poi_to_this_person=data_point['from_poi_to_this_person']\n",
    "    to_messages=data_point['to_messages']\n",
    "    fraction_from_poi=computeFraction(from_poi_to_this_person,to_messages)\n",
    "    data_point['fraction_from_poi']=fraction_from_poi\n",
    "    \n",
    "    from_this_person_to_poi=data_point['from_this_person_to_poi']\n",
    "    from_messages=data_point['from_messages']\n",
    "    fraction_to_poi=computeFraction(from_this_person_to_poi,from_messages)\n",
    "    data_point['fraction_to_poi']=fraction_to_poi\n",
    "    \n",
    "    submit_dict[name]={'from_poi_to_this_person':fraction_from_poi,'from_this_person_to_poi':fraction_to_poi}\n",
    "    \n",
    "print data_dict\n"
   ]
  },
  {
   "cell_type": "markdown",
   "metadata": {},
   "source": [
    "Feature selection using (1) decision tree and feature_importances, (2) selectKBest and feature scores"
   ]
  },
  {
   "cell_type": "code",
   "execution_count": null,
   "metadata": {
    "collapsed": false
   },
   "outputs": [],
   "source": [
    "### Store to my_dataset for easy export below.  \n",
    "# (1) decision tree and feature_importances\n",
    "import numpy as np\n",
    "from sklearn.tree import DecisionTreeClassifier\n",
    "from sklearn.cross_validation import train_test_split\n",
    "import sklearn\n",
    "\n",
    "my_dataset = data_dict\n",
    "def select10(data):\n",
    "    #data=[('feature',vale),('feature',value)...]\n",
    "    \n",
    "    top=(lambda x: x[i][1]>0.1,data)\n",
    "    return top\n",
    "\n",
    "### Extract features and labels from dataset for local testing                                                                                   \n",
    "def SelectImportances():\n",
    "    data = featureFormat(my_dataset, features_list[:-1], sort_keys = True) #exclude email_address\n",
    "    labels, features = targetFeatureSplit(data)  #poi=>labels, rest are features\n",
    "\n",
    "    train_features,test_features,train_labels,test_labels=train_test_split(features,labels,test_size=0.1, random_state=42)\n",
    "    #decision tree\n",
    "    clf=DecisionTreeClassifier()\n",
    "    clf.fit(train_features,train_labels)\n",
    "    pred=clf.predict(test_features)\n",
    "    accuracy=sklearn.metrics.accuracy_score(pred,test_labels)\n",
    "    #print \"accuracy:\\t\",accuracy\n",
    "    importances=clf.feature_importances_\n",
    "    imp=zip(features_list[:-1],importances)\n",
    "    imps=sorted(imp,key=lambda x: x[1],reverse=True)\n",
    "    #select importances>0.1\n",
    "    return imps[:8]\n",
    "\n",
    "N=1\n",
    "ini=SelectImportances()\n",
    "for i in range(N): #run N times\n",
    "    imp=SelectImportances()\n",
    "    print imp\n",
    "    "
   ]
  },
  {
   "cell_type": "markdown",
   "metadata": {},
   "source": [
    "I use decision tree to get the importances of the features. The top features with most discriminating power are: [('exercised_stock_options', 0.22060680332739127), ('from_this_person_to_poi', 0.18210753367003366), ('other', 0.13102584257608774), ('deferred_income', 0.11374158249158253)]. The test size is 20% because there are 18 POIs among 146 people. If the test size is too small, it is likely to have no POIs in the test set. Also, I only select features with importances >0.1 because the feature importances changes (from 0.28 to 0.11) whenever I split the train and test sets. "
   ]
  },
  {
   "cell_type": "code",
   "execution_count": 90,
   "metadata": {
    "collapsed": false
   },
   "outputs": [],
   "source": [
    "#SelectKBest\n",
    "'''\n",
    "from sklearn.feature_selection import SelectKBest,f_classif #need to figure this out\n",
    "selector=SelectKBest(f_classif,k=6)\n",
    "train_newfeatures=selector.fit_transform(train_features,train_labels)\n",
    "print train_newfeatures\n",
    "#It works but I am not sure which features are selected\n",
    "'''"
   ]
  },
  {
   "cell_type": "code",
   "execution_count": 77,
   "metadata": {
    "collapsed": false
   },
   "outputs": [],
   "source": [
    "#not applicable for classification (labels are 1 or 0)\n",
    "#Lasso regression\n",
    "'''\n",
    "from sklearn.linear_model import Lasso\n",
    "reg=Lasso()\n",
    "reg.fit(train_features,train_labels)\n",
    "predL=reg.predict(test_features)\n",
    "print predL\n",
    "regout=zip(features_list[:-1],reg.coef_)\n",
    "print sorted(regout,key=lambda x:x[1])\n",
    "'''"
   ]
  },
  {
   "cell_type": "markdown",
   "metadata": {},
   "source": [
    "The features I selected have different units so I should deploy feature scaling. "
   ]
  },
  {
   "cell_type": "code",
   "execution_count": 114,
   "metadata": {
    "collapsed": true
   },
   "outputs": [],
   "source": [
    "#Scaling\n",
    "from sklearn import preprocessing\n",
    "important_features=['poi','exercised_stock_options','from_this_person_to_poi','deferred_income','other']\n",
    "data = featureFormat(my_dataset, important_features, sort_keys = True) #exclude email_address\n",
    "labels, features = targetFeatureSplit(data)  #poi=>labels, rest are features\n",
    "train_features,test_features,train_labels,test_labels=train_test_split(features,labels,test_size=0.33, random_state=42)\n",
    "    \n",
    "min_max_scaler=preprocessing.MinMaxScaler()\n",
    "train_features_scaled=min_max_scaler.fit_transform(train_features)\n",
    "test_features_scaled=min_max_scaler.fit_transform(test_features)\n"
   ]
  },
  {
   "cell_type": "code",
   "execution_count": null,
   "metadata": {
    "collapsed": true
   },
   "outputs": [],
   "source": []
  },
  {
   "cell_type": "code",
   "execution_count": 175,
   "metadata": {
    "collapsed": false
   },
   "outputs": [
    {
     "name": "stdout",
     "output_type": "stream",
     "text": [
      "Gaussian Naive Bayes accuracy:\t0.847826086957\n"
     ]
    }
   ],
   "source": [
    "### Task 4: Try a varity of classifiers                                                                                                          \n",
    "### Please name your classifier clf for easy export below.                                                                                       \n",
    "### Note that if you want to do PCA or other multi-stage operations,  \n",
    "### you'll need to use Pipelines. For more info:                                                                                                 \n",
    "### http://scikit-learn.org/stable/modules/pipeline.html                                                                                         \n",
    "from sklearn import grid_search\n",
    "\n",
    "# Provided to give you a starting point. Try a variety of classifiers.                                                                           \n",
    "from sklearn.naive_bayes import GaussianNB\n",
    "clf1 = GaussianNB()\n",
    "clf1.fit(train_features_scaled,train_labels)\n",
    "pred1=clf1.predict(test_features_scaled)\n",
    "accuracy1=sklearn.metrics.accuracy_score(pred1,test_labels)\n",
    "print \"Gaussian Naive Bayes accuracy:\\t\",accuracy1"
   ]
  },
  {
   "cell_type": "code",
   "execution_count": null,
   "metadata": {
    "collapsed": false
   },
   "outputs": [],
   "source": [
    "from sklearn.svm import SVC\n",
    "para2={'kernel':('linear','rbf'),'C':[1,10,20]}\n",
    "#svr=SVC()\n",
    "#clf2 = grid_search.GridSearchCV(svr,para2)\n",
    "#clf2.fit(train_features_scaled,train_labels)\n",
    "#print \"Grid scores:\\t\",clf2.grid_scores_\n",
    "#print \"Best parameters:\\t\",clf2.best_params_\n",
    "cclf2=SVC(kernel='linear',C=1)\n",
    "cclf2.fit(train_features,train_labels)\n",
    "pred2=cclf2.predict(test_features)\n",
    "accuracy2=sklearn.metrics.accuracy_score(pred2,test_labels)\n",
    "print \"SVM accuracy:\\t\",accuracy2"
   ]
  },
  {
   "cell_type": "code",
   "execution_count": null,
   "metadata": {
    "collapsed": false
   },
   "outputs": [],
   "source": [
    "clf3 = DecisionTreeClassifier()\n",
    "clf3.fit(train_features_scaled,train_labels)\n",
    "pred3=clf3.predict(test_features_scaled)\n",
    "accuracy3=sklearn.metrics.accuracy_score(pred3,test_labels)\n",
    "print \"Decision Tree accuracy:\\t\",accuracy3"
   ]
  },
  {
   "cell_type": "code",
   "execution_count": 145,
   "metadata": {
    "collapsed": false
   },
   "outputs": [
    {
     "name": "stdout",
     "output_type": "stream",
     "text": [
      "AdaBoost accuracy:\t0.782608695652\n"
     ]
    }
   ],
   "source": [
    "from sklearn import ensemble  \n",
    "clf4 = ensemble.AdaBoostClassifier()\n",
    "clf4.fit(train_features_scaled,train_labels)\n",
    "pred4=clf4.predict(test_features_scaled)\n",
    "accuracy4=sklearn.metrics.accuracy_score(pred4,test_labels)\n",
    "print \"AdaBoost accuracy:\\t\",accuracy4"
   ]
  },
  {
   "cell_type": "code",
   "execution_count": 136,
   "metadata": {
    "collapsed": false
   },
   "outputs": [
    {
     "name": "stdout",
     "output_type": "stream",
     "text": [
      "Random Forest accuracy:\t0.847826086957\n"
     ]
    }
   ],
   "source": [
    "clf5=ensemble.RandomForestClassifier()\n",
    "clf5.fit(train_features_scaled,train_labels)\n",
    "pred5=clf5.predict(test_features_scaled)\n",
    "accuracy5=sklearn.metrics.accuracy_score(pred5,test_labels)\n",
    "print \"Random Forest accuracy:\\t\",accuracy5"
   ]
  },
  {
   "cell_type": "code",
   "execution_count": 143,
   "metadata": {
    "collapsed": false
   },
   "outputs": [
    {
     "name": "stdout",
     "output_type": "stream",
     "text": [
      "K Neighbors accuracy:\t0.869565217391\n"
     ]
    }
   ],
   "source": [
    "from sklearn import neighbors\n",
    "clf6=neighbors.KNeighborsClassifier()\n",
    "clf6.fit(train_features_scaled,train_labels)\n",
    "pred6=clf6.predict(test_features_scaled)\n",
    "accuracy6=sklearn.metrics.accuracy_score(pred6,test_labels)\n",
    "print \"K Neighbors accuracy:\\t\",accuracy6"
   ]
  },
  {
   "cell_type": "code",
   "execution_count": null,
   "metadata": {
    "collapsed": true
   },
   "outputs": [],
   "source": [
    "### Task 5: Tune your classifier to achieve better than .3 precision and recall                                                                  \n",
    "### using our testing script. Check the tester.py script in the final project                                                                    \n",
    "### folder for details on the evaluation method, especially the test_classifier                                                                  \n",
    "### function. Because of the small size of the dataset, the script uses            \n",
    "### stratified shuffle split cross validation. For more info:                                                                                    \n",
    "### http://scikit-learn.org/stable/modules/generated/sklearn.cross_validation.StratifiedShuffleSplit.html                                        \n",
    "from tester import test_classifier\n",
    "\n"
   ]
  },
  {
   "cell_type": "code",
   "execution_count": null,
   "metadata": {
    "collapsed": true
   },
   "outputs": [],
   "source": [
    "# Example starting point. Try investigating other evaluation techniques!                                                                         \n",
    "from sklearn.cross_validation import train_test_split\n",
    "features_train, features_test, labels_train, labels_test = \\\n",
    "    train_test_split(features, labels, test_size=0.3, random_state=42)\n",
    "    \n",
    "    "
   ]
  },
  {
   "cell_type": "code",
   "execution_count": null,
   "metadata": {
    "collapsed": true
   },
   "outputs": [],
   "source": [
    "### Task 6: Dump your classifier, dataset, and features_list so anyone can                                                                       \n",
    "### check your results. You do not need to change anything below, but make sure                                                                  \n",
    "### that the version of poi_id.py that you submit can be run on its own and                                                                      \n",
    "### generates the necessary .pkl files for validating your results.                                                                              \n",
    "\n",
    "dump_classifier_and_data(clf, my_dataset, features_list)"
   ]
  }
 ],
 "metadata": {
  "kernelspec": {
   "display_name": "Python 2",
   "language": "python",
   "name": "python2"
  },
  "language_info": {
   "codemirror_mode": {
    "name": "ipython",
    "version": 2
   },
   "file_extension": ".py",
   "mimetype": "text/x-python",
   "name": "python",
   "nbconvert_exporter": "python",
   "pygments_lexer": "ipython2",
   "version": "2.7.12"
  }
 },
 "nbformat": 4,
 "nbformat_minor": 0
}
