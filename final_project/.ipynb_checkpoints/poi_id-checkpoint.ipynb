{
 "cells": [
  {
   "cell_type": "markdown",
   "metadata": {},
   "source": [
    "Identify Person of Interests in Enron Scandal\n",
    "========================\n",
    "\n",
    "In 2000, Enron was one of the largest companies in the United States. By 2002, it had collapsed into bankruptcy due to widespread corporate fraud. In the resulting Federal investigation, there was a significant amount of typically confidential information entered into public record, including tens of thousands of emails and detailed financial data for top executives. In this project, I'm going to play detective, and build a person of interest identifier based on financial and email data made public as a result of the Enron scandal.\n",
    "\n",
    "Understanding the Dataset\n",
    "------------------------\n",
    "\n",
    "All available features are classified as POI labels, financial features, and email features:  \n",
    "(1) ['poi']\n",
    "\n",
    "(2) financial features: ['salary', 'deferral_payments', 'total_payments', 'loan_advances',  'bonus','restricted_stock_deferred','deferred_income','total_stock_value', 'expenses', 'exercised_stock_options', 'other','long_term_incentive', 'restricted_stock', 'director_fees']\n",
    "\n",
    "(3) email features: ['to_messages', 'email_address', 'from_poi_to_this_person', 'from_messages', 'from_this_person_to_poi', 'shared_receipt_with_poi']"
   ]
  },
  {
   "cell_type": "code",
   "execution_count": 13,
   "metadata": {
    "collapsed": true
   },
   "outputs": [],
   "source": [
    "#!/usr/bin/python                                                                                                                                \n",
    "\n",
    "import sys\n",
    "import pickle\n",
    "import numpy as np\n",
    "import sklearn\n",
    "import pandas as pd\n",
    "import matplotlib.pyplot as plt\n",
    "%matplotlib inline\n",
    "\n",
    "sys.path.append(\"../tools/\")\n",
    "\n",
    "from feature_format import featureFormat, targetFeatureSplit\n",
    "from tester import dump_classifier_and_data"
   ]
  },
  {
   "cell_type": "code",
   "execution_count": 14,
   "metadata": {
    "collapsed": true
   },
   "outputs": [],
   "source": [
    "### Task 1: Select what features you'll use.                                                                                                     \n",
    "### features_list is a list of strings, each of which is a feature name.                                                                         \n",
    "### The first feature must be \"poi\".                                          \n",
    "\n",
    "features_list = ['poi','salary', 'deferral_payments', 'total_payments', 'loan_advances', 'bonus', 'restricted_stock_deferred',\\\n",
    "                 'deferred_income','total_stock_value', 'expenses', 'exercised_stock_options', 'other',\\\n",
    "                 'long_term_incentive', 'restricted_stock', 'director_fees',\\\n",
    "                 'to_messages', 'email_address', 'from_poi_to_this_person', 'from_messages', 'from_this_person_to_poi',\\\n",
    "                 'shared_receipt_with_poi']  # You will need to use more features                                                                            \n",
    "\n",
    "### Load the dictionary containing the dataset                                                                                                   \n",
    "with open(\"final_project_dataset.pkl\", \"r\") as data_file:\n",
    "    data_dict = pickle.load(data_file)\n",
    "    "
   ]
  },
  {
   "cell_type": "code",
   "execution_count": 18,
   "metadata": {
    "collapsed": false
   },
   "outputs": [
    {
     "name": "stdout",
     "output_type": "stream",
     "text": [
      "{'salary': 365788, 'to_messages': 807, 'deferral_payments': 'NaN', 'total_payments': 1061827, 'exercised_stock_options': 'NaN', 'bonus': 600000, 'restricted_stock': 585062, 'shared_receipt_with_poi': 702, 'restricted_stock_deferred': 'NaN', 'total_stock_value': 585062, 'expenses': 94299, 'loan_advances': 'NaN', 'from_messages': 29, 'other': 1740, 'from_this_person_to_poi': 1, 'poi': False, 'director_fees': 'NaN', 'deferred_income': 'NaN', 'long_term_incentive': 'NaN', 'email_address': 'mark.metts@enron.com', 'from_poi_to_this_person': 38}\n"
     ]
    }
   ],
   "source": [
    "print data_dict['METTS MARK']"
   ]
  },
  {
   "cell_type": "markdown",
   "metadata": {},
   "source": [
    "Let me reformat data into pandas dataframe.  "
   ]
  },
  {
   "cell_type": "code",
   "execution_count": 21,
   "metadata": {
    "collapsed": false,
    "scrolled": true
   },
   "outputs": [
    {
     "name": "stdout",
     "output_type": "stream",
     "text": [
      "     bonus deferral_payments deferred_income director_fees  \\\n",
      "0   600000               NaN             NaN           NaN   \n",
      "1  1200000           1295738        -1386055           NaN   \n",
      "2   350000               NaN         -400729           NaN   \n",
      "3      NaN               NaN             NaN           NaN   \n",
      "4  1500000               NaN        -3117011           NaN   \n",
      "\n",
      "              email_address exercised_stock_options expenses from_messages  \\\n",
      "0      mark.metts@enron.com                     NaN    94299            29   \n",
      "1                       NaN                 6680544    11200           NaN   \n",
      "2  steven.elliott@enron.com                 4890344    78552           NaN   \n",
      "3     bill.cordes@enron.com                  651850      NaN            12   \n",
      "4    kevin.hannon@enron.com                 5538001    34039            32   \n",
      "\n",
      "  from_poi_to_this_person from_this_person_to_poi        ...         \\\n",
      "0                      38                       1        ...          \n",
      "1                     NaN                     NaN        ...          \n",
      "2                     NaN                     NaN        ...          \n",
      "3                      10                       0        ...          \n",
      "4                      32                      21        ...          \n",
      "\n",
      "  long_term_incentive    other    poi restricted_stock  \\\n",
      "0                 NaN     1740  False           585062   \n",
      "1             1586055  2660303  False          3942714   \n",
      "2                 NaN    12961  False          1788391   \n",
      "3                 NaN      NaN  False           386335   \n",
      "4             1617011    11350   True           853064   \n",
      "\n",
      "  restricted_stock_deferred  salary shared_receipt_with_poi to_messages  \\\n",
      "0                       NaN  365788                     702         807   \n",
      "1                       NaN  267102                     NaN         NaN   \n",
      "2                       NaN  170941                     NaN         NaN   \n",
      "3                       NaN     NaN                      58         764   \n",
      "4                       NaN  243293                    1035        1045   \n",
      "\n",
      "  total_payments total_stock_value  \n",
      "0        1061827            585062  \n",
      "1        5634343          10623258  \n",
      "2         211725           6678735  \n",
      "3            NaN           1038185  \n",
      "4         288682           6391065  \n",
      "\n",
      "[5 rows x 21 columns]\n"
     ]
    }
   ],
   "source": [
    "df=pd.DataFrame.from_records(list(data_dict.values()))\n",
    "names=pd.Series(list(data_dict.keys()))\n",
    "print df.head()"
   ]
  },
  {
   "cell_type": "code",
   "execution_count": 34,
   "metadata": {
    "collapsed": false
   },
   "outputs": [
    {
     "name": "stdout",
     "output_type": "stream",
     "text": [
      "Numbers of non NaN data in each feature?\n",
      "146 \tpoi\n",
      "95 \tsalary\n",
      "86 \tto_messages\n",
      "39 \tdeferral_payments\n",
      "125 \ttotal_payments\n",
      "102 \texercised_stock_options\n",
      "82 \tbonus\n",
      "110 \trestricted_stock\n",
      "18 \trestricted_stock_deferred\n",
      "4 \tloan_advances\n",
      "49 \tdeferred_income\n",
      "126 \ttotal_stock_value\n",
      "95 \texpenses\n",
      "93 \tother\n",
      "66 \tlong_term_incentive\n",
      "17 \tdirector_fees\n",
      "86 \tfrom_poi_to_this_person\n",
      "86 \tfrom_messages\n",
      "86 \tfrom_this_person_to_poi\n",
      "86 \tshared_receipt_with_poi\n",
      "111 \temail_address\n"
     ]
    }
   ],
   "source": [
    "allfeatures = ['poi','salary','to_messages', 'deferral_payments', 'total_payments', 'exercised_stock_options',\\\n",
    "                 'bonus', 'restricted_stock','restricted_stock_deferred', 'loan_advances',\\\n",
    "                'deferred_income','total_stock_value', 'expenses', 'other', 'long_term_incentive',\\\n",
    "                 'director_fees', 'from_poi_to_this_person', 'from_messages',\\\n",
    "                'from_this_person_to_poi','shared_receipt_with_poi', 'email_address'] \n",
    "\n",
    "ct=[0] * 21\n",
    "for name in data_dict:   \n",
    "    for j in range(0,21):\n",
    "        if data_dict[name][allfeatures[j]]!='NaN':\n",
    "            ct[j-1]+=1\n",
    "\n",
    "            \n",
    "print \"Numbers of non NaN data in each feature?\"   \n",
    "for i in range(0,21):\n",
    "    print  ct[i-1],\"\\t\", allfeatures[i] "
   ]
  },
  {
   "cell_type": "markdown",
   "metadata": {},
   "source": [
    "We can see that several features have missing elements. Let's drop the features with <=80 (can be tuned) non NaN elements. "
   ]
  },
  {
   "cell_type": "code",
   "execution_count": 26,
   "metadata": {
    "collapsed": false
   },
   "outputs": [
    {
     "name": "stdout",
     "output_type": "stream",
     "text": [
      "6 ['deferral_payments', 'restricted_stock_deferred', 'loan_advances', 'deferred_income', 'long_term_incentive', 'director_fees']\n",
      "     bonus exercised_stock_options expenses from_messages  \\\n",
      "0   600000                     NaN    94299            29   \n",
      "1  1200000                 6680544    11200           NaN   \n",
      "2   350000                 4890344    78552           NaN   \n",
      "3      NaN                  651850      NaN            12   \n",
      "4  1500000                 5538001    34039            32   \n",
      "\n",
      "  from_poi_to_this_person from_this_person_to_poi    other    poi  \\\n",
      "0                      38                       1     1740  False   \n",
      "1                     NaN                     NaN  2660303  False   \n",
      "2                     NaN                     NaN    12961  False   \n",
      "3                      10                       0      NaN  False   \n",
      "4                      32                      21    11350   True   \n",
      "\n",
      "  restricted_stock  salary shared_receipt_with_poi to_messages total_payments  \\\n",
      "0           585062  365788                     702         807        1061827   \n",
      "1          3942714  267102                     NaN         NaN        5634343   \n",
      "2          1788391  170941                     NaN         NaN         211725   \n",
      "3           386335     NaN                      58         764            NaN   \n",
      "4           853064  243293                    1035        1045         288682   \n",
      "\n",
      "  total_stock_value  \n",
      "0            585062  \n",
      "1          10623258  \n",
      "2           6678735  \n",
      "3           1038185  \n",
      "4           6391065  \n"
     ]
    }
   ],
   "source": [
    "drop_list=[]\n",
    "for i in range(0,21):\n",
    "    if ct[i-1]<=80:\n",
    "        a=allfeatures[i]\n",
    "        drop_list.append(a)\n",
    "\n",
    "print len(drop_list),drop_list\n",
    "if drop_list in list(df.columns.values):\n",
    "    df.drop(drop_list,axis=1,inplace=True)\n",
    "if 'email_address' in list(df.columns.values):\n",
    "    df.drop(['email_address'],axis=1,inplace=True)\n",
    "print df.head()"
   ]
  },
  {
   "cell_type": "markdown",
   "metadata": {},
   "source": [
    "Handling 'NaN' and outliers\n",
    "-------------------------"
   ]
  },
  {
   "cell_type": "code",
   "execution_count": 129,
   "metadata": {
    "collapsed": false
   },
   "outputs": [
    {
     "data": {
      "text/html": [
       "<div>\n",
       "<table border=\"1\" class=\"dataframe\">\n",
       "  <thead>\n",
       "    <tr style=\"text-align: right;\">\n",
       "      <th></th>\n",
       "      <th>bonus</th>\n",
       "      <th>exercised_stock_options</th>\n",
       "      <th>expenses</th>\n",
       "      <th>from_messages</th>\n",
       "      <th>from_poi_to_this_person</th>\n",
       "      <th>from_this_person_to_poi</th>\n",
       "      <th>other</th>\n",
       "      <th>restricted_stock</th>\n",
       "      <th>salary</th>\n",
       "      <th>shared_receipt_with_poi</th>\n",
       "      <th>to_messages</th>\n",
       "      <th>total_payments</th>\n",
       "      <th>total_stock_value</th>\n",
       "    </tr>\n",
       "  </thead>\n",
       "  <tbody>\n",
       "    <tr>\n",
       "      <th>count</th>\n",
       "      <td>1.460000e+02</td>\n",
       "      <td>1.460000e+02</td>\n",
       "      <td>1.460000e+02</td>\n",
       "      <td>146.000000</td>\n",
       "      <td>146.000000</td>\n",
       "      <td>146.000000</td>\n",
       "      <td>1.460000e+02</td>\n",
       "      <td>1.460000e+02</td>\n",
       "      <td>1.460000e+02</td>\n",
       "      <td>146.000000</td>\n",
       "      <td>146.000000</td>\n",
       "      <td>1.460000e+02</td>\n",
       "      <td>1.460000e+02</td>\n",
       "    </tr>\n",
       "    <tr>\n",
       "      <th>mean</th>\n",
       "      <td>1.333474e+06</td>\n",
       "      <td>4.182736e+06</td>\n",
       "      <td>7.074827e+04</td>\n",
       "      <td>358.602740</td>\n",
       "      <td>38.226027</td>\n",
       "      <td>24.287671</td>\n",
       "      <td>5.854318e+05</td>\n",
       "      <td>1.749257e+06</td>\n",
       "      <td>3.658114e+05</td>\n",
       "      <td>692.986301</td>\n",
       "      <td>1221.589041</td>\n",
       "      <td>4.350622e+06</td>\n",
       "      <td>5.846018e+06</td>\n",
       "    </tr>\n",
       "    <tr>\n",
       "      <th>std</th>\n",
       "      <td>8.094029e+06</td>\n",
       "      <td>2.607040e+07</td>\n",
       "      <td>4.327163e+05</td>\n",
       "      <td>1441.259868</td>\n",
       "      <td>73.901124</td>\n",
       "      <td>79.278206</td>\n",
       "      <td>3.682345e+06</td>\n",
       "      <td>1.089995e+07</td>\n",
       "      <td>2.203575e+06</td>\n",
       "      <td>1072.969492</td>\n",
       "      <td>2226.770637</td>\n",
       "      <td>2.693448e+07</td>\n",
       "      <td>3.624681e+07</td>\n",
       "    </tr>\n",
       "    <tr>\n",
       "      <th>min</th>\n",
       "      <td>0.000000e+00</td>\n",
       "      <td>0.000000e+00</td>\n",
       "      <td>0.000000e+00</td>\n",
       "      <td>0.000000</td>\n",
       "      <td>0.000000</td>\n",
       "      <td>0.000000</td>\n",
       "      <td>0.000000e+00</td>\n",
       "      <td>-2.604490e+06</td>\n",
       "      <td>0.000000e+00</td>\n",
       "      <td>0.000000</td>\n",
       "      <td>0.000000</td>\n",
       "      <td>0.000000e+00</td>\n",
       "      <td>-4.409300e+04</td>\n",
       "    </tr>\n",
       "    <tr>\n",
       "      <th>25%</th>\n",
       "      <td>0.000000e+00</td>\n",
       "      <td>0.000000e+00</td>\n",
       "      <td>0.000000e+00</td>\n",
       "      <td>0.000000</td>\n",
       "      <td>0.000000</td>\n",
       "      <td>0.000000</td>\n",
       "      <td>0.000000e+00</td>\n",
       "      <td>8.115000e+03</td>\n",
       "      <td>0.000000e+00</td>\n",
       "      <td>0.000000</td>\n",
       "      <td>0.000000</td>\n",
       "      <td>9.394475e+04</td>\n",
       "      <td>2.288695e+05</td>\n",
       "    </tr>\n",
       "    <tr>\n",
       "      <th>50%</th>\n",
       "      <td>3.000000e+05</td>\n",
       "      <td>6.082935e+05</td>\n",
       "      <td>2.018200e+04</td>\n",
       "      <td>16.500000</td>\n",
       "      <td>2.500000</td>\n",
       "      <td>0.000000</td>\n",
       "      <td>9.595000e+02</td>\n",
       "      <td>3.605280e+05</td>\n",
       "      <td>2.105960e+05</td>\n",
       "      <td>102.500000</td>\n",
       "      <td>289.000000</td>\n",
       "      <td>9.413595e+05</td>\n",
       "      <td>9.659550e+05</td>\n",
       "    </tr>\n",
       "    <tr>\n",
       "      <th>75%</th>\n",
       "      <td>8.000000e+05</td>\n",
       "      <td>1.714221e+06</td>\n",
       "      <td>5.374075e+04</td>\n",
       "      <td>51.250000</td>\n",
       "      <td>40.750000</td>\n",
       "      <td>13.750000</td>\n",
       "      <td>1.506065e+05</td>\n",
       "      <td>8.145280e+05</td>\n",
       "      <td>2.708505e+05</td>\n",
       "      <td>893.500000</td>\n",
       "      <td>1585.750000</td>\n",
       "      <td>1.968287e+06</td>\n",
       "      <td>2.319991e+06</td>\n",
       "    </tr>\n",
       "    <tr>\n",
       "      <th>max</th>\n",
       "      <td>9.734362e+07</td>\n",
       "      <td>3.117640e+08</td>\n",
       "      <td>5.235198e+06</td>\n",
       "      <td>14368.000000</td>\n",
       "      <td>528.000000</td>\n",
       "      <td>609.000000</td>\n",
       "      <td>4.266759e+07</td>\n",
       "      <td>1.303223e+08</td>\n",
       "      <td>2.670423e+07</td>\n",
       "      <td>5521.000000</td>\n",
       "      <td>15149.000000</td>\n",
       "      <td>3.098866e+08</td>\n",
       "      <td>4.345095e+08</td>\n",
       "    </tr>\n",
       "  </tbody>\n",
       "</table>\n",
       "</div>"
      ],
      "text/plain": [
       "              bonus  exercised_stock_options      expenses  from_messages  \\\n",
       "count  1.460000e+02             1.460000e+02  1.460000e+02     146.000000   \n",
       "mean   1.333474e+06             4.182736e+06  7.074827e+04     358.602740   \n",
       "std    8.094029e+06             2.607040e+07  4.327163e+05    1441.259868   \n",
       "min    0.000000e+00             0.000000e+00  0.000000e+00       0.000000   \n",
       "25%    0.000000e+00             0.000000e+00  0.000000e+00       0.000000   \n",
       "50%    3.000000e+05             6.082935e+05  2.018200e+04      16.500000   \n",
       "75%    8.000000e+05             1.714221e+06  5.374075e+04      51.250000   \n",
       "max    9.734362e+07             3.117640e+08  5.235198e+06   14368.000000   \n",
       "\n",
       "       from_poi_to_this_person  from_this_person_to_poi         other  \\\n",
       "count               146.000000               146.000000  1.460000e+02   \n",
       "mean                 38.226027                24.287671  5.854318e+05   \n",
       "std                  73.901124                79.278206  3.682345e+06   \n",
       "min                   0.000000                 0.000000  0.000000e+00   \n",
       "25%                   0.000000                 0.000000  0.000000e+00   \n",
       "50%                   2.500000                 0.000000  9.595000e+02   \n",
       "75%                  40.750000                13.750000  1.506065e+05   \n",
       "max                 528.000000               609.000000  4.266759e+07   \n",
       "\n",
       "       restricted_stock        salary  shared_receipt_with_poi   to_messages  \\\n",
       "count      1.460000e+02  1.460000e+02               146.000000    146.000000   \n",
       "mean       1.749257e+06  3.658114e+05               692.986301   1221.589041   \n",
       "std        1.089995e+07  2.203575e+06              1072.969492   2226.770637   \n",
       "min       -2.604490e+06  0.000000e+00                 0.000000      0.000000   \n",
       "25%        8.115000e+03  0.000000e+00                 0.000000      0.000000   \n",
       "50%        3.605280e+05  2.105960e+05               102.500000    289.000000   \n",
       "75%        8.145280e+05  2.708505e+05               893.500000   1585.750000   \n",
       "max        1.303223e+08  2.670423e+07              5521.000000  15149.000000   \n",
       "\n",
       "       total_payments  total_stock_value  \n",
       "count    1.460000e+02       1.460000e+02  \n",
       "mean     4.350622e+06       5.846018e+06  \n",
       "std      2.693448e+07       3.624681e+07  \n",
       "min      0.000000e+00      -4.409300e+04  \n",
       "25%      9.394475e+04       2.288695e+05  \n",
       "50%      9.413595e+05       9.659550e+05  \n",
       "75%      1.968287e+06       2.319991e+06  \n",
       "max      3.098866e+08       4.345095e+08  "
      ]
     },
     "execution_count": 129,
     "metadata": {},
     "output_type": "execute_result"
    }
   ],
   "source": [
    "df_imp=df.replace(to_replace='NaN',value=0)\n",
    "df_imp.describe()"
   ]
  },
  {
   "cell_type": "markdown",
   "metadata": {},
   "source": [
    "By comparing max and .75 quantile we can figure out if there are outliers. It is not very obvious so let's explore the names. "
   ]
  },
  {
   "cell_type": "code",
   "execution_count": 30,
   "metadata": {
    "collapsed": false
   },
   "outputs": [
    {
     "name": "stdout",
     "output_type": "stream",
     "text": [
      "['METTS MARK', 'BAXTER JOHN C', 'ELLIOTT STEVEN', 'CORDES WILLIAM R', 'HANNON KEVIN P', 'MORDAUNT KRISTINA M', 'MEYER ROCKFORD G', 'MCMAHON JEFFREY', 'HORTON STANLEY C', 'PIPER GREGORY F', 'HUMPHREY GENE E', 'UMANOFF ADAM S', 'BLACHMAN JEREMY M', 'SUNDE MARTIN', 'GIBBS DANA R', 'LOWRY CHARLES P', 'COLWELL WESLEY', 'MULLER MARK S', 'JACKSON CHARLENE R', 'WESTFAHL RICHARD K', 'WALTERS GARETH W', 'WALLS JR ROBERT H', 'KITCHEN LOUISE', 'CHAN RONNIE', 'BELFER ROBERT', 'SHANKMAN JEFFREY A', 'WODRASKA JOHN', 'BERGSIEKER RICHARD P', 'URQUHART JOHN A', 'BIBI PHILIPPE A', 'RIEKER PAULA H', 'WHALEY DAVID A', 'BECK SALLY W', 'HAUG DAVID L', 'ECHOLS JOHN B', 'MENDELSOHN JOHN', 'HICKERSON GARY J', 'CLINE KENNETH W', 'LEWIS RICHARD', 'HAYES ROBERT E', 'MCCARTY DANNY J', 'KOPPER MICHAEL J', 'LEFF DANIEL P', 'LAVORATO JOHN J', 'BERBERIAN DAVID', 'DETMERING TIMOTHY J', 'WAKEHAM JOHN', 'POWERS WILLIAM', 'GOLD JOSEPH', 'BANNANTINE JAMES M', 'DUNCAN JOHN H', 'SHAPIRO RICHARD S', 'SHERRIFF JOHN R', 'SHELBY REX', 'LEMAISTRE CHARLES', 'DEFFNER JOSEPH M', 'KISHKILL JOSEPH G', 'WHALLEY LAWRENCE G', 'MCCONNELL MICHAEL S', 'PIRO JIM', 'DELAINEY DAVID W', 'SULLIVAN-SHAKLOVITZ COLLEEN', 'WROBEL BRUCE', 'LINDHOLM TOD A', 'MEYER JEROME J', 'LAY KENNETH L', 'BUTTS ROBERT H', 'OLSON CINDY K', 'MCDONALD REBECCA', 'CUMBERLAND MICHAEL S', 'GAHN ROBERT S', 'MCCLELLAN GEORGE', 'HERMANN ROBERT J', 'SCRIMSHAW MATTHEW', 'GATHMANN WILLIAM D', 'HAEDICKE MARK E', 'BOWEN JR RAYMOND M', 'GILLIS JOHN', 'FITZGERALD JAY L', 'MORAN MICHAEL P', 'REDMOND BRIAN L', 'BAZELIDES PHILIP J', 'BELDEN TIMOTHY N', 'DURAN WILLIAM D', 'THORN TERENCE H', 'FASTOW ANDREW S', 'FOY JOE', 'CALGER CHRISTOPHER F', 'RICE KENNETH D', 'KAMINSKI WINCENTY J', 'LOCKHART EUGENE E', 'COX DAVID', 'OVERDYKE JR JERE C', 'PEREIRA PAULO V. FERRAZ', 'STABLER FRANK', 'SKILLING JEFFREY K', 'BLAKE JR. NORMAN P', 'SHERRICK JEFFREY B', 'PRENTICE JAMES', 'GRAY RODNEY', 'PICKERING MARK R', 'THE TRAVEL AGENCY IN THE PARK', 'NOLES JAMES L', 'KEAN STEVEN J', 'TOTAL', 'FOWLER PEGGY', 'WASAFF GEORGE', 'WHITE JR THOMAS E', 'CHRISTODOULOU DIOMEDES', 'ALLEN PHILLIP K', 'SHARP VICTORIA T', 'JAEDICKE ROBERT', 'WINOKUR JR. HERBERT S', 'BROWN MICHAEL', 'BADUM JAMES P', 'HUGHES JAMES A', 'REYNOLDS LAWRENCE', 'DIMICHELE RICHARD G', 'BHATNAGAR SANJAY', 'CARTER REBECCA C', 'BUCHANAN HAROLD G', 'YEAP SOON', 'MURRAY JULIA H', 'GARLAND C KEVIN', 'DODSON KEITH', 'YEAGER F SCOTT', 'HIRKO JOSEPH', 'DIETRICH JANET R', 'DERRICK JR. JAMES V', 'FREVERT MARK A', 'PAI LOU L', 'BAY FRANKLIN R', 'HAYSLETT RODERICK J', 'FUGH JOHN L', 'FALLON JAMES B', 'KOENIG MARK E', 'SAVAGE FRANK', 'IZZO LAWRENCE L', 'TILNEY ELIZABETH A', 'MARTIN AMANDA K', 'BUY RICHARD B', 'GRAMM WENDY L', 'CAUSEY RICHARD A', 'TAYLOR MITCHELL S', 'DONAHUE JR JEFFREY M', 'GLISAN JR BEN F']\n"
     ]
    }
   ],
   "source": [
    "print data_dict.keys()"
   ]
  },
  {
   "cell_type": "markdown",
   "metadata": {},
   "source": [
    "Let's remove 'TOTAL' and 'THE TRAVEL AGENCY IN THE PARK'. "
   ]
  },
  {
   "cell_type": "code",
   "execution_count": 130,
   "metadata": {
    "collapsed": false
   },
   "outputs": [
    {
     "data": {
      "text/html": [
       "<div>\n",
       "<table border=\"1\" class=\"dataframe\">\n",
       "  <thead>\n",
       "    <tr style=\"text-align: right;\">\n",
       "      <th></th>\n",
       "      <th>bonus</th>\n",
       "      <th>exercised_stock_options</th>\n",
       "      <th>expenses</th>\n",
       "      <th>from_messages</th>\n",
       "      <th>from_poi_to_this_person</th>\n",
       "      <th>from_this_person_to_poi</th>\n",
       "      <th>other</th>\n",
       "      <th>restricted_stock</th>\n",
       "      <th>salary</th>\n",
       "      <th>shared_receipt_with_poi</th>\n",
       "      <th>to_messages</th>\n",
       "      <th>total_payments</th>\n",
       "      <th>total_stock_value</th>\n",
       "    </tr>\n",
       "  </thead>\n",
       "  <tbody>\n",
       "    <tr>\n",
       "      <th>count</th>\n",
       "      <td>1.440000e+02</td>\n",
       "      <td>1.440000e+02</td>\n",
       "      <td>144.000000</td>\n",
       "      <td>144.000000</td>\n",
       "      <td>144.000000</td>\n",
       "      <td>144.000000</td>\n",
       "      <td>1.440000e+02</td>\n",
       "      <td>1.440000e+02</td>\n",
       "      <td>1.440000e+02</td>\n",
       "      <td>144.000000</td>\n",
       "      <td>144.000000</td>\n",
       "      <td>1.440000e+02</td>\n",
       "      <td>1.440000e+02</td>\n",
       "    </tr>\n",
       "    <tr>\n",
       "      <th>mean</th>\n",
       "      <td>6.759974e+05</td>\n",
       "      <td>2.075802e+06</td>\n",
       "      <td>35375.340278</td>\n",
       "      <td>363.583333</td>\n",
       "      <td>38.756944</td>\n",
       "      <td>24.625000</td>\n",
       "      <td>2.947455e+05</td>\n",
       "      <td>8.685363e+05</td>\n",
       "      <td>1.854460e+05</td>\n",
       "      <td>702.611111</td>\n",
       "      <td>1238.555556</td>\n",
       "      <td>2.256543e+06</td>\n",
       "      <td>2.909786e+06</td>\n",
       "    </tr>\n",
       "    <tr>\n",
       "      <th>std</th>\n",
       "      <td>1.233155e+06</td>\n",
       "      <td>4.795513e+06</td>\n",
       "      <td>45309.303038</td>\n",
       "      <td>1450.675239</td>\n",
       "      <td>74.276769</td>\n",
       "      <td>79.778266</td>\n",
       "      <td>1.131325e+06</td>\n",
       "      <td>2.016572e+06</td>\n",
       "      <td>1.970421e+05</td>\n",
       "      <td>1077.290736</td>\n",
       "      <td>2237.564816</td>\n",
       "      <td>8.847189e+06</td>\n",
       "      <td>6.189018e+06</td>\n",
       "    </tr>\n",
       "    <tr>\n",
       "      <th>min</th>\n",
       "      <td>0.000000e+00</td>\n",
       "      <td>0.000000e+00</td>\n",
       "      <td>0.000000</td>\n",
       "      <td>0.000000</td>\n",
       "      <td>0.000000</td>\n",
       "      <td>0.000000</td>\n",
       "      <td>0.000000e+00</td>\n",
       "      <td>-2.604490e+06</td>\n",
       "      <td>0.000000e+00</td>\n",
       "      <td>0.000000</td>\n",
       "      <td>0.000000</td>\n",
       "      <td>0.000000e+00</td>\n",
       "      <td>-4.409300e+04</td>\n",
       "    </tr>\n",
       "    <tr>\n",
       "      <th>25%</th>\n",
       "      <td>0.000000e+00</td>\n",
       "      <td>0.000000e+00</td>\n",
       "      <td>0.000000</td>\n",
       "      <td>0.000000</td>\n",
       "      <td>0.000000</td>\n",
       "      <td>0.000000</td>\n",
       "      <td>0.000000e+00</td>\n",
       "      <td>2.434500e+04</td>\n",
       "      <td>0.000000e+00</td>\n",
       "      <td>0.000000</td>\n",
       "      <td>0.000000</td>\n",
       "      <td>9.019275e+04</td>\n",
       "      <td>2.443265e+05</td>\n",
       "    </tr>\n",
       "    <tr>\n",
       "      <th>50%</th>\n",
       "      <td>3.000000e+05</td>\n",
       "      <td>6.082935e+05</td>\n",
       "      <td>20182.000000</td>\n",
       "      <td>17.500000</td>\n",
       "      <td>4.000000</td>\n",
       "      <td>0.000000</td>\n",
       "      <td>9.190000e+02</td>\n",
       "      <td>3.605280e+05</td>\n",
       "      <td>2.105960e+05</td>\n",
       "      <td>114.000000</td>\n",
       "      <td>347.500000</td>\n",
       "      <td>9.413595e+05</td>\n",
       "      <td>9.659550e+05</td>\n",
       "    </tr>\n",
       "    <tr>\n",
       "      <th>75%</th>\n",
       "      <td>8.000000e+05</td>\n",
       "      <td>1.683580e+06</td>\n",
       "      <td>53328.250000</td>\n",
       "      <td>53.000000</td>\n",
       "      <td>41.250000</td>\n",
       "      <td>14.000000</td>\n",
       "      <td>1.485770e+05</td>\n",
       "      <td>7.374560e+05</td>\n",
       "      <td>2.696675e+05</td>\n",
       "      <td>933.750000</td>\n",
       "      <td>1623.000000</td>\n",
       "      <td>1.945668e+06</td>\n",
       "      <td>2.295176e+06</td>\n",
       "    </tr>\n",
       "    <tr>\n",
       "      <th>max</th>\n",
       "      <td>8.000000e+06</td>\n",
       "      <td>3.434838e+07</td>\n",
       "      <td>228763.000000</td>\n",
       "      <td>14368.000000</td>\n",
       "      <td>528.000000</td>\n",
       "      <td>609.000000</td>\n",
       "      <td>1.035973e+07</td>\n",
       "      <td>1.476169e+07</td>\n",
       "      <td>1.111258e+06</td>\n",
       "      <td>5521.000000</td>\n",
       "      <td>15149.000000</td>\n",
       "      <td>1.035598e+08</td>\n",
       "      <td>4.911008e+07</td>\n",
       "    </tr>\n",
       "  </tbody>\n",
       "</table>\n",
       "</div>"
      ],
      "text/plain": [
       "              bonus  exercised_stock_options       expenses  from_messages  \\\n",
       "count  1.440000e+02             1.440000e+02     144.000000     144.000000   \n",
       "mean   6.759974e+05             2.075802e+06   35375.340278     363.583333   \n",
       "std    1.233155e+06             4.795513e+06   45309.303038    1450.675239   \n",
       "min    0.000000e+00             0.000000e+00       0.000000       0.000000   \n",
       "25%    0.000000e+00             0.000000e+00       0.000000       0.000000   \n",
       "50%    3.000000e+05             6.082935e+05   20182.000000      17.500000   \n",
       "75%    8.000000e+05             1.683580e+06   53328.250000      53.000000   \n",
       "max    8.000000e+06             3.434838e+07  228763.000000   14368.000000   \n",
       "\n",
       "       from_poi_to_this_person  from_this_person_to_poi         other  \\\n",
       "count               144.000000               144.000000  1.440000e+02   \n",
       "mean                 38.756944                24.625000  2.947455e+05   \n",
       "std                  74.276769                79.778266  1.131325e+06   \n",
       "min                   0.000000                 0.000000  0.000000e+00   \n",
       "25%                   0.000000                 0.000000  0.000000e+00   \n",
       "50%                   4.000000                 0.000000  9.190000e+02   \n",
       "75%                  41.250000                14.000000  1.485770e+05   \n",
       "max                 528.000000               609.000000  1.035973e+07   \n",
       "\n",
       "       restricted_stock        salary  shared_receipt_with_poi   to_messages  \\\n",
       "count      1.440000e+02  1.440000e+02               144.000000    144.000000   \n",
       "mean       8.685363e+05  1.854460e+05               702.611111   1238.555556   \n",
       "std        2.016572e+06  1.970421e+05              1077.290736   2237.564816   \n",
       "min       -2.604490e+06  0.000000e+00                 0.000000      0.000000   \n",
       "25%        2.434500e+04  0.000000e+00                 0.000000      0.000000   \n",
       "50%        3.605280e+05  2.105960e+05               114.000000    347.500000   \n",
       "75%        7.374560e+05  2.696675e+05               933.750000   1623.000000   \n",
       "max        1.476169e+07  1.111258e+06              5521.000000  15149.000000   \n",
       "\n",
       "       total_payments  total_stock_value  \n",
       "count    1.440000e+02       1.440000e+02  \n",
       "mean     2.256543e+06       2.909786e+06  \n",
       "std      8.847189e+06       6.189018e+06  \n",
       "min      0.000000e+00      -4.409300e+04  \n",
       "25%      9.019275e+04       2.443265e+05  \n",
       "50%      9.413595e+05       9.659550e+05  \n",
       "75%      1.945668e+06       2.295176e+06  \n",
       "max      1.035598e+08       4.911008e+07  "
      ]
     },
     "execution_count": 130,
     "metadata": {},
     "output_type": "execute_result"
    }
   ],
   "source": [
    "### Task 2: Remove outliers \n",
    "total_ind=data_dict.keys().index('TOTAL')\n",
    "travel_ind=data_dict.keys().index('THE TRAVEL AGENCY IN THE PARK')\n",
    "df_sub=df_imp.drop(df_imp.index[[total_ind,travel_ind]])\n",
    "df_sub.describe()"
   ]
  },
  {
   "cell_type": "code",
   "execution_count": 131,
   "metadata": {
    "collapsed": false
   },
   "outputs": [
    {
     "name": "stdout",
     "output_type": "stream",
     "text": [
      "(144, 14)\n",
      "Features:\t['bonus', 'exercised_stock_options', 'expenses', 'from_messages', 'from_poi_to_this_person', 'from_this_person_to_poi', 'other', 'poi', 'restricted_stock', 'salary', 'shared_receipt_with_poi', 'to_messages', 'total_payments', 'total_stock_value']\n",
      "How many POIs:\t18\n",
      "How many nonPOIs:\t126\n"
     ]
    }
   ],
   "source": [
    "print df_sub.shape\n",
    "print \"Features:\\t\",list(df_sub.columns.values)\n",
    "\n",
    "print \"How many POIs:\\t\",(df_sub['poi']==1).sum()\n",
    "print \"How many nonPOIs:\\t\",(df_sub['poi']==0).sum()\n"
   ]
  },
  {
   "cell_type": "markdown",
   "metadata": {},
   "source": [
    "Visualization\n",
    "------------"
   ]
  },
  {
   "cell_type": "code",
   "execution_count": 114,
   "metadata": {
    "collapsed": false
   },
   "outputs": [
    {
     "data": {
      "image/png": "[encoded data removed]",
      "text/plain": [
       "<matplotlib.figure.Figure at 0x111e3aa10>"
      ]
     },
     "metadata": {},
     "output_type": "display_data"
    }
   ],
   "source": [
    "#visulization\n",
    "dfeatures=['poi','exercised_stock_options','from_poi_to_this_person']\n",
    "\n",
    "def drawXY(df,dfeatures):\n",
    "    n=len(df)\n",
    "    X=df[dfeatures[1]]\n",
    "    Y=df[dfeatures[2]]\n",
    "    rind=np.nonzero(df[dfeatures[0]])[0]\n",
    "    plt.scatter(X,Y,color='blue')\n",
    "    plt.scatter(X[rind],Y[rind],color='red') #if POIs, label red \n",
    "         \n",
    "    plt.xlabel(dfeatures[1])\n",
    "    plt.ylabel(dfeatures[2])\n",
    "    plt.show()\n",
    "\n",
    "drawXY(df_sub,dfeatures)"
   ]
  },
  {
   "cell_type": "markdown",
   "metadata": {},
   "source": [
    "Create new features\n",
    "------------------\n",
    "\n",
    "I update two new features: “fraction_to_poi\"  and “fraction_from_poi\", which are numbers of messages to/from POI divided by numbers of messages to/from a person, respectively. If a person in general send/receive more emails, then the person is expected to send/receive more emails to/from POIs. So the fraction (of a person receive/send email from/to POIs) is more appropriate than number of emails as a metric to identify additional POIs.   "
   ]
  },
  {
   "cell_type": "code",
   "execution_count": 142,
   "metadata": {
    "collapsed": false
   },
   "outputs": [
    {
     "data": {
      "text/html": [
       "<div>\n",
       "<table border=\"1\" class=\"dataframe\">\n",
       "  <thead>\n",
       "    <tr style=\"text-align: right;\">\n",
       "      <th></th>\n",
       "      <th>bonus</th>\n",
       "      <th>exercised_stock_options</th>\n",
       "      <th>expenses</th>\n",
       "      <th>from_messages</th>\n",
       "      <th>from_poi_to_this_person</th>\n",
       "      <th>from_this_person_to_poi</th>\n",
       "      <th>other</th>\n",
       "      <th>restricted_stock</th>\n",
       "      <th>salary</th>\n",
       "      <th>shared_receipt_with_poi</th>\n",
       "      <th>to_messages</th>\n",
       "      <th>total_payments</th>\n",
       "      <th>total_stock_value</th>\n",
       "      <th>fraction_to_poi</th>\n",
       "      <th>fraction_from_poi</th>\n",
       "    </tr>\n",
       "  </thead>\n",
       "  <tbody>\n",
       "    <tr>\n",
       "      <th>count</th>\n",
       "      <td>1.440000e+02</td>\n",
       "      <td>1.440000e+02</td>\n",
       "      <td>144.000000</td>\n",
       "      <td>144.000000</td>\n",
       "      <td>144.000000</td>\n",
       "      <td>144.000000</td>\n",
       "      <td>1.440000e+02</td>\n",
       "      <td>1.440000e+02</td>\n",
       "      <td>1.440000e+02</td>\n",
       "      <td>144.000000</td>\n",
       "      <td>144.000000</td>\n",
       "      <td>1.440000e+02</td>\n",
       "      <td>1.440000e+02</td>\n",
       "      <td>86.000000</td>\n",
       "      <td>86.000000</td>\n",
       "    </tr>\n",
       "    <tr>\n",
       "      <th>mean</th>\n",
       "      <td>6.759974e+05</td>\n",
       "      <td>2.075802e+06</td>\n",
       "      <td>35375.340278</td>\n",
       "      <td>363.583333</td>\n",
       "      <td>38.756944</td>\n",
       "      <td>24.625000</td>\n",
       "      <td>2.947455e+05</td>\n",
       "      <td>8.685363e+05</td>\n",
       "      <td>1.854460e+05</td>\n",
       "      <td>702.611111</td>\n",
       "      <td>1238.555556</td>\n",
       "      <td>2.256543e+06</td>\n",
       "      <td>2.909786e+06</td>\n",
       "      <td>18.405548</td>\n",
       "      <td>3.796298</td>\n",
       "    </tr>\n",
       "    <tr>\n",
       "      <th>std</th>\n",
       "      <td>1.233155e+06</td>\n",
       "      <td>4.795513e+06</td>\n",
       "      <td>45309.303038</td>\n",
       "      <td>1450.675239</td>\n",
       "      <td>74.276769</td>\n",
       "      <td>79.778266</td>\n",
       "      <td>1.131325e+06</td>\n",
       "      <td>2.016572e+06</td>\n",
       "      <td>1.970421e+05</td>\n",
       "      <td>1077.290736</td>\n",
       "      <td>2237.564816</td>\n",
       "      <td>8.847189e+06</td>\n",
       "      <td>6.189018e+06</td>\n",
       "      <td>21.061035</td>\n",
       "      <td>4.054439</td>\n",
       "    </tr>\n",
       "    <tr>\n",
       "      <th>min</th>\n",
       "      <td>0.000000e+00</td>\n",
       "      <td>0.000000e+00</td>\n",
       "      <td>0.000000</td>\n",
       "      <td>0.000000</td>\n",
       "      <td>0.000000</td>\n",
       "      <td>0.000000</td>\n",
       "      <td>0.000000e+00</td>\n",
       "      <td>-2.604490e+06</td>\n",
       "      <td>0.000000e+00</td>\n",
       "      <td>0.000000</td>\n",
       "      <td>0.000000</td>\n",
       "      <td>0.000000e+00</td>\n",
       "      <td>-4.409300e+04</td>\n",
       "      <td>0.000000</td>\n",
       "      <td>0.000000</td>\n",
       "    </tr>\n",
       "    <tr>\n",
       "      <th>25%</th>\n",
       "      <td>0.000000e+00</td>\n",
       "      <td>0.000000e+00</td>\n",
       "      <td>0.000000</td>\n",
       "      <td>0.000000</td>\n",
       "      <td>0.000000</td>\n",
       "      <td>0.000000</td>\n",
       "      <td>0.000000e+00</td>\n",
       "      <td>2.434500e+04</td>\n",
       "      <td>0.000000e+00</td>\n",
       "      <td>0.000000</td>\n",
       "      <td>0.000000</td>\n",
       "      <td>9.019275e+04</td>\n",
       "      <td>2.443265e+05</td>\n",
       "      <td>NaN</td>\n",
       "      <td>NaN</td>\n",
       "    </tr>\n",
       "    <tr>\n",
       "      <th>50%</th>\n",
       "      <td>3.000000e+05</td>\n",
       "      <td>6.082935e+05</td>\n",
       "      <td>20182.000000</td>\n",
       "      <td>17.500000</td>\n",
       "      <td>4.000000</td>\n",
       "      <td>0.000000</td>\n",
       "      <td>9.190000e+02</td>\n",
       "      <td>3.605280e+05</td>\n",
       "      <td>2.105960e+05</td>\n",
       "      <td>114.000000</td>\n",
       "      <td>347.500000</td>\n",
       "      <td>9.413595e+05</td>\n",
       "      <td>9.659550e+05</td>\n",
       "      <td>NaN</td>\n",
       "      <td>NaN</td>\n",
       "    </tr>\n",
       "    <tr>\n",
       "      <th>75%</th>\n",
       "      <td>8.000000e+05</td>\n",
       "      <td>1.683580e+06</td>\n",
       "      <td>53328.250000</td>\n",
       "      <td>53.000000</td>\n",
       "      <td>41.250000</td>\n",
       "      <td>14.000000</td>\n",
       "      <td>1.485770e+05</td>\n",
       "      <td>7.374560e+05</td>\n",
       "      <td>2.696675e+05</td>\n",
       "      <td>933.750000</td>\n",
       "      <td>1623.000000</td>\n",
       "      <td>1.945668e+06</td>\n",
       "      <td>2.295176e+06</td>\n",
       "      <td>NaN</td>\n",
       "      <td>NaN</td>\n",
       "    </tr>\n",
       "    <tr>\n",
       "      <th>max</th>\n",
       "      <td>8.000000e+06</td>\n",
       "      <td>3.434838e+07</td>\n",
       "      <td>228763.000000</td>\n",
       "      <td>14368.000000</td>\n",
       "      <td>528.000000</td>\n",
       "      <td>609.000000</td>\n",
       "      <td>1.035973e+07</td>\n",
       "      <td>1.476169e+07</td>\n",
       "      <td>1.111258e+06</td>\n",
       "      <td>5521.000000</td>\n",
       "      <td>15149.000000</td>\n",
       "      <td>1.035598e+08</td>\n",
       "      <td>4.911008e+07</td>\n",
       "      <td>100.000000</td>\n",
       "      <td>21.734104</td>\n",
       "    </tr>\n",
       "  </tbody>\n",
       "</table>\n",
       "</div>"
      ],
      "text/plain": [
       "              bonus  exercised_stock_options       expenses  from_messages  \\\n",
       "count  1.440000e+02             1.440000e+02     144.000000     144.000000   \n",
       "mean   6.759974e+05             2.075802e+06   35375.340278     363.583333   \n",
       "std    1.233155e+06             4.795513e+06   45309.303038    1450.675239   \n",
       "min    0.000000e+00             0.000000e+00       0.000000       0.000000   \n",
       "25%    0.000000e+00             0.000000e+00       0.000000       0.000000   \n",
       "50%    3.000000e+05             6.082935e+05   20182.000000      17.500000   \n",
       "75%    8.000000e+05             1.683580e+06   53328.250000      53.000000   \n",
       "max    8.000000e+06             3.434838e+07  228763.000000   14368.000000   \n",
       "\n",
       "       from_poi_to_this_person  from_this_person_to_poi         other  \\\n",
       "count               144.000000               144.000000  1.440000e+02   \n",
       "mean                 38.756944                24.625000  2.947455e+05   \n",
       "std                  74.276769                79.778266  1.131325e+06   \n",
       "min                   0.000000                 0.000000  0.000000e+00   \n",
       "25%                   0.000000                 0.000000  0.000000e+00   \n",
       "50%                   4.000000                 0.000000  9.190000e+02   \n",
       "75%                  41.250000                14.000000  1.485770e+05   \n",
       "max                 528.000000               609.000000  1.035973e+07   \n",
       "\n",
       "       restricted_stock        salary  shared_receipt_with_poi   to_messages  \\\n",
       "count      1.440000e+02  1.440000e+02               144.000000    144.000000   \n",
       "mean       8.685363e+05  1.854460e+05               702.611111   1238.555556   \n",
       "std        2.016572e+06  1.970421e+05              1077.290736   2237.564816   \n",
       "min       -2.604490e+06  0.000000e+00                 0.000000      0.000000   \n",
       "25%        2.434500e+04  0.000000e+00                 0.000000      0.000000   \n",
       "50%        3.605280e+05  2.105960e+05               114.000000    347.500000   \n",
       "75%        7.374560e+05  2.696675e+05               933.750000   1623.000000   \n",
       "max        1.476169e+07  1.111258e+06              5521.000000  15149.000000   \n",
       "\n",
       "       total_payments  total_stock_value  fraction_to_poi  fraction_from_poi  \n",
       "count    1.440000e+02       1.440000e+02        86.000000          86.000000  \n",
       "mean     2.256543e+06       2.909786e+06        18.405548           3.796298  \n",
       "std      8.847189e+06       6.189018e+06        21.061035           4.054439  \n",
       "min      0.000000e+00      -4.409300e+04         0.000000           0.000000  \n",
       "25%      9.019275e+04       2.443265e+05              NaN                NaN  \n",
       "50%      9.413595e+05       9.659550e+05              NaN                NaN  \n",
       "75%      1.945668e+06       2.295176e+06              NaN                NaN  \n",
       "max      1.035598e+08       4.911008e+07       100.000000          21.734104  "
      ]
     },
     "execution_count": 142,
     "metadata": {},
     "output_type": "execute_result"
    }
   ],
   "source": [
    "### Task 3: Create new feature(s) \n",
    "fraction_to_poi=(df_sub['from_this_person_to_poi'])/(df_sub['from_messages'])\n",
    "fraction_from_poi=(df_sub['from_poi_to_this_person'])/(df_sub['to_messages']) #.replace({0:np.nan}\n",
    "df_sub['fraction_to_poi']=pd.Series(fraction_to_poi)*100  #unit: %\n",
    "df_sub['fraction_from_poi']=pd.Series(fraction_from_poi)*100\n",
    "df_sub.describe()"
   ]
  },
  {
   "cell_type": "markdown",
   "metadata": {},
   "source": [
    "The features I selected have different units so I should deploy feature scaling. "
   ]
  },
  {
   "cell_type": "code",
   "execution_count": 217,
   "metadata": {
    "collapsed": false
   },
   "outputs": [
    {
     "data": {
      "text/html": [
       "<div>\n",
       "<table border=\"1\" class=\"dataframe\">\n",
       "  <thead>\n",
       "    <tr style=\"text-align: right;\">\n",
       "      <th></th>\n",
       "      <th>bonus</th>\n",
       "      <th>exercised_stock_options</th>\n",
       "      <th>expenses</th>\n",
       "      <th>from_messages</th>\n",
       "      <th>from_poi_to_this_person</th>\n",
       "      <th>from_this_person_to_poi</th>\n",
       "      <th>other</th>\n",
       "      <th>restricted_stock</th>\n",
       "      <th>salary</th>\n",
       "      <th>shared_receipt_with_poi</th>\n",
       "      <th>to_messages</th>\n",
       "      <th>total_payments</th>\n",
       "      <th>total_stock_value</th>\n",
       "      <th>fraction_to_poi</th>\n",
       "      <th>fraction_from_poi</th>\n",
       "    </tr>\n",
       "  </thead>\n",
       "  <tbody>\n",
       "    <tr>\n",
       "      <th>count</th>\n",
       "      <td>1.440000e+02</td>\n",
       "      <td>1.440000e+02</td>\n",
       "      <td>144.000000</td>\n",
       "      <td>144.000000</td>\n",
       "      <td>144.000000</td>\n",
       "      <td>144.000000</td>\n",
       "      <td>1.440000e+02</td>\n",
       "      <td>1.440000e+02</td>\n",
       "      <td>144.000000</td>\n",
       "      <td>144.000000</td>\n",
       "      <td>144.000000</td>\n",
       "      <td>1.440000e+02</td>\n",
       "      <td>1.440000e+02</td>\n",
       "      <td>86.000000</td>\n",
       "      <td>86.000000</td>\n",
       "    </tr>\n",
       "    <tr>\n",
       "      <th>mean</th>\n",
       "      <td>6.759974e+05</td>\n",
       "      <td>2.075802e+06</td>\n",
       "      <td>35375.340278</td>\n",
       "      <td>363.583333</td>\n",
       "      <td>38.756944</td>\n",
       "      <td>24.625000</td>\n",
       "      <td>2.947455e+05</td>\n",
       "      <td>8.685363e+05</td>\n",
       "      <td>16.687937</td>\n",
       "      <td>702.611111</td>\n",
       "      <td>1238.555556</td>\n",
       "      <td>2.256543e+06</td>\n",
       "      <td>2.909786e+06</td>\n",
       "      <td>18.405548</td>\n",
       "      <td>3.796298</td>\n",
       "    </tr>\n",
       "    <tr>\n",
       "      <th>std</th>\n",
       "      <td>1.233155e+06</td>\n",
       "      <td>4.795513e+06</td>\n",
       "      <td>45309.303038</td>\n",
       "      <td>1450.675239</td>\n",
       "      <td>74.276769</td>\n",
       "      <td>79.778266</td>\n",
       "      <td>1.131325e+06</td>\n",
       "      <td>2.016572e+06</td>\n",
       "      <td>17.731447</td>\n",
       "      <td>1077.290736</td>\n",
       "      <td>2237.564816</td>\n",
       "      <td>8.847189e+06</td>\n",
       "      <td>6.189018e+06</td>\n",
       "      <td>21.061035</td>\n",
       "      <td>4.054439</td>\n",
       "    </tr>\n",
       "    <tr>\n",
       "      <th>min</th>\n",
       "      <td>0.000000e+00</td>\n",
       "      <td>0.000000e+00</td>\n",
       "      <td>0.000000</td>\n",
       "      <td>0.000000</td>\n",
       "      <td>0.000000</td>\n",
       "      <td>0.000000</td>\n",
       "      <td>0.000000e+00</td>\n",
       "      <td>-2.604490e+06</td>\n",
       "      <td>0.000000</td>\n",
       "      <td>0.000000</td>\n",
       "      <td>0.000000</td>\n",
       "      <td>0.000000e+00</td>\n",
       "      <td>-4.409300e+04</td>\n",
       "      <td>0.000000</td>\n",
       "      <td>0.000000</td>\n",
       "    </tr>\n",
       "    <tr>\n",
       "      <th>25%</th>\n",
       "      <td>0.000000e+00</td>\n",
       "      <td>0.000000e+00</td>\n",
       "      <td>0.000000</td>\n",
       "      <td>0.000000</td>\n",
       "      <td>0.000000</td>\n",
       "      <td>0.000000</td>\n",
       "      <td>0.000000e+00</td>\n",
       "      <td>2.434500e+04</td>\n",
       "      <td>0.000000</td>\n",
       "      <td>0.000000</td>\n",
       "      <td>0.000000</td>\n",
       "      <td>9.019275e+04</td>\n",
       "      <td>2.443265e+05</td>\n",
       "      <td>NaN</td>\n",
       "      <td>NaN</td>\n",
       "    </tr>\n",
       "    <tr>\n",
       "      <th>50%</th>\n",
       "      <td>3.000000e+05</td>\n",
       "      <td>6.082935e+05</td>\n",
       "      <td>20182.000000</td>\n",
       "      <td>17.500000</td>\n",
       "      <td>4.000000</td>\n",
       "      <td>0.000000</td>\n",
       "      <td>9.190000e+02</td>\n",
       "      <td>3.605280e+05</td>\n",
       "      <td>18.951135</td>\n",
       "      <td>114.000000</td>\n",
       "      <td>347.500000</td>\n",
       "      <td>9.413595e+05</td>\n",
       "      <td>9.659550e+05</td>\n",
       "      <td>NaN</td>\n",
       "      <td>NaN</td>\n",
       "    </tr>\n",
       "    <tr>\n",
       "      <th>75%</th>\n",
       "      <td>8.000000e+05</td>\n",
       "      <td>1.683580e+06</td>\n",
       "      <td>53328.250000</td>\n",
       "      <td>53.000000</td>\n",
       "      <td>41.250000</td>\n",
       "      <td>14.000000</td>\n",
       "      <td>1.485770e+05</td>\n",
       "      <td>7.374560e+05</td>\n",
       "      <td>24.266867</td>\n",
       "      <td>933.750000</td>\n",
       "      <td>1623.000000</td>\n",
       "      <td>1.945668e+06</td>\n",
       "      <td>2.295176e+06</td>\n",
       "      <td>NaN</td>\n",
       "      <td>NaN</td>\n",
       "    </tr>\n",
       "    <tr>\n",
       "      <th>max</th>\n",
       "      <td>8.000000e+06</td>\n",
       "      <td>3.434838e+07</td>\n",
       "      <td>228763.000000</td>\n",
       "      <td>14368.000000</td>\n",
       "      <td>528.000000</td>\n",
       "      <td>609.000000</td>\n",
       "      <td>1.035973e+07</td>\n",
       "      <td>1.476169e+07</td>\n",
       "      <td>100.000000</td>\n",
       "      <td>5521.000000</td>\n",
       "      <td>15149.000000</td>\n",
       "      <td>1.035598e+08</td>\n",
       "      <td>4.911008e+07</td>\n",
       "      <td>100.000000</td>\n",
       "      <td>21.734104</td>\n",
       "    </tr>\n",
       "  </tbody>\n",
       "</table>\n",
       "</div>"
      ],
      "text/plain": [
       "              bonus  exercised_stock_options       expenses  from_messages  \\\n",
       "count  1.440000e+02             1.440000e+02     144.000000     144.000000   \n",
       "mean   6.759974e+05             2.075802e+06   35375.340278     363.583333   \n",
       "std    1.233155e+06             4.795513e+06   45309.303038    1450.675239   \n",
       "min    0.000000e+00             0.000000e+00       0.000000       0.000000   \n",
       "25%    0.000000e+00             0.000000e+00       0.000000       0.000000   \n",
       "50%    3.000000e+05             6.082935e+05   20182.000000      17.500000   \n",
       "75%    8.000000e+05             1.683580e+06   53328.250000      53.000000   \n",
       "max    8.000000e+06             3.434838e+07  228763.000000   14368.000000   \n",
       "\n",
       "       from_poi_to_this_person  from_this_person_to_poi         other  \\\n",
       "count               144.000000               144.000000  1.440000e+02   \n",
       "mean                 38.756944                24.625000  2.947455e+05   \n",
       "std                  74.276769                79.778266  1.131325e+06   \n",
       "min                   0.000000                 0.000000  0.000000e+00   \n",
       "25%                   0.000000                 0.000000  0.000000e+00   \n",
       "50%                   4.000000                 0.000000  9.190000e+02   \n",
       "75%                  41.250000                14.000000  1.485770e+05   \n",
       "max                 528.000000               609.000000  1.035973e+07   \n",
       "\n",
       "       restricted_stock      salary  shared_receipt_with_poi   to_messages  \\\n",
       "count      1.440000e+02  144.000000               144.000000    144.000000   \n",
       "mean       8.685363e+05   16.687937               702.611111   1238.555556   \n",
       "std        2.016572e+06   17.731447              1077.290736   2237.564816   \n",
       "min       -2.604490e+06    0.000000                 0.000000      0.000000   \n",
       "25%        2.434500e+04    0.000000                 0.000000      0.000000   \n",
       "50%        3.605280e+05   18.951135               114.000000    347.500000   \n",
       "75%        7.374560e+05   24.266867               933.750000   1623.000000   \n",
       "max        1.476169e+07  100.000000              5521.000000  15149.000000   \n",
       "\n",
       "       total_payments  total_stock_value  fraction_to_poi  fraction_from_poi  \n",
       "count    1.440000e+02       1.440000e+02        86.000000          86.000000  \n",
       "mean     2.256543e+06       2.909786e+06        18.405548           3.796298  \n",
       "std      8.847189e+06       6.189018e+06        21.061035           4.054439  \n",
       "min      0.000000e+00      -4.409300e+04         0.000000           0.000000  \n",
       "25%      9.019275e+04       2.443265e+05              NaN                NaN  \n",
       "50%      9.413595e+05       9.659550e+05              NaN                NaN  \n",
       "75%      1.945668e+06       2.295176e+06              NaN                NaN  \n",
       "max      1.035598e+08       4.911008e+07       100.000000          21.734104  "
      ]
     },
     "execution_count": 217,
     "metadata": {},
     "output_type": "execute_result"
    }
   ],
   "source": [
    "#scaling\n",
    "min_max_scaler=sklearn.preprocessing.MinMaxScaler(feature_range=(0,100),copy=True)\n",
    "\n",
    "for feature in list(df_sub.columns.values):\n",
    "    if feature !='salary':# or feature =='fraction_to_poi':\n",
    "        df_scaled[feature]=df_sub[feature]\n",
    "    #elif feature =='fraction_from_poi':\n",
    "    #    df_scaled[feature]=df_sub[feature]\n",
    "    else:\n",
    "        df_sub[feature]=df_sub[feature].astype(float) #change data formate from int64 to float64\n",
    "        df_scaled[feature]=min_max_scaler.fit_transform(df_sub[feature]) \n",
    "        \n",
    "        \n",
    "df_scaled.describe()"
   ]
  },
  {
   "cell_type": "markdown",
   "metadata": {},
   "source": [
    "Let's visualize new featues."
   ]
  },
  {
   "cell_type": "code",
   "execution_count": 218,
   "metadata": {
    "collapsed": false
   },
   "outputs": [
    {
     "data": {
      "image/png": "[encoded data removed]",
      "text/plain": [
       "<matplotlib.figure.Figure at 0x112089b50>"
      ]
     },
     "metadata": {},
     "output_type": "display_data"
    }
   ],
   "source": [
    "newfeatures=['poi','salary','fraction_to_poi']#,'fraction_from_poi','shared_receipt_with_poi'\n",
    "drawXY(df_scaled,newfeatures)"
   ]
  },
  {
   "cell_type": "markdown",
   "metadata": {},
   "source": [
    "Feature selection \n",
    "---------------\n",
    "Because of the small size of the dataset, the script uses          stratified shuffle split cross validation. \n",
    "\n",
    "Because there are 18 POIs among 146 people, it is important to do stratified k-fold. Otherwise, it is likely to have no POIs in the test set. In stratified k-fold cross-validation, the folds are selected so that the mean response value is approximately equal in all the folds. In the case of a dichotomous classification, this means that each fold contains roughly the same proportions of the two types of class labels. \n"
   ]
  },
  {
   "cell_type": "code",
   "execution_count": 219,
   "metadata": {
    "collapsed": false
   },
   "outputs": [
    {
     "name": "stdout",
     "output_type": "stream",
     "text": [
      "15\n",
      "['bonus', 'exercised_stock_options', 'expenses', 'from_messages', 'from_poi_to_this_person', 'from_this_person_to_poi', 'other', 'restricted_stock', 'salary', 'shared_receipt_with_poi', 'to_messages', 'total_payments', 'total_stock_value', 'fraction_to_poi', 'fraction_from_poi']\n"
     ]
    }
   ],
   "source": [
    "labels=df_scaled['poi'].copy(deep=True).astype(int).as_matrix()\n",
    "features=df_scaled.drop('poi',axis=1).fillna(0).copy(deep=True).as_matrix()\n",
    "#shuffle=sklearn.cross_validation.StratifiedShuffleSplit(labels,n_iter=4,test_size=0.3,random_state=0)\n",
    "#print labels\n",
    "print len(features[0])\n",
    "df_tp=df_scaled.drop('poi',axis=1)\n",
    "features_list=list(df_tp.columns.values)\n",
    "print features_list"
   ]
  },
  {
   "cell_type": "markdown",
   "metadata": {},
   "source": [
    "Then I select features using decision tree and feature_importances"
   ]
  },
  {
   "cell_type": "code",
   "execution_count": 221,
   "metadata": {
    "collapsed": false
   },
   "outputs": [
    {
     "data": {
      "text/plain": [
       "[('other', 0.23246409674981106),\n",
       " ('exercised_stock_options', 0.19999999999999979),\n",
       " ('fraction_to_poi', 0.13605442176870772),\n",
       " ('expenses', 0.11934598400763817),\n",
       " ('shared_receipt_with_poi', 0.11863587540279261),\n",
       " ('total_payments', 0.093121693121693092),\n",
       " ('total_stock_value', 0.072206660441954576),\n",
       " ('restricted_stock', 0.028171268507402945),\n",
       " ('bonus', 0.0),\n",
       " ('from_messages', 0.0),\n",
       " ('from_poi_to_this_person', 0.0),\n",
       " ('from_this_person_to_poi', 0.0),\n",
       " ('salary', 0.0),\n",
       " ('to_messages', 0.0),\n",
       " ('fraction_from_poi', 0.0)]"
      ]
     },
     "execution_count": 221,
     "metadata": {},
     "output_type": "execute_result"
    }
   ],
   "source": [
    "# decision tree and feature_importances\n",
    "from sklearn.tree import DecisionTreeClassifier\n",
    "\n",
    "def SelectImportances(features,labels):\n",
    "    clf=DecisionTreeClassifier()\n",
    "    clf.fit(features,labels)\n",
    "    importances=clf.feature_importances_\n",
    "    imp=zip(features_list,importances)\n",
    "    imps=sorted(imp,key=lambda x: x[1],reverse=True)\n",
    "    return imps\n",
    "\n",
    "SelectImportances(features,labels)    "
   ]
  },
  {
   "cell_type": "code",
   "execution_count": 230,
   "metadata": {
    "collapsed": false
   },
   "outputs": [
    {
     "name": "stdout",
     "output_type": "stream",
     "text": [
      "Feature ranking: \n",
      "1. exercised_stock_options (0.124105)\n",
      "2. fraction_to_poi (0.091845)\n",
      "3. bonus (0.090882)\n",
      "4. total_stock_value (0.082733)\n",
      "5. expenses (0.074744)\n",
      "6. other (0.068666)\n",
      "7. salary (0.068624)\n",
      "8. shared_receipt_with_poi (0.064749)\n",
      "9. restricted_stock (0.064442)\n",
      "10. total_payments (0.058599)\n",
      "11. from_this_person_to_poi (0.052971)\n",
      "12. from_poi_to_this_person (0.047604)\n",
      "13. fraction_from_poi (0.044916)\n",
      "14. from_messages (0.034120)\n",
      "15. to_messages (0.030999)\n"
     ]
    },
    {
     "data": {
      "image/png": "[encoded data removed]",
      "text/plain": [
       "<matplotlib.figure.Figure at 0x1121afcd0>"
      ]
     },
     "metadata": {},
     "output_type": "display_data"
    }
   ],
   "source": [
    "# Feature_importances with forests of trees\n",
    "from sklearn.ensemble import ExtraTreesClassifier\n",
    "\n",
    "def SelectImportances2(features,labels):\n",
    "    forest=ExtraTreesClassifier(n_estimators=50,random_state=0)\n",
    "    forest.fit(features,labels)\n",
    "    importances=forest.feature_importances_\n",
    "    std=np.std([tree.feature_importances_ for tree in forest.estimators_],axis=0)\n",
    "    indices=np.argsort(importances)[::-1]\n",
    "    print(\"Feature ranking: \")\n",
    "    for f in range(features.shape[1]):\n",
    "        print(\"%d. %s (%f)\"%(f+1,features_list[indices[f]],importances[indices[f]]))\n",
    "    #plot the ffeature importances of the forest\n",
    "    plt.figure()\n",
    "    plt.title(\"Feature importances\")\n",
    "    plt.bar(range(features.shape[1]),importances[indices],color=\"r\",yerr=std[indices],align=\"center\")\n",
    "    plt.xticks(range(features.shape[1]),indices)\n",
    "    plt.xlim([-1,features.shape[1]])\n",
    "    plt.show()\n",
    "    \n",
    "SelectImportances2(features,labels)    "
   ]
  },
  {
   "cell_type": "markdown",
   "metadata": {},
   "source": [
    "I use forests of trees to evaluate the importances of the features. The top features with most discriminating power are: 1. exercised_stock_options (0.124105); 2. fraction_to_poi (0.091845); 3. bonus (0.090882); 4. total_stock_value (0.082733); 5. expenses (0.074744). "
   ]
  },
  {
   "cell_type": "markdown",
   "metadata": {
    "collapsed": false
   },
   "source": [
    "Try a variety of classifiers\n",
    "-----------------------\n",
    "\n",
    "**Gaussian Naive Bayes**"
   ]
  },
  {
   "cell_type": "code",
   "execution_count": 257,
   "metadata": {
    "collapsed": false
   },
   "outputs": [
    {
     "name": "stdout",
     "output_type": "stream",
     "text": [
      "[ 0.86666667  0.86206897  0.89655172  0.85714286  0.71428571]\n",
      "Accuracy:0.839 +/- 0.064 \n"
     ]
    }
   ],
   "source": [
    "### Task 4: Try a varity of classifiers                                                                                                          \n",
    "### Please name your classifier clf for easy export below.                                                                                       \n",
    "### Note that if you want to do PCA or other multi-stage operations,  \n",
    "### you'll need to use Pipelines. For more info:                                                                                                 \n",
    "### http://scikit-learn.org/stable/modules/pipeline.html                                                                                         \n",
    "\n",
    "from sklearn.naive_bayes import GaussianNB\n",
    "gnb_clf=GaussianNB()\n",
    "scores=sklearn.cross_validation.cross_val_score(gnb_clf,features,labels,cv=5)\n",
    "print scores\n",
    "print(\"Accuracy:%0.3f +/- %0.3f \" %(scores.mean(),scores.std()))"
   ]
  },
  {
   "cell_type": "markdown",
   "metadata": {},
   "source": [
    "**Random Forest**"
   ]
  },
  {
   "cell_type": "code",
   "execution_count": 258,
   "metadata": {
    "collapsed": false
   },
   "outputs": [
    {
     "name": "stdout",
     "output_type": "stream",
     "text": [
      "[ 0.83333333  0.86206897  0.86206897  0.92857143  0.82142857]\n",
      "Accuracy:0.861 +/- 0.037 \n"
     ]
    }
   ],
   "source": [
    "from sklearn.ensemble import RandomForestClassifier\n",
    "rf_clf=RandomForestClassifier(n_estimators=50)\n",
    "scores=sklearn.cross_validation.cross_val_score(rf_clf,features,labels,cv=5)\n",
    "print scores\n",
    "print(\"Accuracy:%0.3f +/- %0.3f \" %(scores.mean(),scores.std()))"
   ]
  },
  {
   "cell_type": "markdown",
   "metadata": {},
   "source": [
    "**Adaboost**"
   ]
  },
  {
   "cell_type": "code",
   "execution_count": 256,
   "metadata": {
    "collapsed": false
   },
   "outputs": [
    {
     "name": "stdout",
     "output_type": "stream",
     "text": [
      "[ 0.86666667  0.82758621  0.86206897  0.92857143  0.71428571]\n",
      "Accuracy:0.840 +/- 0.071 \n"
     ]
    }
   ],
   "source": [
    "from sklearn.ensemble import AdaBoostClassifier\n",
    "ab_clf=AdaBoostClassifier(n_estimators=50)\n",
    "scores=sklearn.cross_validation.cross_val_score(ab_clf,features,labels,cv=5)\n",
    "print scores\n",
    "print(\"Accuracy:%0.3f +/- %0.3f \" %(scores.mean(),scores.std()))"
   ]
  },
  {
   "cell_type": "markdown",
   "metadata": {
    "collapsed": true
   },
   "source": [
    "**Extremely Randomized Tree**"
   ]
  },
  {
   "cell_type": "code",
   "execution_count": 252,
   "metadata": {
    "collapsed": false
   },
   "outputs": [
    {
     "name": "stdout",
     "output_type": "stream",
     "text": [
      "[ 0.86666667  0.89655172  0.89655172  0.92857143  0.82142857]\n",
      "Accuracy:0.882 +/- 0.036 \n"
     ]
    }
   ],
   "source": [
    "from sklearn.ensemble import ExtraTreesClassifier\n",
    "erf_clf=ExtraTreesClassifier(n_estimators=50)\n",
    "scores=sklearn.cross_validation.cross_val_score(erf_clf,features,labels,cv=5)\n",
    "print scores\n",
    "print(\"Accuracy:%0.3f +/- %0.3f \" %(scores.mean(),scores.std()))"
   ]
  },
  {
   "cell_type": "markdown",
   "metadata": {},
   "source": [
    "**K-Nearest Neighbors**"
   ]
  },
  {
   "cell_type": "code",
   "execution_count": 253,
   "metadata": {
    "collapsed": false
   },
   "outputs": [
    {
     "name": "stdout",
     "output_type": "stream",
     "text": [
      "[ 0.86666667  0.86206897  0.93103448  0.89285714  0.85714286]\n",
      "Accuracy:0.882 +/- 0.027 \n"
     ]
    }
   ],
   "source": [
    "from sklearn.neighbors import KNeighborsClassifier\n",
    "kn_clf=KNeighborsClassifier()\n",
    "scores=sklearn.cross_validation.cross_val_score(kn_clf,features,labels,cv=5)\n",
    "print scores\n",
    "print(\"Accuracy:%0.3f +/- %0.3f \" %(scores.mean(),scores.std()))"
   ]
  },
  {
   "cell_type": "markdown",
   "metadata": {
    "collapsed": false
   },
   "source": [
    "Tune the algorithms\n",
    "------------------\n",
    "\n",
    "Try Random Forest, AdaBoost, K Neighbors"
   ]
  },
  {
   "cell_type": "code",
   "execution_count": 270,
   "metadata": {
    "collapsed": false,
    "scrolled": true
   },
   "outputs": [],
   "source": [
    "from sklearn import grid_search\n",
    "\n",
    "shuffle=sklearn.cross_validation.StratifiedShuffleSplit(labels,n_iter=10)\n",
    "def scorer(estimator,features_test,labels_test):\n",
    "    labels_pred=estimator.predict(features_test)   \n",
    "    pre=sklearn.metrics.precision_score(labels_test,labels_pred)#,average='micro')\n",
    "    rec=sklearn.metrics.recall_score(labels_test,labels_pred)#,average='micro')\n",
    "    if pre > 0.3 and r > 0.3:\n",
    "        return sklearn.metrics.f1_score(labels_test,labels_pred)#,average='macro')\n",
    "    #'binary':'binary': Only report results for the class specified by pos_label. \n",
    "    #         This is applicable only if targets (y_{true,pred}) are binary. \n",
    "    #'micro': Calculate metrics globally by counting the total true positives, false negatives and false positives.\n",
    "    #'macro': Calculate metrics for each label, and find their unweighted mean. \n",
    "    #         This does not take label imbalance into account.\n",
    "    \n",
    "    \n",
    "    return 0\n",
    "\n"
   ]
  },
  {
   "cell_type": "markdown",
   "metadata": {
    "collapsed": false
   },
   "source": [
    "**Tune Random Forest**: max_depth, min_samples_split, n_estimators, min_samples_leaf, criterion\n"
   ]
  },
  {
   "cell_type": "code",
   "execution_count": 289,
   "metadata": {
    "collapsed": false
   },
   "outputs": [
    {
     "name": "stdout",
     "output_type": "stream",
     "text": [
      "RandomForestClassifier(bootstrap=True, class_weight=None, criterion='entropy',\n",
      "            max_depth=6, max_features='auto', max_leaf_nodes=None,\n",
      "            min_samples_leaf=3, min_samples_split=3,\n",
      "            min_weight_fraction_leaf=0.0, n_estimators=10, n_jobs=1,\n",
      "            oob_score=False, random_state=None, verbose=0,\n",
      "            warm_start=False)\n",
      "0.366666666667\n"
     ]
    }
   ],
   "source": [
    "parameters={'max_depth': [2,3,4,5,6],'min_samples_split':[2,3,4,5],\\\n",
    "            'n_estimators':[10,20,50], 'min_samples_leaf':[1,2,3,4], 'criterion':('gini', 'entropy')}\n",
    "rf_clf=RandomForestClassifier()\n",
    "rfclft=grid_search.GridSearchCV(rf_clf,parameters,scoring=scorer,cv=shuffle)\n",
    "rfclft.fit(features,labels)\n",
    "print rfclft.best_estimator_\n",
    "print rfclft.best_score_"
   ]
  },
  {
   "cell_type": "markdown",
   "metadata": {
    "collapsed": false
   },
   "source": [
    "**Tune AdaBoost**: n_estimators, learning_rate"
   ]
  },
  {
   "cell_type": "code",
   "execution_count": 288,
   "metadata": {
    "collapsed": false
   },
   "outputs": [
    {
     "name": "stdout",
     "output_type": "stream",
     "text": [
      "AdaBoostClassifier(algorithm='SAMME.R',\n",
      "          base_estimator=DecisionTreeClassifier(class_weight=None, criterion='gini', max_depth=8,\n",
      "            max_features=None, max_leaf_nodes=None, min_samples_leaf=1,\n",
      "            min_samples_split=2, min_weight_fraction_leaf=0.0,\n",
      "            random_state=None, splitter='best'),\n",
      "          learning_rate=1, n_estimators=40, random_state=None)\n",
      "0.59\n"
     ]
    }
   ],
   "source": [
    "parameters = {'n_estimators' : [5, 10, 30, 40, 50, 100,150], 'learning_rate' : [0.1, 0.5, 1, 1.5, 2, 2.5,3,3.5]}\n",
    "ada_clf=AdaBoostClassifier(DecisionTreeClassifier(max_depth=8))\n",
    "adaclft=grid_search.GridSearchCV(ada_clf,parameters,scoring=scorer,cv=shuffle)\n",
    "adaclft.fit(features,labels)\n",
    "\n",
    "print adaclft.best_estimator_\n",
    "print adaclft.best_score_"
   ]
  },
  {
   "cell_type": "markdown",
   "metadata": {},
   "source": [
    "**Tune K Neighbors**: n_neighbors, weights, leaf_size,p"
   ]
  },
  {
   "cell_type": "code",
   "execution_count": 297,
   "metadata": {
    "collapsed": false
   },
   "outputs": [
    {
     "name": "stdout",
     "output_type": "stream",
     "text": [
      "KNeighborsClassifier(algorithm='auto', leaf_size=20, metric='minkowski',\n",
      "           metric_params=None, n_neighbors=3, p=1, weights='uniform')\n",
      "0.61\n"
     ]
    }
   ],
   "source": [
    "parameters={'n_neighbors':[3,4,5,6,7],'weights':['uniform','distance'], 'leaf_size':[10,20,30,40,50],'p':[1,2]}\n",
    "kn_clf=KNeighborsClassifier()\n",
    "knclft=grid_search.GridSearchCV(kn_clf,parameters,scoring=scorer,cv=shuffle)\n",
    "knclft.fit(features,labels)\n",
    "\n",
    "print knclft.best_estimator_\n",
    "print knclft.best_score_"
   ]
  },
  {
   "cell_type": "markdown",
   "metadata": {},
   "source": [
    "Test classifier\n",
    "--------------\n",
    "Random Forest best estimator"
   ]
  },
  {
   "cell_type": "code",
   "execution_count": null,
   "metadata": {
    "collapsed": true
   },
   "outputs": [],
   "source": [
    "### Task 5: Tune your classifier to achieve better than .3 precision and recall                                                                  \n",
    "### using our testing script. Check the tester.py script in the final project                                                                    \n",
    "### folder for details on the evaluation method, especially the test_classifier                                                                  \n",
    "### function. Because of the small size of the dataset, the script uses            \n",
    "### stratified shuffle split cross validation. For more info:                                                                                    \n",
    "### http://scikit-learn.org/stable/modules/generated/sklearn.cross_validation.StratifiedShuffleSplit.html                                        \n",
    "from tester import test_classifier\n",
    "\n",
    "rf_best_clf=rfclf.best_estimator_\n",
    "#from dataframe to dictionary: df_scaled\n",
    "\n",
    "test_classifier(rf_best_clf,enron_dict,)\n"
   ]
  },
  {
   "cell_type": "code",
   "execution_count": null,
   "metadata": {
    "collapsed": true
   },
   "outputs": [],
   "source": [
    "\n"
   ]
  },
  {
   "cell_type": "code",
   "execution_count": null,
   "metadata": {
    "collapsed": true
   },
   "outputs": [],
   "source": [
    "# Example starting point. Try investigating other evaluation techniques!                                                                         \n",
    "from sklearn.cross_validation import train_test_split\n",
    "features_train, features_test, labels_train, labels_test = \\\n",
    "    train_test_split(features, labels, test_size=0.3, random_state=42)\n",
    "    \n",
    "    "
   ]
  },
  {
   "cell_type": "code",
   "execution_count": null,
   "metadata": {
    "collapsed": true
   },
   "outputs": [],
   "source": [
    "### Task 6: Dump your classifier, dataset, and features_list so anyone can                                                                       \n",
    "### check your results. You do not need to change anything below, but make sure                                                                  \n",
    "### that the version of poi_id.py that you submit can be run on its own and                                                                      \n",
    "### generates the necessary .pkl files for validating your results.                                                                              \n",
    "\n",
    "dump_classifier_and_data(clf, my_dataset, features_list)"
   ]
  }
 ],
 "metadata": {
  "kernelspec": {
   "display_name": "Python 2",
   "language": "python",
   "name": "python2"
  },
  "language_info": {
   "codemirror_mode": {
    "name": "ipython",
    "version": 2
   },
   "file_extension": ".py",
   "mimetype": "text/x-python",
   "name": "python",
   "nbconvert_exporter": "python",
   "pygments_lexer": "ipython2",
   "version": "2.7.12"
  }
 },
 "nbformat": 4,
 "nbformat_minor": 0
}
